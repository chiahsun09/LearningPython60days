{
  "nbformat": 4,
  "nbformat_minor": 0,
  "metadata": {
    "accelerator": "GPU",
    "colab": {
      "name": "Day_23_作業.ipynb",
      "private_outputs": true,
      "provenance": [],
      "collapsed_sections": []
    },
    "kernelspec": {
      "display_name": "Python 3",
      "language": "python",
      "name": "python3"
    },
    "language_info": {
      "codemirror_mode": {
        "name": "ipython",
        "version": 3
      },
      "file_extension": ".py",
      "mimetype": "text/x-python",
      "name": "python",
      "nbconvert_exporter": "python",
      "pygments_lexer": "ipython3",
      "version": "3.8.5"
    }
  },
  "cells": [
    {
      "cell_type": "markdown",
      "metadata": {
        "id": "dA_JaVIvWr4V"
      },
      "source": [
        "目標: 了解利用 PANDAS 整理資料, 利用資料視覺化可以很快的判斷結果\n",
        "\n",
        "重點: 資料整理與視覺化可以加速理解機器學習\n",
        "\n",
        "作業: (1) 繪製 SWARM \n",
        "    (2) 繪製 FaceGrid"
      ]
    },
    {
      "cell_type": "code",
      "metadata": {
        "id": "MQfEEuguEAoT"
      },
      "source": [
        "# 載入相關的程式庫\n",
        "import pandas as pd\n",
        "import numpy as np\n",
        "import seaborn as sns\n",
        "import matplotlib as mpl\n",
        "import matplotlib.pyplot as plt\n",
        "from mpl_toolkits.mplot3d import Axes3D"
      ],
      "execution_count": null,
      "outputs": []
    },
    {
      "cell_type": "code",
      "metadata": {
        "id": "OXUxddhaEe2i"
      },
      "source": [
        "### 利用 PANDAS 取得酒的品質資料 \n",
        "df_red = pd.read_csv(\"winequality_red.csv\")\n",
        "df_white = pd.read_csv(\"winequality_white.csv\")"
      ],
      "execution_count": null,
      "outputs": []
    },
    {
      "cell_type": "code",
      "metadata": {
        "id": "rOyhPjN4UgoC"
      },
      "source": [
        "#資料整理\n",
        "df_red[\"color\"] = \"R\"\n",
        "df_white[\"color\"] = \"W\"\n",
        "\n",
        "#整合紅酒與白酒的資料\n",
        "df_all=pd.concat([df_red,df_white],axis=0)\n",
        "\n",
        "# 檢查合併後的資料集\n",
        "df_all.head()"
      ],
      "execution_count": null,
      "outputs": []
    },
    {
      "cell_type": "code",
      "metadata": {
        "id": "1hqiCnPnYaRH"
      },
      "source": [
        "df_all.rename(columns={'fixed acidity': 'fixed_acidity','citric acid':'citric_acid',\n",
        "                       'volatile acidity':'volatile_acidity','residual sugar':'residual_sugar',\n",
        "                       'free sulfur dioxide':'free_sulfur_dioxide',\n",
        "                       'total sulfur dioxide':'total_sulfur_dioxide'}, inplace=True)\n",
        "# 檢查合併後的資料集\n",
        "df_all.head()"
      ],
      "execution_count": null,
      "outputs": []
    },
    {
      "cell_type": "code",
      "metadata": {
        "id": "poJwsLZiZGqH"
      },
      "source": [
        "#處理缺失值\n",
        "df = pd.get_dummies(df_all, columns=[\"color\"])\n",
        "df_all.isnull().sum()"
      ],
      "execution_count": null,
      "outputs": []
    },
    {
      "cell_type": "code",
      "metadata": {
        "id": "j8IU9ybXcc0e"
      },
      "source": [
        "'''\n",
        "Swarm沿分類軸(質量)調整記錄。這種繪圖將記錄分別標記,而不會重疊。這就是為什麼它最適合小型數據集的原因。\n",
        "在此圖表中,您可以看到硫酸鹽的數量,根據品質。品質值為 6 的硫酸鹽密度最高,品質等級為 9 和 3 的最低\n",
        "'''\n",
        "'''\n",
        "#在此一區域寫下程式碼\n",
        "使用sns.catplot\n",
        "'''\n",
        "sns.catplot(x=\"quality\", y=\"sulphates\", kind=\"swarm\", data=df_all);\n"
      ],
      "execution_count": null,
      "outputs": []
    },
    {
      "cell_type": "code",
      "metadata": {
        "id": "ykvWxq7dc0It"
      },
      "source": [
        "'''\n",
        "PairGrid 允許我們使用相同的繪圖類型繪製子圖網格來可視化數據。\n",
        "與 FacetGrid 不同,它在每個子圖使用不同的變數對。它形成子圖的矩陣。它有時也被稱為\"散點圖矩陣\"。\n",
        "對網格的用法與分面網格類似。首先初始化網格,然後傳遞繪圖函數。\n",
        "'''\n",
        "'''\n",
        "#在此一區域寫下程式碼\n",
        "#設定底圖樣式\n",
        "sns.set(style=\"white\")\n",
        "\n",
        "#利用PairGrid 繪製對角圖\n",
        "使用 sns.PairGrid\n",
        "g.map_upper\n",
        "g.map_lower\n",
        "g.map_diag\n",
        "'''\n",
        "sns.set(style=\"white\")\n",
        "g = sns.PairGrid(df_all,diag_sharey=False)\n",
        "g.map_upper(plt.scatter)\n",
        "g.map_lower(sns.kdeplot)\n",
        "g.map_diag(sns.kdeplot, lw=2);\n"
      ],
      "execution_count": null,
      "outputs": []
    },
    {
      "cell_type": "code",
      "metadata": {
        "id": "AQGO_2AaJEs8"
      },
      "source": [
        ""
      ],
      "execution_count": null,
      "outputs": []
    }
  ]
}