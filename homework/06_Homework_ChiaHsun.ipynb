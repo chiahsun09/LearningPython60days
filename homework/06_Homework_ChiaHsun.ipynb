{
  "nbformat": 4,
  "nbformat_minor": 0,
  "metadata": {
    "colab": {
      "name": "06 Homework_ChiaHsun.ipynb",
      "provenance": []
    },
    "kernelspec": {
      "display_name": "Python 3",
      "language": "python",
      "name": "python3"
    },
    "language_info": {
      "codemirror_mode": {
        "name": "ipython",
        "version": 3
      },
      "file_extension": ".py",
      "mimetype": "text/x-python",
      "name": "python",
      "nbconvert_exporter": "python",
      "pygments_lexer": "ipython3",
      "version": "3.6.5"
    }
  },
  "cells": [
    {
      "cell_type": "markdown",
      "metadata": {
        "id": "P6xk2_jLsvFF"
      },
      "source": [
        "# [作業目標]\n",
        "\n",
        "1. [簡答題] 請問下列這三種方法有什麼不同？\n",
        "\n",
        "```\n",
        "print(a.sum()) \n",
        "print(np.sum(a))\n",
        "print(sum(a)) \n",
        "```\n",
        "\n",
        "2. 請對一個 5x5 的隨機矩陣作正規化的操作。\n",
        "\n",
        "3. 請建立一個長度等於 10 的正整數向量，並且將其中的最大值改成 -1。\n"
      ]
    },
    {
      "cell_type": "markdown",
      "metadata": {
        "id": "uXGll28asvFS"
      },
      "source": [
        "# 作業 "
      ]
    },
    {
      "cell_type": "markdown",
      "metadata": {
        "id": "lbz8VjL6jxyL"
      },
      "source": [
        "### 1. [簡答題] 請問下列這三種方法有什麼不同？\n",
        "\n",
        "```\n",
        "print(a.sum()) \n",
        "print(np.sum(a))\n",
        "print(sum(a)) \n",
        "```\n",
        "\n"
      ]
    },
    {
      "cell_type": "code",
      "metadata": {
        "id": "5QrYoyNWsvFS",
        "colab": {
          "base_uri": "https://localhost:8080/"
        },
        "outputId": "df5e589b-f240-40b5-db1e-f546ca8480c2"
      },
      "source": [
        "import numpy as np\n",
        "a=np.arange(5)\n",
        "print(a.sum()) ##是陣列的函數,定義在array下\n",
        "print(np.sum(a)) #是陣列的函數,定義在np下\n",
        "print(sum(a)) #是Python 內建函數"
      ],
      "execution_count": 2,
      "outputs": [
        {
          "output_type": "stream",
          "text": [
            "[0 1 2 3 4]\n",
            "10\n",
            "[0 1 2 3 4]\n",
            "10\n",
            "[0 1 2 3 4]\n",
            "10\n"
          ],
          "name": "stdout"
        }
      ]
    },
    {
      "cell_type": "markdown",
      "metadata": {
        "id": "vVrjBXabjxyS"
      },
      "source": [
        "### 2. 請對一個 5x5 的隨機矩陣作正規化的操作。\n"
      ]
    },
    {
      "cell_type": "code",
      "metadata": {
        "id": "e1gVI0tvsvFY",
        "colab": {
          "base_uri": "https://localhost:8080/"
        },
        "outputId": "15bcd8f0-0a6a-4bec-a98f-182d72f0ddf7"
      },
      "source": [
        "import numpy as np\n",
        "A = np.random.random((5, 5))\n",
        "\n",
        "A=(A-A.min())/(A.max()-A.min())\n",
        "\n",
        "print(A)\n"
      ],
      "execution_count": 8,
      "outputs": [
        {
          "output_type": "stream",
          "text": [
            "[[1.         0.65486974 0.54990303 0.08827081 0.5694094 ]\n",
            " [0.37296558 0.80980903 0.6283209  0.75946607 0.05436091]\n",
            " [0.07279762 0.27956607 0.59105173 0.36380537 0.15113063]\n",
            " [0.06135334 0.26231941 0.79667776 0.         0.09689286]\n",
            " [0.32130113 0.58268839 0.61079432 0.27423473 0.97387529]]\n"
          ],
          "name": "stdout"
        }
      ]
    },
    {
      "cell_type": "markdown",
      "metadata": {
        "id": "Ptc3ZrNQjxyU"
      },
      "source": [
        "### 3. 請建立一個長度等於 10 的正整數向量，並且將其中的最大值改成 -1。\n"
      ]
    },
    {
      "cell_type": "code",
      "metadata": {
        "id": "Yu1kbLxojxyU",
        "colab": {
          "base_uri": "https://localhost:8080/"
        },
        "outputId": "88da7031-bee2-4649-f18b-fa1bf7e2591f"
      },
      "source": [
        "B = np.random.random(10)\n",
        "B[(B.argmax())]=-1\n",
        "B"
      ],
      "execution_count": 16,
      "outputs": [
        {
          "output_type": "execute_result",
          "data": {
            "text/plain": [
              "array([ 0.95451675,  0.18087505,  0.39571989,  0.97307646,  0.56389185,\n",
              "        0.70530359,  0.83339229,  0.12291947,  0.88271232, -1.        ])"
            ]
          },
          "metadata": {
            "tags": []
          },
          "execution_count": 16
        }
      ]
    }
  ]
}