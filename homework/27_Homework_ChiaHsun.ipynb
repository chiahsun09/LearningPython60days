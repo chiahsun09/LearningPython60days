{
  "nbformat": 4,
  "nbformat_minor": 0,
  "metadata": {
    "colab": {
      "name": "作業.ipynb",
      "provenance": [],
      "collapsed_sections": []
    },
    "kernelspec": {
      "display_name": "Python 3",
      "language": "python",
      "name": "python3"
    },
    "language_info": {
      "codemirror_mode": {
        "name": "ipython",
        "version": 3
      },
      "file_extension": ".py",
      "mimetype": "text/x-python",
      "name": "python",
      "nbconvert_exporter": "python",
      "pygments_lexer": "ipython3",
      "version": "3.6.10"
    }
  },
  "cells": [
    {
      "cell_type": "markdown",
      "metadata": {
        "id": "H-z4L8J371GO"
      },
      "source": [
        "## 作業:\n",
        "今天學到不同統計量之間特性，  \n",
        "試著分析男生女生身高資料，  \n",
        "試著回答下面的問題:  \n",
        "Q1:試著用今天所教的內容，如何描述這兩組資料的樣態?    \n",
        "Q2: 請問男生和女生在平均身高上誰比較高?   \n",
        "Q3:請問第二題的答案和日常生活中觀察的一致嗎? 如果不一致，你覺得原因可能為何?    \n",
        "上述問題透過  python 語法進行運算，\n",
        "並將上述答案填寫在 (google 表單)[https://docs.google.com/forms/d/e/1FAIpQLSdDzwpeJl8YLPwZaW8pBZvtuXY9kIbbZLqxcXyzFaoraV5JEA/viewform ]\n",
        "![](作業資料圖檔.PNG)"
      ]
    },
    {
      "cell_type": "code",
      "metadata": {
        "collapsed": true,
        "id": "yz28_IgkYdBW"
      },
      "source": [
        "# library\n",
        "import matplotlib.pyplot as plt\n",
        "import numpy as np\n",
        "import pandas as pd\n",
        "from scipy import stats\n",
        "import math\n",
        "import statistics\n",
        "import seaborn as sns"
      ],
      "execution_count": 1,
      "outputs": []
    },
    {
      "cell_type": "code",
      "metadata": {
        "id": "3NtzuWtt71GU"
      },
      "source": [
        "## 輸入資料\n",
        "'''\n",
        "你的程式碼\n",
        "'''\n",
        "boy=[164,176,169,169,165,175,159,151,144,160,183,165,156,170,164,173,165,163,177,171]\n",
        "girl=[169,183,170,168,182,170,173,185,151,156,162,169,162,181,159,154,167,175,170,160]"
      ],
      "execution_count": 2,
      "outputs": []
    },
    {
      "cell_type": "code",
      "metadata": {
        "id": "uDM9AzrY71GW",
        "colab": {
          "base_uri": "https://localhost:8080/",
          "height": 35
        },
        "outputId": "5c2024d0-de9b-4fdb-f991-123289f510c3"
      },
      "source": [
        "#Q1:試著用今天所教的內容，如何描述這兩組資料的樣態?\n",
        "#暗示:  分別計算男生和女生的統計量\n",
        "'''\n",
        "你的答案\n",
        "'''"
      ],
      "execution_count": 35,
      "outputs": [
        {
          "output_type": "execute_result",
          "data": {
            "application/vnd.google.colaboratory.intrinsic+json": {
              "type": "string"
            },
            "text/plain": [
              "'\\n你的答案\\n'"
            ]
          },
          "metadata": {},
          "execution_count": 35
        }
      ]
    },
    {
      "cell_type": "code",
      "metadata": {
        "colab": {
          "base_uri": "https://localhost:8080/"
        },
        "id": "niNDMWkbmH_5",
        "outputId": "60ab4385-acc9-4fd7-ba99-838543b20a19"
      },
      "source": [
        "#使用numpy\n",
        "print(\"男生平均身高:\",np.mean(boy))\n",
        "print(\"女生平均身高:\",np.mean(girl))\n",
        "\n",
        "#使用statistics\n",
        "print(\"男生平均身高:\",statistics.mean(boy))\n",
        "print(\"女生平均身高:\",statistics.mean(girl))"
      ],
      "execution_count": 26,
      "outputs": [
        {
          "output_type": "stream",
          "name": "stdout",
          "text": [
            "男生平均身高: 165.95\n",
            "女生平均身高: 168.3\n",
            "男生平均身高: 165.95\n",
            "女生平均身高: 168.3\n"
          ]
        }
      ]
    },
    {
      "cell_type": "code",
      "metadata": {
        "colab": {
          "base_uri": "https://localhost:8080/"
        },
        "id": "qPKlB89yPphy",
        "outputId": "a7580107-41c2-49b5-bb5f-8bc8cd5e3611"
      },
      "source": [
        "#使用numpy\n",
        "print(\"男生中位數:\",np.median(boy))\n",
        "print(\"女生中位數:\",np.median(girl))\n",
        "#使用statistics\n",
        "print(\"男生中位數:\",statistics.median(boy))\n",
        "print(\"女生中位數:\",statistics.median(girl))"
      ],
      "execution_count": 27,
      "outputs": [
        {
          "output_type": "stream",
          "name": "stdout",
          "text": [
            "男生中位數: 165.0\n",
            "女生中位數: 169.0\n",
            "男生中位數: 165.0\n",
            "女生中位數: 169.0\n"
          ]
        }
      ]
    },
    {
      "cell_type": "code",
      "metadata": {
        "colab": {
          "base_uri": "https://localhost:8080/"
        },
        "id": "TEXyWnfFkqdE",
        "outputId": "b7c5f004-30bd-4f6d-c547-99ca09fcec35"
      },
      "source": [
        "#使用stats\n",
        "print(stats.mode(boy))\n",
        "print(\"男生身高眾數\",stats.mode(boy)[0][0])\n",
        "#使用statistics\n",
        "print(\"男生身高眾數:\",statistics.mode(boy))\n",
        "print(\"女生身高眾數:\",statistics.mode(girl))"
      ],
      "execution_count": 29,
      "outputs": [
        {
          "output_type": "stream",
          "name": "stdout",
          "text": [
            "ModeResult(mode=array([165]), count=array([3]))\n",
            "男生身高眾數 165\n",
            "男生身高眾數: 165\n",
            "女生身高眾數: 170\n"
          ]
        }
      ]
    },
    {
      "cell_type": "code",
      "metadata": {
        "colab": {
          "base_uri": "https://localhost:8080/"
        },
        "id": "q9Dzf-K3nUF7",
        "outputId": "92bc0191-948b-4486-c76f-427e97903c9f"
      },
      "source": [
        "def rangeV(x):\n",
        "    return(max(x)-min(x))\n",
        "\n",
        "print(\"男生全距:\",rangeV(boy))\n",
        "print(\"女生全距:\",rangeV(girl))"
      ],
      "execution_count": 33,
      "outputs": [
        {
          "output_type": "stream",
          "name": "stdout",
          "text": [
            "男生全距: 39\n",
            "女生全距: 34\n"
          ]
        }
      ]
    },
    {
      "cell_type": "code",
      "metadata": {
        "colab": {
          "base_uri": "https://localhost:8080/"
        },
        "id": "CajBR7Avn8uG",
        "outputId": "158ec573-54c0-4132-f7bc-bec58882a350"
      },
      "source": [
        "#計算變異數\n",
        "print(\"男生身高變異數:\",statistics.variance(boy))\n",
        "print(\"女生身高變異數:\",statistics.variance(girl))\n",
        "\n",
        "print(\"男生身高變異數:\",np.var(boy,ddof=1))\n",
        "print(\"女生身高變異數:\",np.var(girl,ddof=1))"
      ],
      "execution_count": 43,
      "outputs": [
        {
          "output_type": "stream",
          "name": "stdout",
          "text": [
            "男生身高變異數: 84.89210526315789\n",
            "女生身高變異數: 95.37894736842105\n",
            "男生身高變異數: 84.89210526315789\n",
            "女生身高變異數: 95.37894736842104\n"
          ]
        }
      ]
    },
    {
      "cell_type": "code",
      "metadata": {
        "colab": {
          "base_uri": "https://localhost:8080/"
        },
        "id": "uI6OZIMuql8h",
        "outputId": "9bad86a9-267f-44e4-9607-d6c8b169e253"
      },
      "source": [
        "print(\"男生身高標準差:\",np.std(boy,ddof=1))\n",
        "print(\"女生身高標準差:\",np.std(girl,ddof=1))\n",
        "print(\"男生身高標準差:\",statistics.stdev(boy))\n",
        "print(\"女生身高標準差:\",statistics.stdev(girl))\n",
        "\n",
        "#另一種方法\n",
        "print(\"男生身高標準差:\",np.sqrt(np.var(boy,ddof=1)))"
      ],
      "execution_count": 51,
      "outputs": [
        {
          "output_type": "stream",
          "name": "stdout",
          "text": [
            "男生身高標準差: 9.213691185575838\n",
            "女生身高標準差: 9.766214587465353\n",
            "男生身高標準差: 9.213691185575838\n",
            "女生身高標準差: 9.766214587465353\n",
            "男生身高標準差: 9.213691185575838\n"
          ]
        }
      ]
    },
    {
      "cell_type": "code",
      "metadata": {
        "colab": {
          "base_uri": "https://localhost:8080/"
        },
        "id": "TLoub9fur30Z",
        "outputId": "d2a06de7-c55e-43e4-e421-cc0c55022bf2"
      },
      "source": [
        "#python 百分位\n",
        "#numpy\n",
        "print(\"男生90百分位數:\",np.percentile(boy,90))\n",
        "print(\"男生50百分位數:\",np.percentile(boy,50))\n",
        "print(\"男生20百分位數:\",np.percentile(boy,20))\n",
        "\n",
        "print(\"女生90百分位數:\",np.percentile(girl,90))\n",
        "print(\"女生50百分位數:\",np.percentile(girl,50))\n",
        "print(\"女生20百分位數:\",np.percentile(girl,20))\n",
        "\n",
        "#另一種方法,使用stats\n",
        "print(\"男生20百分位數:\",stats.scoreatpercentile(boy,20))"
      ],
      "execution_count": 57,
      "outputs": [
        {
          "output_type": "stream",
          "name": "stdout",
          "text": [
            "男生90百分位數: 176.1\n",
            "男生50百分位數: 165.0\n",
            "男生20百分位數: 159.8\n",
            "女生90百分位數: 182.1\n",
            "女生50百分位數: 169.0\n",
            "女生20百分位數: 159.8\n",
            "男生20百分位數: 159.8\n"
          ]
        }
      ]
    },
    {
      "cell_type": "code",
      "metadata": {
        "colab": {
          "base_uri": "https://localhost:8080/"
        },
        "id": "oU3Q3cPvtaMz",
        "outputId": "42c549ae-113f-4893-e49a-d1d991fbcaa1"
      },
      "source": [
        "print(\"男生身高的偏態:\",stats.skew(boy))\n",
        "print(\"男生身高的峰度:\",stats.kurtosis(boy))\n",
        "\n",
        "print(\"女生身高的偏態:\",stats.skew(girl))\n",
        "print(\"女生身高的峰度:\",stats.kurtosis(girl))"
      ],
      "execution_count": 63,
      "outputs": [
        {
          "output_type": "stream",
          "name": "stdout",
          "text": [
            "男生身高的偏態: -0.47132127317376954\n",
            "男生身高的峰度: 0.19395882957876331\n",
            "女生身高的偏態: 0.05985321129365068\n",
            "女生身高的峰度: -0.8203607083948947\n"
          ]
        }
      ]
    },
    {
      "cell_type": "code",
      "metadata": {
        "colab": {
          "base_uri": "https://localhost:8080/",
          "height": 281
        },
        "id": "0_tS7clUPuJJ",
        "outputId": "23a5c512-60df-40f1-8a2f-936807ae2a86"
      },
      "source": [
        "plt.hist(boy,alpha=.4,bins=40)\n",
        "plt.title('boy.skewness={0},kurtosis={1}'.format(round(stats.skew(boy),2),round(stats.kurtosis(boy),2)))\n",
        "plt.axvline(np.mean(boy))\n",
        "plt.show()"
      ],
      "execution_count": 75,
      "outputs": [
        {
          "output_type": "display_data",
          "data": {
            "image/png": "[encoded data removed]",
            "text/plain": [
              "<Figure size 432x288 with 1 Axes>"
            ]
          },
          "metadata": {
            "needs_background": "light"
          }
        }
      ]
    },
    {
      "cell_type": "code",
      "metadata": {
        "colab": {
          "base_uri": "https://localhost:8080/",
          "height": 281
        },
        "id": "YxaZS_E4xvrz",
        "outputId": "3f950ef4-b502-447f-a14a-6a946fbe97b2"
      },
      "source": [
        "plt.hist(girl,alpha=.4,bins=40,color='r')\n",
        "plt.title('girl.skewness={0},kurtosis={1}'.format(round(stats.skew(girl),2),round(stats.kurtosis(girl),2)))\n",
        "plt.axvline(np.mean(girl))\n",
        "plt.show()"
      ],
      "execution_count": 76,
      "outputs": [
        {
          "output_type": "display_data",
          "data": {
            "image/png": "[encoded data removed]",
            "text/plain": [
              "<Figure size 432x288 with 1 Axes>"
            ]
          },
          "metadata": {
            "needs_background": "light"
          }
        }
      ]
    },
    {
      "cell_type": "code",
      "metadata": {
        "colab": {
          "base_uri": "https://localhost:8080/",
          "height": 298
        },
        "id": "Ov3OTcMUuPn7",
        "outputId": "a2a59098-6564-4b6a-da40-a48f6c3772e7"
      },
      "source": [
        "sns.histplot(boy),sns.histplot(girl,color='r')"
      ],
      "execution_count": 67,
      "outputs": [
        {
          "output_type": "execute_result",
          "data": {
            "text/plain": [
              "(<matplotlib.axes._subplots.AxesSubplot at 0x7f2cba2c2c90>,\n",
              " <matplotlib.axes._subplots.AxesSubplot at 0x7f2cba2c2c90>)"
            ]
          },
          "metadata": {},
          "execution_count": 67
        },
        {
          "output_type": "display_data",
          "data": {
            "image/png": "[encoded data removed]",
            "text/plain": [
              "<Figure size 432x288 with 1 Axes>"
            ]
          },
          "metadata": {
            "needs_background": "light"
          }
        }
      ]
    },
    {
      "cell_type": "code",
      "metadata": {
        "id": "xH_GNsC271GW",
        "colab": {
          "base_uri": "https://localhost:8080/",
          "height": 35
        },
        "outputId": "84b4980f-b60e-41a4-bef5-8d2606188486"
      },
      "source": [
        "#Q2: 請問男生和女生在平均身高上誰比較高? \n",
        "'''\n",
        "女生\n",
        "'''"
      ],
      "execution_count": 77,
      "outputs": [
        {
          "output_type": "execute_result",
          "data": {
            "application/vnd.google.colaboratory.intrinsic+json": {
              "type": "string"
            },
            "text/plain": [
              "'\\n女生\\n'"
            ]
          },
          "metadata": {},
          "execution_count": 77
        }
      ]
    },
    {
      "cell_type": "code",
      "metadata": {
        "id": "xAzZU0Dv71GX",
        "colab": {
          "base_uri": "https://localhost:8080/",
          "height": 35
        },
        "outputId": "b7dbebbf-cfd1-4783-f2e6-81c3cb47ee36"
      },
      "source": [
        "#Q3:請問第二題的答案和日常生活中觀察的一致嗎? 如果不一致，你覺得原因可能為何? \n",
        "'''\n",
        "不一致，樣本抽樣可能剛好取到女生較高的部份，不代表整個母體的特性。因此做樣本抽樣時要特別小心\n",
        "'''"
      ],
      "execution_count": 78,
      "outputs": [
        {
          "output_type": "execute_result",
          "data": {
            "application/vnd.google.colaboratory.intrinsic+json": {
              "type": "string"
            },
            "text/plain": [
              "'\\n不一致，樣本抽樣可能剛好取到女生較高的部份，不代表整個母體的特性。因此做樣本抽樣時要特別小心\\n'"
            ]
          },
          "metadata": {},
          "execution_count": 78
        }
      ]
    }
  ]
}