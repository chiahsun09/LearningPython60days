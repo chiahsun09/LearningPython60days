{
  "nbformat": 4,
  "nbformat_minor": 0,
  "metadata": {
    "colab": {
      "name": "探索性資料分析 (EDA) 異常值偵測_HW.ipynb",
      "provenance": [],
      "toc_visible": true
    },
    "kernelspec": {
      "display_name": "Python 3",
      "language": "python",
      "name": "python3"
    },
    "language_info": {
      "codemirror_mode": {
        "name": "ipython",
        "version": 3
      },
      "file_extension": ".py",
      "mimetype": "text/x-python",
      "name": "python",
      "nbconvert_exporter": "python",
      "pygments_lexer": "ipython3",
      "version": "3.6.1"
    }
  },
  "cells": [
    {
      "cell_type": "markdown",
      "metadata": {
        "id": "ZRKRVXggy924"
      },
      "source": [
        "## 作業\n",
        "在鐵達尼資料集中，   \n",
        "可以用今天範例中提到的三種辨識異常值的方法，  \n",
        "以 training data 為資料集。  \n",
        "1.觀察票價是否有異常值的現象?  \n",
        "2.你覺得找出的異常是真的異常? 你覺得需要做處理嗎?  \n",
        "(試著講出自己的想法。)  \n"
      ]
    },
    {
      "cell_type": "markdown",
      "metadata": {
        "id": "Z9YHBcEGYdBV"
      },
      "source": [
        "### 資料\n",
        "鐵達尼號 train 資料集\n"
      ]
    },
    {
      "cell_type": "code",
      "metadata": {
        "collapsed": true,
        "id": "yz28_IgkYdBW"
      },
      "source": [
        "# library\n",
        "import matplotlib.pyplot as plt\n",
        "import numpy as np\n",
        "import pandas as pd\n",
        "import seaborn  as sns\n",
        "from scipy import stats\n",
        "import math\n",
        "import statistics\n",
        "#讓圖可以在 jupyter notebook顯示\n",
        "#%matplotlib inline"
      ],
      "execution_count": 21,
      "outputs": []
    },
    {
      "cell_type": "code",
      "metadata": {
        "collapsed": true,
        "id": "DjAF5BcLy92_"
      },
      "source": [
        "df_train = pd.read_csv(\"Titanic_train.csv\")"
      ],
      "execution_count": 22,
      "outputs": []
    },
    {
      "cell_type": "markdown",
      "metadata": {
        "id": "0wzxTuBwy92_"
      },
      "source": [
        "### 探索性分析:\n",
        "*  觀察-是否有異常值  \n",
        "我們來觀察一下 Fare 變數吧!!"
      ]
    },
    {
      "cell_type": "markdown",
      "metadata": {
        "id": "TssyQiM4y93A"
      },
      "source": [
        "## Q1:觀察票價是否有異常值的現象?"
      ]
    },
    {
      "cell_type": "markdown",
      "metadata": {
        "id": "R4VCrJOfy93A"
      },
      "source": [
        "## 方法1\n",
        "* 進行一個描述性的統計（規定範圍），從而檢視哪些值是不合理的（範圍以外的值）。  \n"
      ]
    },
    {
      "cell_type": "code",
      "metadata": {
        "colab": {
          "base_uri": "https://localhost:8080/"
        },
        "id": "5AFM1BMuFMN6",
        "outputId": "ebf95ee6-3372-4d65-8bd9-28b7526889d6"
      },
      "source": [
        "df_train.info()"
      ],
      "execution_count": 23,
      "outputs": [
        {
          "output_type": "stream",
          "name": "stdout",
          "text": [
            "<class 'pandas.core.frame.DataFrame'>\n",
            "RangeIndex: 891 entries, 0 to 890\n",
            "Data columns (total 12 columns):\n",
            " #   Column       Non-Null Count  Dtype  \n",
            "---  ------       --------------  -----  \n",
            " 0   PassengerId  891 non-null    int64  \n",
            " 1   Survived     891 non-null    int64  \n",
            " 2   Pclass       891 non-null    int64  \n",
            " 3   Name         891 non-null    object \n",
            " 4   Sex          891 non-null    object \n",
            " 5   Age          714 non-null    float64\n",
            " 6   SibSp        891 non-null    int64  \n",
            " 7   Parch        891 non-null    int64  \n",
            " 8   Ticket       891 non-null    object \n",
            " 9   Fare         891 non-null    float64\n",
            " 10  Cabin        204 non-null    object \n",
            " 11  Embarked     889 non-null    object \n",
            "dtypes: float64(2), int64(5), object(5)\n",
            "memory usage: 83.7+ KB\n"
          ]
        }
      ]
    },
    {
      "cell_type": "code",
      "metadata": {
        "colab": {
          "base_uri": "https://localhost:8080/"
        },
        "id": "5jzsGbNRE_2x",
        "outputId": "8855e461-d024-45d5-b334-cfdbbbea59d4"
      },
      "source": [
        "df_train['Fare'].describe()"
      ],
      "execution_count": 24,
      "outputs": [
        {
          "output_type": "execute_result",
          "data": {
            "text/plain": [
              "count    891.000000\n",
              "mean      32.204208\n",
              "std       49.693429\n",
              "min        0.000000\n",
              "25%        7.910400\n",
              "50%       14.454200\n",
              "75%       31.000000\n",
              "max      512.329200\n",
              "Name: Fare, dtype: float64"
            ]
          },
          "metadata": {},
          "execution_count": 24
        }
      ]
    },
    {
      "cell_type": "code",
      "metadata": {
        "colab": {
          "base_uri": "https://localhost:8080/",
          "height": 297
        },
        "id": "ErDdGD6KFirf",
        "outputId": "d3f6ef45-67a8-43e7-95e4-c6c8aac14899"
      },
      "source": [
        "g=sns.FacetGrid(df_train,col=\"Survived\")\n",
        "g.map(sns.distplot,'Fare',kde=False)\n",
        "#票差相差較大，甚至有0元票價，不太合理，要查詢一下原因"
      ],
      "execution_count": 27,
      "outputs": [
        {
          "output_type": "stream",
          "name": "stderr",
          "text": [
            "/usr/local/lib/python3.7/dist-packages/seaborn/distributions.py:2619: FutureWarning: `distplot` is a deprecated function and will be removed in a future version. Please adapt your code to use either `displot` (a figure-level function with similar flexibility) or `histplot` (an axes-level function for histograms).\n",
            "  warnings.warn(msg, FutureWarning)\n"
          ]
        },
        {
          "output_type": "execute_result",
          "data": {
            "text/plain": [
              "<seaborn.axisgrid.FacetGrid at 0x7fe877203590>"
            ]
          },
          "metadata": {},
          "execution_count": 27
        },
        {
          "output_type": "display_data",
          "data": {
            "image/png": "[encoded data removed]",
            "text/plain": [
              "<Figure size 432x216 with 2 Axes>"
            ]
          },
          "metadata": {
            "needs_background": "light"
          }
        }
      ]
    },
    {
      "cell_type": "markdown",
      "metadata": {
        "id": "uCP6CZgqy93B"
      },
      "source": [
        "## 方法 2\n",
        "* 進行3倍標準差原則的計算，從而檢視哪些值是可疑的異常值。  \n"
      ]
    },
    {
      "cell_type": "code",
      "metadata": {
        "colab": {
          "base_uri": "https://localhost:8080/"
        },
        "id": "C7CY6b79FA7a",
        "outputId": "da5aff4d-971b-41a8-e255-e6bbdc453b52"
      },
      "source": [
        "import numpy as np\n",
        "\n",
        "def outfiles_z_score(ys,times):\n",
        "    mean_y=np.mean(ys)\n",
        "    stdev_y=np.std(ys)\n",
        "    z_scores=[(y-mean_y)/stdev_y for y in ys]\n",
        "    return np.where(np.abs(z_scores)>times)\n",
        "\n",
        "\n",
        "out_index=outfiles_z_score(df_train['Fare'],3) \n",
        "print(out_index[0])\n",
        "print(df_train.loc[out_index[0],'Fare'])\n",
        "\n",
        "#超過3倍標準差的值過多，"
      ],
      "execution_count": 28,
      "outputs": [
        {
          "output_type": "stream",
          "name": "stdout",
          "text": [
            "[ 27  88 118 258 299 311 341 377 380 438 527 557 679 689 700 716 730 737\n",
            " 742 779]\n",
            "27     263.0000\n",
            "88     263.0000\n",
            "118    247.5208\n",
            "258    512.3292\n",
            "299    247.5208\n",
            "311    262.3750\n",
            "341    263.0000\n",
            "377    211.5000\n",
            "380    227.5250\n",
            "438    263.0000\n",
            "527    221.7792\n",
            "557    227.5250\n",
            "679    512.3292\n",
            "689    211.3375\n",
            "700    227.5250\n",
            "716    227.5250\n",
            "730    211.3375\n",
            "737    512.3292\n",
            "742    262.3750\n",
            "779    211.3375\n",
            "Name: Fare, dtype: float64\n"
          ]
        }
      ]
    },
    {
      "cell_type": "markdown",
      "metadata": {
        "id": "jrEQQPYly93B"
      },
      "source": [
        "## 方法3-盒鬚圖判別法(IQR method)"
      ]
    },
    {
      "cell_type": "code",
      "metadata": {
        "id": "lgw8M86ZI4KJ"
      },
      "source": [
        "import numpy as np\n",
        "\n",
        "def outliers_iqr(ys,times):\n",
        "    quartile_1,quartile_3=np.nanpercentile(ys,[25,75])\n",
        "    iqr=quartile_3-quartile_1\n",
        "    lower_bound=quartile_1-(iqr*times)\n",
        "    upper_bound=quartile_3+(iqr*times)\n",
        "    return np.where((ys>upper_bound)|(ys<lower_bound))"
      ],
      "execution_count": 14,
      "outputs": []
    },
    {
      "cell_type": "code",
      "metadata": {
        "colab": {
          "base_uri": "https://localhost:8080/"
        },
        "id": "3P0s8NtTJzQN",
        "outputId": "1022f65c-0532-43a0-b31a-c6790571383f"
      },
      "source": [
        "out_index2=outliers_iqr(df_train['Fare'],1.5)\n",
        "print(out_index2)\n",
        "print(df_train.loc[out_index2[0],'Fare'])"
      ],
      "execution_count": 17,
      "outputs": [
        {
          "output_type": "stream",
          "name": "stdout",
          "text": [
            "(array([  1,  27,  31,  34,  52,  61,  62,  72,  88, 102, 118, 120, 124,\n",
            "       139, 151, 159, 180, 195, 201, 215, 218, 224, 230, 245, 256, 257,\n",
            "       258, 262, 268, 269, 275, 290, 291, 297, 299, 305, 306, 307, 310,\n",
            "       311, 318, 319, 324, 325, 332, 334, 336, 337, 341, 366, 369, 373,\n",
            "       375, 377, 380, 385, 390, 393, 412, 435, 438, 445, 453, 484, 486,\n",
            "       496, 498, 504, 505, 520, 527, 537, 540, 544, 550, 557, 558, 581,\n",
            "       585, 587, 591, 609, 627, 641, 645, 655, 659, 660, 665, 679, 681,\n",
            "       689, 698, 700, 708, 716, 730, 737, 741, 742, 745, 759, 763, 765,\n",
            "       779, 789, 792, 802, 820, 829, 835, 846, 849, 856, 863, 879]),)\n",
            "1       71.2833\n",
            "27     263.0000\n",
            "31     146.5208\n",
            "34      82.1708\n",
            "52      76.7292\n",
            "         ...   \n",
            "846     69.5500\n",
            "849     89.1042\n",
            "856    164.8667\n",
            "863     69.5500\n",
            "879     83.1583\n",
            "Name: Fare, Length: 116, dtype: float64\n"
          ]
        }
      ]
    },
    {
      "cell_type": "code",
      "metadata": {
        "colab": {
          "base_uri": "https://localhost:8080/",
          "height": 281
        },
        "id": "Xe-UAuhMKhfc",
        "outputId": "a7563757-c914-4517-b181-e7e474cc7f54"
      },
      "source": [
        "plt.boxplot(df_train['Fare'][~np.isnan(df_train['Fare'])],whis=1.5)\n",
        "plt.title('Box plot')\n",
        "plt.show()\n",
        "#超出1.5iqr的值相當多，要進一步檢視，是否因偏差值過多，而影響分析結果"
      ],
      "execution_count": 30,
      "outputs": [
        {
          "output_type": "display_data",
          "data": {
            "image/png": "[encoded data removed]",
            "text/plain": [
              "<Figure size 432x288 with 1 Axes>"
            ]
          },
          "metadata": {
            "needs_background": "light"
          }
        }
      ]
    },
    {
      "cell_type": "code",
      "metadata": {
        "colab": {
          "base_uri": "https://localhost:8080/"
        },
        "id": "U9CwwcXjOD52",
        "outputId": "68317ea5-047e-40a4-ad71-cc3d46a9413d"
      },
      "source": [
        "out_index3=outliers_iqr(df_train['Fare'],2)\n",
        "print(out_index3)\n",
        "print(df_train.loc[out_index3[0],'Fare'])"
      ],
      "execution_count": 29,
      "outputs": [
        {
          "output_type": "stream",
          "name": "stdout",
          "text": [
            "(array([ 27,  31,  34,  61,  62,  88, 102, 118, 124, 139, 195, 215, 224,\n",
            "       230, 245, 256, 257, 258, 262, 268, 269, 275, 290, 291, 297, 299,\n",
            "       305, 306, 307, 310, 311, 318, 319, 325, 332, 334, 337, 341, 373,\n",
            "       375, 377, 380, 390, 393, 412, 435, 438, 445, 453, 484, 486, 496,\n",
            "       498, 504, 505, 520, 527, 537, 544, 550, 557, 558, 581, 585, 587,\n",
            "       591, 609, 627, 659, 660, 679, 689, 698, 700, 708, 716, 730, 737,\n",
            "       741, 742, 759, 763, 765, 779, 789, 802, 820, 829, 835, 849, 856,\n",
            "       879]),)\n",
            "27     263.0000\n",
            "31     146.5208\n",
            "34      82.1708\n",
            "61      80.0000\n",
            "62      83.4750\n",
            "         ...   \n",
            "829     80.0000\n",
            "835     83.1583\n",
            "849     89.1042\n",
            "856    164.8667\n",
            "879     83.1583\n",
            "Name: Fare, Length: 92, dtype: float64\n"
          ]
        }
      ]
    },
    {
      "cell_type": "code",
      "metadata": {
        "colab": {
          "base_uri": "https://localhost:8080/",
          "height": 281
        },
        "id": "my6fZYCoOJaA",
        "outputId": "8dde2ddc-4338-463c-a170-db1e1cfdfa78"
      },
      "source": [
        "plt.boxplot(df_train['Fare'][~np.isnan(df_train['Fare'])],whis=2)\n",
        "plt.title('Box plot')\n",
        "plt.show()\n",
        "#超出2倍iqr值的相當多，要進一步檢視，是否因偏差值過多，而影響分析結果"
      ],
      "execution_count": 32,
      "outputs": [
        {
          "output_type": "display_data",
          "data": {
            "image/png": "[encoded data removed]",
            "text/plain": [
              "<Figure size 432x288 with 1 Axes>"
            ]
          },
          "metadata": {
            "needs_background": "light"
          }
        }
      ]
    },
    {
      "cell_type": "markdown",
      "metadata": {
        "id": "Rqbb5jUBy93C"
      },
      "source": [
        "## Q2:你覺得找出的異常是真的異常? 你覺得需要做處理嗎?\n"
      ]
    },
    {
      "cell_type": "markdown",
      "metadata": {
        "id": "OIwPrFF5Phcb"
      },
      "source": [
        "資料有分艙等，這應與票價有關，進一步觀察艙等與票價的分佈，若超出3倍標準差或1.5倍的iqr可考慮刪除。"
      ]
    },
    {
      "cell_type": "code",
      "metadata": {
        "colab": {
          "base_uri": "https://localhost:8080/",
          "height": 268
        },
        "id": "h51f_4KAPv4N",
        "outputId": "671c2859-a326-4d6e-ed2b-a13522e6cce6"
      },
      "source": [
        "df_train.corr()"
      ],
      "execution_count": 34,
      "outputs": [
        {
          "output_type": "execute_result",
          "data": {
            "text/html": [
              "<div>\n",
              "<style scoped>\n",
              "    .dataframe tbody tr th:only-of-type {\n",
              "        vertical-align: middle;\n",
              "    }\n",
              "\n",
              "    .dataframe tbody tr th {\n",
              "        vertical-align: top;\n",
              "    }\n",
              "\n",
              "    .dataframe thead th {\n",
              "        text-align: right;\n",
              "    }\n",
              "</style>\n",
              "<table border=\"1\" class=\"dataframe\">\n",
              "  <thead>\n",
              "    <tr style=\"text-align: right;\">\n",
              "      <th></th>\n",
              "      <th>PassengerId</th>\n",
              "      <th>Survived</th>\n",
              "      <th>Pclass</th>\n",
              "      <th>Age</th>\n",
              "      <th>SibSp</th>\n",
              "      <th>Parch</th>\n",
              "      <th>Fare</th>\n",
              "    </tr>\n",
              "  </thead>\n",
              "  <tbody>\n",
              "    <tr>\n",
              "      <th>PassengerId</th>\n",
              "      <td>1.000000</td>\n",
              "      <td>-0.005007</td>\n",
              "      <td>-0.035144</td>\n",
              "      <td>0.036847</td>\n",
              "      <td>-0.057527</td>\n",
              "      <td>-0.001652</td>\n",
              "      <td>0.012658</td>\n",
              "    </tr>\n",
              "    <tr>\n",
              "      <th>Survived</th>\n",
              "      <td>-0.005007</td>\n",
              "      <td>1.000000</td>\n",
              "      <td>-0.338481</td>\n",
              "      <td>-0.077221</td>\n",
              "      <td>-0.035322</td>\n",
              "      <td>0.081629</td>\n",
              "      <td>0.257307</td>\n",
              "    </tr>\n",
              "    <tr>\n",
              "      <th>Pclass</th>\n",
              "      <td>-0.035144</td>\n",
              "      <td>-0.338481</td>\n",
              "      <td>1.000000</td>\n",
              "      <td>-0.369226</td>\n",
              "      <td>0.083081</td>\n",
              "      <td>0.018443</td>\n",
              "      <td>-0.549500</td>\n",
              "    </tr>\n",
              "    <tr>\n",
              "      <th>Age</th>\n",
              "      <td>0.036847</td>\n",
              "      <td>-0.077221</td>\n",
              "      <td>-0.369226</td>\n",
              "      <td>1.000000</td>\n",
              "      <td>-0.308247</td>\n",
              "      <td>-0.189119</td>\n",
              "      <td>0.096067</td>\n",
              "    </tr>\n",
              "    <tr>\n",
              "      <th>SibSp</th>\n",
              "      <td>-0.057527</td>\n",
              "      <td>-0.035322</td>\n",
              "      <td>0.083081</td>\n",
              "      <td>-0.308247</td>\n",
              "      <td>1.000000</td>\n",
              "      <td>0.414838</td>\n",
              "      <td>0.159651</td>\n",
              "    </tr>\n",
              "    <tr>\n",
              "      <th>Parch</th>\n",
              "      <td>-0.001652</td>\n",
              "      <td>0.081629</td>\n",
              "      <td>0.018443</td>\n",
              "      <td>-0.189119</td>\n",
              "      <td>0.414838</td>\n",
              "      <td>1.000000</td>\n",
              "      <td>0.216225</td>\n",
              "    </tr>\n",
              "    <tr>\n",
              "      <th>Fare</th>\n",
              "      <td>0.012658</td>\n",
              "      <td>0.257307</td>\n",
              "      <td>-0.549500</td>\n",
              "      <td>0.096067</td>\n",
              "      <td>0.159651</td>\n",
              "      <td>0.216225</td>\n",
              "      <td>1.000000</td>\n",
              "    </tr>\n",
              "  </tbody>\n",
              "</table>\n",
              "</div>"
            ],
            "text/plain": [
              "             PassengerId  Survived    Pclass  ...     SibSp     Parch      Fare\n",
              "PassengerId     1.000000 -0.005007 -0.035144  ... -0.057527 -0.001652  0.012658\n",
              "Survived       -0.005007  1.000000 -0.338481  ... -0.035322  0.081629  0.257307\n",
              "Pclass         -0.035144 -0.338481  1.000000  ...  0.083081  0.018443 -0.549500\n",
              "Age             0.036847 -0.077221 -0.369226  ... -0.308247 -0.189119  0.096067\n",
              "SibSp          -0.057527 -0.035322  0.083081  ...  1.000000  0.414838  0.159651\n",
              "Parch          -0.001652  0.081629  0.018443  ...  0.414838  1.000000  0.216225\n",
              "Fare            0.012658  0.257307 -0.549500  ...  0.159651  0.216225  1.000000\n",
              "\n",
              "[7 rows x 7 columns]"
            ]
          },
          "metadata": {},
          "execution_count": 34
        }
      ]
    },
    {
      "cell_type": "code",
      "metadata": {
        "id": "iHB25bMyReFf"
      },
      "source": [
        "df_train_class1=df_train[df_train['Pclass']==1]\n",
        "df_train_class1.reset_index(drop=True,inplace=True)\n",
        "df_train_class2=df_train[df_train['Pclass']==2]\n",
        "df_train_class2.reset_index(drop=True,inplace=True)\n",
        "df_train_class3=df_train[df_train['Pclass']==3]\n",
        "df_train_class3.reset_index(drop=True,inplace=True)"
      ],
      "execution_count": 62,
      "outputs": []
    },
    {
      "cell_type": "markdown",
      "metadata": {
        "id": "NuEg8SWHXi5s"
      },
      "source": [
        "### 使用3倍標準差判別"
      ]
    },
    {
      "cell_type": "code",
      "metadata": {
        "colab": {
          "base_uri": "https://localhost:8080/",
          "height": 423
        },
        "id": "SBIYRsb_R1aB",
        "outputId": "00c06012-cba5-41ad-c199-57b689b5fc1d"
      },
      "source": [
        "df_train_class1"
      ],
      "execution_count": 63,
      "outputs": [
        {
          "output_type": "execute_result",
          "data": {
            "text/html": [
              "<div>\n",
              "<style scoped>\n",
              "    .dataframe tbody tr th:only-of-type {\n",
              "        vertical-align: middle;\n",
              "    }\n",
              "\n",
              "    .dataframe tbody tr th {\n",
              "        vertical-align: top;\n",
              "    }\n",
              "\n",
              "    .dataframe thead th {\n",
              "        text-align: right;\n",
              "    }\n",
              "</style>\n",
              "<table border=\"1\" class=\"dataframe\">\n",
              "  <thead>\n",
              "    <tr style=\"text-align: right;\">\n",
              "      <th></th>\n",
              "      <th>PassengerId</th>\n",
              "      <th>Survived</th>\n",
              "      <th>Pclass</th>\n",
              "      <th>Name</th>\n",
              "      <th>Sex</th>\n",
              "      <th>Age</th>\n",
              "      <th>SibSp</th>\n",
              "      <th>Parch</th>\n",
              "      <th>Ticket</th>\n",
              "      <th>Fare</th>\n",
              "      <th>Cabin</th>\n",
              "      <th>Embarked</th>\n",
              "    </tr>\n",
              "  </thead>\n",
              "  <tbody>\n",
              "    <tr>\n",
              "      <th>0</th>\n",
              "      <td>2</td>\n",
              "      <td>1</td>\n",
              "      <td>1</td>\n",
              "      <td>Cumings, Mrs. John Bradley (Florence Briggs Th...</td>\n",
              "      <td>female</td>\n",
              "      <td>38.0</td>\n",
              "      <td>1</td>\n",
              "      <td>0</td>\n",
              "      <td>PC 17599</td>\n",
              "      <td>71.2833</td>\n",
              "      <td>C85</td>\n",
              "      <td>C</td>\n",
              "    </tr>\n",
              "    <tr>\n",
              "      <th>1</th>\n",
              "      <td>4</td>\n",
              "      <td>1</td>\n",
              "      <td>1</td>\n",
              "      <td>Futrelle, Mrs. Jacques Heath (Lily May Peel)</td>\n",
              "      <td>female</td>\n",
              "      <td>35.0</td>\n",
              "      <td>1</td>\n",
              "      <td>0</td>\n",
              "      <td>113803</td>\n",
              "      <td>53.1000</td>\n",
              "      <td>C123</td>\n",
              "      <td>S</td>\n",
              "    </tr>\n",
              "    <tr>\n",
              "      <th>2</th>\n",
              "      <td>7</td>\n",
              "      <td>0</td>\n",
              "      <td>1</td>\n",
              "      <td>McCarthy, Mr. Timothy J</td>\n",
              "      <td>male</td>\n",
              "      <td>54.0</td>\n",
              "      <td>0</td>\n",
              "      <td>0</td>\n",
              "      <td>17463</td>\n",
              "      <td>51.8625</td>\n",
              "      <td>E46</td>\n",
              "      <td>S</td>\n",
              "    </tr>\n",
              "    <tr>\n",
              "      <th>3</th>\n",
              "      <td>12</td>\n",
              "      <td>1</td>\n",
              "      <td>1</td>\n",
              "      <td>Bonnell, Miss. Elizabeth</td>\n",
              "      <td>female</td>\n",
              "      <td>58.0</td>\n",
              "      <td>0</td>\n",
              "      <td>0</td>\n",
              "      <td>113783</td>\n",
              "      <td>26.5500</td>\n",
              "      <td>C103</td>\n",
              "      <td>S</td>\n",
              "    </tr>\n",
              "    <tr>\n",
              "      <th>4</th>\n",
              "      <td>24</td>\n",
              "      <td>1</td>\n",
              "      <td>1</td>\n",
              "      <td>Sloper, Mr. William Thompson</td>\n",
              "      <td>male</td>\n",
              "      <td>28.0</td>\n",
              "      <td>0</td>\n",
              "      <td>0</td>\n",
              "      <td>113788</td>\n",
              "      <td>35.5000</td>\n",
              "      <td>A6</td>\n",
              "      <td>S</td>\n",
              "    </tr>\n",
              "    <tr>\n",
              "      <th>...</th>\n",
              "      <td>...</td>\n",
              "      <td>...</td>\n",
              "      <td>...</td>\n",
              "      <td>...</td>\n",
              "      <td>...</td>\n",
              "      <td>...</td>\n",
              "      <td>...</td>\n",
              "      <td>...</td>\n",
              "      <td>...</td>\n",
              "      <td>...</td>\n",
              "      <td>...</td>\n",
              "      <td>...</td>\n",
              "    </tr>\n",
              "    <tr>\n",
              "      <th>211</th>\n",
              "      <td>872</td>\n",
              "      <td>1</td>\n",
              "      <td>1</td>\n",
              "      <td>Beckwith, Mrs. Richard Leonard (Sallie Monypeny)</td>\n",
              "      <td>female</td>\n",
              "      <td>47.0</td>\n",
              "      <td>1</td>\n",
              "      <td>1</td>\n",
              "      <td>11751</td>\n",
              "      <td>52.5542</td>\n",
              "      <td>D35</td>\n",
              "      <td>S</td>\n",
              "    </tr>\n",
              "    <tr>\n",
              "      <th>212</th>\n",
              "      <td>873</td>\n",
              "      <td>0</td>\n",
              "      <td>1</td>\n",
              "      <td>Carlsson, Mr. Frans Olof</td>\n",
              "      <td>male</td>\n",
              "      <td>33.0</td>\n",
              "      <td>0</td>\n",
              "      <td>0</td>\n",
              "      <td>695</td>\n",
              "      <td>5.0000</td>\n",
              "      <td>B51 B53 B55</td>\n",
              "      <td>S</td>\n",
              "    </tr>\n",
              "    <tr>\n",
              "      <th>213</th>\n",
              "      <td>880</td>\n",
              "      <td>1</td>\n",
              "      <td>1</td>\n",
              "      <td>Potter, Mrs. Thomas Jr (Lily Alexenia Wilson)</td>\n",
              "      <td>female</td>\n",
              "      <td>56.0</td>\n",
              "      <td>0</td>\n",
              "      <td>1</td>\n",
              "      <td>11767</td>\n",
              "      <td>83.1583</td>\n",
              "      <td>C50</td>\n",
              "      <td>C</td>\n",
              "    </tr>\n",
              "    <tr>\n",
              "      <th>214</th>\n",
              "      <td>888</td>\n",
              "      <td>1</td>\n",
              "      <td>1</td>\n",
              "      <td>Graham, Miss. Margaret Edith</td>\n",
              "      <td>female</td>\n",
              "      <td>19.0</td>\n",
              "      <td>0</td>\n",
              "      <td>0</td>\n",
              "      <td>112053</td>\n",
              "      <td>30.0000</td>\n",
              "      <td>B42</td>\n",
              "      <td>S</td>\n",
              "    </tr>\n",
              "    <tr>\n",
              "      <th>215</th>\n",
              "      <td>890</td>\n",
              "      <td>1</td>\n",
              "      <td>1</td>\n",
              "      <td>Behr, Mr. Karl Howell</td>\n",
              "      <td>male</td>\n",
              "      <td>26.0</td>\n",
              "      <td>0</td>\n",
              "      <td>0</td>\n",
              "      <td>111369</td>\n",
              "      <td>30.0000</td>\n",
              "      <td>C148</td>\n",
              "      <td>C</td>\n",
              "    </tr>\n",
              "  </tbody>\n",
              "</table>\n",
              "<p>216 rows × 12 columns</p>\n",
              "</div>"
            ],
            "text/plain": [
              "     PassengerId  Survived  Pclass  ...     Fare        Cabin  Embarked\n",
              "0              2         1       1  ...  71.2833          C85         C\n",
              "1              4         1       1  ...  53.1000         C123         S\n",
              "2              7         0       1  ...  51.8625          E46         S\n",
              "3             12         1       1  ...  26.5500         C103         S\n",
              "4             24         1       1  ...  35.5000           A6         S\n",
              "..           ...       ...     ...  ...      ...          ...       ...\n",
              "211          872         1       1  ...  52.5542          D35         S\n",
              "212          873         0       1  ...   5.0000  B51 B53 B55         S\n",
              "213          880         1       1  ...  83.1583          C50         C\n",
              "214          888         1       1  ...  30.0000          B42         S\n",
              "215          890         1       1  ...  30.0000         C148         C\n",
              "\n",
              "[216 rows x 12 columns]"
            ]
          },
          "metadata": {},
          "execution_count": 63
        }
      ]
    },
    {
      "cell_type": "code",
      "metadata": {
        "colab": {
          "base_uri": "https://localhost:8080/"
        },
        "id": "7r3tuHAFQ_uF",
        "outputId": "b38d579b-dd38-4106-c951-3625454695f2"
      },
      "source": [
        "import numpy as np\n",
        "\n",
        "def outfiles_z_score(ys,times):\n",
        "    mean_y=np.mean(ys)\n",
        "    print(\"平均值:\",mean_y)\n",
        "    stdev_y=np.std(ys)\n",
        "    print(\"標準差:\",stdev_y)\n",
        "    z_scores=[(y-mean_y)/stdev_y for y in ys]\n",
        "    return np.where(np.abs(z_scores)>times)\n",
        "\n",
        "out_index_class1=outfiles_z_score(df_train_class1['Fare'],3) \n",
        "print(\"Pclass=1，超出3倍標準差:\")\n",
        "print(out_index_class1[0])\n",
        "print(df_train_class1.loc[out_index_class1[0],'Fare'])\n",
        "\n",
        "\n",
        "out_index_class2=outfiles_z_score(df_train_class2['Fare'],3) \n",
        "print(\"Pclass=2，超出3倍標準差:\")\n",
        "print(out_index_class2[0])\n",
        "print(df_train_class2.loc[out_index_class2[0],'Fare'])\n",
        "\n",
        "out_index_class3=outfiles_z_score(df_train_class3['Fare'],3) \n",
        "print(\"Pclass=3，超出3倍標準差:\")\n",
        "print(out_index_class3[0])\n",
        "print(df_train_class3.loc[out_index_class3[0],'Fare'])"
      ],
      "execution_count": 65,
      "outputs": [
        {
          "output_type": "stream",
          "name": "stdout",
          "text": [
            "平均值: 84.15468749999992\n",
            "標準差: 78.19872611599817\n",
            "Pclass=1，超出3倍標準差:\n",
            "[ 49 163 179]\n",
            "49     512.3292\n",
            "163    512.3292\n",
            "179    512.3292\n",
            "Name: Fare, dtype: float64\n",
            "平均值: 20.66218315217391\n",
            "標準差: 13.380888759886025\n",
            "Pclass=2，超出3倍標準差:\n",
            "[ 13  19  77 127 134 136 159]\n",
            "13     73.5\n",
            "19     73.5\n",
            "77     73.5\n",
            "127    65.0\n",
            "134    73.5\n",
            "136    73.5\n",
            "159    65.0\n",
            "Name: Fare, dtype: float64\n",
            "平均值: 13.675550101832997\n",
            "標準差: 11.766141556896185\n",
            "Pclass=3，超出3倍標準差:\n",
            "[ 44  99 106 113 124 184 284 354 381 434 454 462 467 476]\n",
            "44     56.4958\n",
            "99     69.5500\n",
            "106    56.4958\n",
            "113    69.5500\n",
            "124    69.5500\n",
            "184    69.5500\n",
            "284    56.4958\n",
            "354    56.4958\n",
            "381    56.4958\n",
            "434    69.5500\n",
            "454    56.4958\n",
            "462    56.4958\n",
            "467    69.5500\n",
            "476    69.5500\n",
            "Name: Fare, dtype: float64\n"
          ]
        }
      ]
    },
    {
      "cell_type": "markdown",
      "metadata": {
        "id": "XP4u2HkYXvua"
      },
      "source": [
        ""
      ]
    },
    {
      "cell_type": "markdown",
      "metadata": {
        "id": "6FmXuSsgX5Ow"
      },
      "source": [
        "### 使用1.5倍iqr判別"
      ]
    },
    {
      "cell_type": "code",
      "metadata": {
        "id": "uM3TYfayS8ie"
      },
      "source": [
        "import numpy as np\n",
        "def outliers_iqr(ys,times):\n",
        "    quartile_1,quartile_3=np.nanpercentile(ys,[25,75])\n",
        "    iqr=quartile_3-quartile_1\n",
        "    lower_bound=quartile_1-(iqr*times)\n",
        "    upper_bound=quartile_3+(iqr*times)\n",
        "    return np.where((ys>upper_bound)|(ys<lower_bound))"
      ],
      "execution_count": 66,
      "outputs": []
    },
    {
      "cell_type": "code",
      "metadata": {
        "colab": {
          "base_uri": "https://localhost:8080/",
          "height": 680
        },
        "id": "kRTAJeHMYDtr",
        "outputId": "617445a4-812f-4588-8966-fad25ec71568"
      },
      "source": [
        "out_index_class1=outliers_iqr(df_train_class1['Fare'],1.5)\n",
        "print(out_index_class1)\n",
        "print(df_train_class1.loc[out_index_class1[0],'Fare'])\n",
        "\n",
        "plt.boxplot(df_train_class1['Fare'][~np.isnan(df_train_class1['Fare'])],whis=1.5)\n",
        "plt.title('Box plot')\n",
        "plt.show()\n",
        "#超出1.5的iqr可考慮刪除"
      ],
      "execution_count": 74,
      "outputs": [
        {
          "output_type": "stream",
          "name": "stdout",
          "text": [
            "(array([  5,  17,  23,  49,  63,  69,  80,  88,  89,  97, 124, 134, 163,\n",
            "       165, 169, 176, 178, 179, 182, 189]),)\n",
            "5      263.0000\n",
            "17     263.0000\n",
            "23     247.5208\n",
            "49     512.3292\n",
            "63     247.5208\n",
            "69     262.3750\n",
            "80     263.0000\n",
            "88     211.5000\n",
            "89     227.5250\n",
            "97     263.0000\n",
            "124    221.7792\n",
            "134    227.5250\n",
            "163    512.3292\n",
            "165    211.3375\n",
            "169    227.5250\n",
            "176    227.5250\n",
            "178    211.3375\n",
            "179    512.3292\n",
            "182    262.3750\n",
            "189    211.3375\n",
            "Name: Fare, dtype: float64\n"
          ]
        },
        {
          "output_type": "display_data",
          "data": {
            "image/png": "[encoded data removed]",
            "text/plain": [
              "<Figure size 432x288 with 1 Axes>"
            ]
          },
          "metadata": {
            "needs_background": "light"
          }
        }
      ]
    },
    {
      "cell_type": "code",
      "metadata": {
        "colab": {
          "base_uri": "https://localhost:8080/",
          "height": 437
        },
        "id": "DcRyvWakYeDE",
        "outputId": "c5e5200e-481a-41f2-ba97-c371ba96c9d9"
      },
      "source": [
        "out_index_class2=outliers_iqr(df_train_class2['Fare'],1.5)\n",
        "print(out_index_class2)\n",
        "print(df_train_class2.loc[out_index_class2[0],'Fare'])\n",
        "\n",
        "plt.boxplot(df_train_class2['Fare'][~np.isnan(df_train_class2['Fare'])],whis=1.5)\n",
        "plt.title('Box plot')\n",
        "plt.show()\n",
        "#超出1.5的iqr可考慮刪除"
      ],
      "execution_count": 73,
      "outputs": [
        {
          "output_type": "stream",
          "name": "stdout",
          "text": [
            "(array([ 13,  19,  77, 127, 134, 136, 159]),)\n",
            "13     73.5\n",
            "19     73.5\n",
            "77     73.5\n",
            "127    65.0\n",
            "134    73.5\n",
            "136    73.5\n",
            "159    65.0\n",
            "Name: Fare, dtype: float64\n"
          ]
        },
        {
          "output_type": "display_data",
          "data": {
            "image/png": "[encoded data removed]",
            "text/plain": [
              "<Figure size 432x288 with 1 Axes>"
            ]
          },
          "metadata": {
            "needs_background": "light"
          }
        }
      ]
    },
    {
      "cell_type": "code",
      "metadata": {
        "colab": {
          "base_uri": "https://localhost:8080/",
          "height": 1000
        },
        "id": "YqdZVWyzYv3f",
        "outputId": "a00ad255-d03c-412e-f43b-bab8697614bd"
      },
      "source": [
        "out_index_class3=outliers_iqr(df_train_class3['Fare'],1.5)\n",
        "print(out_index_class3)\n",
        "print(df_train_class3.loc[out_index_class3[0],'Fare'])\n",
        "\n",
        "plt.boxplot(df_train_class3['Fare'][~np.isnan(df_train_class3['Fare'])],whis=1.5)\n",
        "plt.title('Box plot')\n",
        "plt.show()\n",
        "#超出1.5的iqr可考慮刪除"
      ],
      "execution_count": 75,
      "outputs": [
        {
          "output_type": "stream",
          "name": "stdout",
          "text": [
            "(array([  8,  10,  15,  32,  35,  37,  42,  44,  53,  76,  92,  99, 103,\n",
            "       105, 106, 107, 113, 114, 124, 143, 156, 158, 163, 184, 201, 217,\n",
            "       247, 267, 284, 300, 301, 334, 348, 350, 353, 354, 373, 376, 377,\n",
            "       381, 400, 431, 434, 445, 449, 452, 454, 462, 467, 469, 476, 488]),)\n",
            "8      31.2750\n",
            "10     29.1250\n",
            "15     31.3875\n",
            "32     39.6875\n",
            "35     46.9000\n",
            "37     27.9000\n",
            "42     46.9000\n",
            "44     56.4958\n",
            "53     34.3750\n",
            "76     31.2750\n",
            "92     34.3750\n",
            "99     69.5500\n",
            "103    39.6875\n",
            "105    27.9000\n",
            "106    56.4958\n",
            "107    29.1250\n",
            "113    69.5500\n",
            "114    31.3875\n",
            "124    69.5500\n",
            "143    31.3875\n",
            "156    31.3875\n",
            "158    39.6875\n",
            "163    29.1250\n",
            "184    69.5500\n",
            "201    27.9000\n",
            "217    46.9000\n",
            "247    34.3750\n",
            "267    46.9000\n",
            "284    56.4958\n",
            "300    31.2750\n",
            "301    31.2750\n",
            "334    31.2750\n",
            "348    27.9000\n",
            "350    39.6875\n",
            "353    27.9000\n",
            "354    56.4958\n",
            "373    46.9000\n",
            "376    46.9000\n",
            "377    39.6875\n",
            "381    56.4958\n",
            "400    34.3750\n",
            "431    29.1250\n",
            "434    69.5500\n",
            "445    31.2750\n",
            "449    27.9000\n",
            "452    39.6875\n",
            "454    56.4958\n",
            "462    56.4958\n",
            "467    69.5500\n",
            "469    31.2750\n",
            "476    69.5500\n",
            "488    29.1250\n",
            "Name: Fare, dtype: float64\n"
          ]
        },
        {
          "output_type": "display_data",
          "data": {
            "image/png": "[encoded data removed]",
            "text/plain": [
              "<Figure size 432x288 with 1 Axes>"
            ]
          },
          "metadata": {
            "needs_background": "light"
          }
        }
      ]
    }
  ]
}