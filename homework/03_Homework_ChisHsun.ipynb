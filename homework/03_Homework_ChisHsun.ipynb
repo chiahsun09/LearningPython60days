{
  "nbformat": 4,
  "nbformat_minor": 0,
  "metadata": {
    "colab": {
      "name": "03 Homework_ChisHsun.ipynb",
      "provenance": []
    },
    "kernelspec": {
      "display_name": "Python 3",
      "language": "python",
      "name": "python3"
    },
    "language_info": {
      "codemirror_mode": {
        "name": "ipython",
        "version": 3
      },
      "file_extension": ".py",
      "mimetype": "text/x-python",
      "name": "python",
      "nbconvert_exporter": "python",
      "pygments_lexer": "ipython3",
      "version": "3.6.5"
    }
  },
  "cells": [
    {
      "cell_type": "markdown",
      "metadata": {
        "id": "P6xk2_jLsvFF"
      },
      "source": [
        "# [作業目標]\n",
        "\n",
        "1. [簡答題] 請比較 np.zeros 和 np.empty 產生出來的陣列有何差異？為什麼要設計兩種方法？\n",
        "\n",
        "```\n",
        "print(np.zeros((2, 3)))\n",
        "print(np.empty((2, 3)))\n",
        "```\n",
        "\n",
        "2. 在不用「整數亂數方法」的限制下，如何將包含小數的轉換整數？請將給定的 a 陣列當中的元素變成去掉小數變成整數。\n",
        "3. 承上題，怎樣可以限制整數的範圍介於 m - n 之間？請將給定的 a 陣列當中的元素的範圍調整成 m - n 之間。"
      ]
    },
    {
      "cell_type": "markdown",
      "metadata": {
        "id": "uXGll28asvFS"
      },
      "source": [
        "# 作業 "
      ]
    },
    {
      "cell_type": "markdown",
      "metadata": {
        "id": "C-UGVP62sgBu"
      },
      "source": [
        "### 1. [簡答題] 請比較 np.zeros 和 np.empty 產生出來的陣列有何差異？為什麼要設計兩種方法？\n",
        "\n",
        "```\n",
        "print(np.zeros((2, 3)))\n",
        "print(np.empty((2, 3)))\n",
        "```\n"
      ]
    },
    {
      "cell_type": "code",
      "metadata": {
        "id": "5QrYoyNWsvFS",
        "outputId": "087eee95-e6a8-422a-fc4b-b417d63aeec5"
      },
      "source": [
        "'''\n",
        "np.zeros:產生一個都是0的陣列\n",
        "np.empty:產生一個接近是0的陣列\n",
        "有些情況下，你只是想初始化一個矩陣為指定尺寸的矩陣，對裡面的初始化資料並不關心，那你可以使用 np.empty 來實現更快的初始化\n",
        "'''"
      ],
      "execution_count": null,
      "outputs": [
        {
          "output_type": "execute_result",
          "data": {
            "text/plain": [
              "'\\nYour Code\\n'"
            ]
          },
          "metadata": {
            "tags": []
          },
          "execution_count": 3
        }
      ]
    },
    {
      "cell_type": "markdown",
      "metadata": {
        "id": "-4SVPUwzsgBz"
      },
      "source": [
        "### 2. 在不用「整數亂數方法」的限制下，如何將包含小數的轉換整數？請將給定的 a 陣列當中的元素變成去掉小數變成整數。\n"
      ]
    },
    {
      "cell_type": "code",
      "metadata": {
        "id": "Nlg4dtbhsgB0"
      },
      "source": [
        "# 記得先 Import 正確的套件\n",
        "import numpy as np\n",
        "from numpy import random\n"
      ],
      "execution_count": 4,
      "outputs": []
    },
    {
      "cell_type": "code",
      "metadata": {
        "colab": {
          "base_uri": "https://localhost:8080/"
        },
        "id": "e1gVI0tvsvFY",
        "outputId": "9edade27-d947-4a53-82f4-c606a6a6c27a"
      },
      "source": [
        "# 參考解答\n",
        "\n",
        "a = np.random.rand(2, 3)*100\n",
        "print(a)\n",
        "\n",
        "A = a.astype(int)\n",
        "print(A)"
      ],
      "execution_count": 18,
      "outputs": [
        {
          "output_type": "stream",
          "text": [
            "[[57.743809   12.16861927 23.29408625]\n",
            " [40.1887849   1.8842576  73.23431044]]\n",
            "[[57 12 23]\n",
            " [40  1 73]]\n"
          ],
          "name": "stdout"
        }
      ]
    },
    {
      "cell_type": "markdown",
      "metadata": {
        "id": "-Q6mu8azsgB3"
      },
      "source": [
        "### 3. 承上題，怎樣可以限制整數的範圍介於 m - n 之間？請將給定的 a 陣列當中的元素的範圍調整成 m - n 之間。\n"
      ]
    },
    {
      "cell_type": "code",
      "metadata": {
        "colab": {
          "base_uri": "https://localhost:8080/"
        },
        "id": "MSpD64AusgB4",
        "outputId": "0714e7de-9b3f-4692-b595-96a96df360ed"
      },
      "source": [
        "m = 20\n",
        "n = 40\n",
        "\n",
        "a=np.random.randint(20,40,size=(2, 3))\n",
        "print(a)"
      ],
      "execution_count": 17,
      "outputs": [
        {
          "output_type": "stream",
          "text": [
            "[[28 21 27]\n",
            " [31 20 23]]\n"
          ],
          "name": "stdout"
        }
      ]
    },
    {
      "cell_type": "code",
      "metadata": {
        "id": "6Tr0I9XKsgB7"
      },
      "source": [
        ""
      ],
      "execution_count": null,
      "outputs": []
    }
  ]
}