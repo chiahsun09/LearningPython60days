{
  "nbformat": 4,
  "nbformat_minor": 0,
  "metadata": {
    "kernelspec": {
      "display_name": "Python 3",
      "language": "python",
      "name": "python3"
    },
    "language_info": {
      "codemirror_mode": {
        "name": "ipython",
        "version": 3
      },
      "file_extension": ".py",
      "mimetype": "text/x-python",
      "name": "python",
      "nbconvert_exporter": "python",
      "pygments_lexer": "ipython3",
      "version": "3.6.8"
    },
    "colab": {
      "name": "不動產實價登錄分析_ChiaHsun.ipynb",
      "provenance": []
    },
    "accelerator": "GPU"
  },
  "cells": [
    {
      "cell_type": "markdown",
      "metadata": {
        "id": "1-XK_3dwD0RF"
      },
      "source": [
        "哈摟，各位資料科學家大家好，我是來自於台中市\"頭期款不足\"的阿宏，我想買房子很久了，但是不知道要買哪個地方，想先從內政部不動產交易時價登入資料中先了解行情，我現在手邊蒐集了台北市Taipei(A_lvr_land_A.csv)、新北市New_Taipei(F_lvr_land_A.csv)、台中市Taichung(B_lvr_land_A.csv)、高雄市Kaohsiung(E_lvr_land_A.csv)共四個城市110年第1季~第3季資料，請各位資料科學家幫幫忙分析了。"
      ]
    },
    {
      "cell_type": "markdown",
      "metadata": {
        "id": "K6mAtgj4D0RI"
      },
      "source": [
        "# 1.不動產資料檔案讀取並串接"
      ]
    },
    {
      "cell_type": "markdown",
      "metadata": {
        "id": "DUO9iL1BD0RI"
      },
      "source": [
        "資料分散在12個資料，先合併成一個資料方便後續分析，但是我發現有英文欄位跟中文欄位，留下中文刪除英文，並加入新的欄位用以分辨台北市Taipei、新北市New_Taipei、台中市Taichung、高雄市Kaohsiung"
      ]
    },
    {
      "cell_type": "markdown",
      "metadata": {
        "id": "1DYWBKcND0RJ"
      },
      "source": [
        "1. 利用Pandas中的pd.read_csv()分別讀取A_lvr_land_A.csv、B_lvr_land_A.csv、E_lvr_land_A.csv、F_lvr_land_A.csv\n",
        "2. 刪除csv中第二列英文翻譯，The villages and towns urban district,transaction sign,land sector position building sector house number plate,land shifting total area square meter,....\n",
        "3. 生成city欄位其中以地區分類台北市Taipei(A_lvr_land_A.csv)、新北市New_Taipei(F_lvr_land_A.csv)、台中市Taichung(B_lvr_land_A.csv)、高雄市Kaohsiung(E_lvr_land_A.csv)\n",
        "4. 將以上四份資料運用pd.concat()串接"
      ]
    },
    {
      "cell_type": "code",
      "metadata": {
        "id": "sryb-luFD0RJ"
      },
      "source": [
        "import pandas as pd "
      ],
      "execution_count": null,
      "outputs": []
    },
    {
      "cell_type": "code",
      "metadata": {
        "id": "HLZzlwt9D0RK"
      },
      "source": [
        "#1.利用Pandas中的pd.read_csv()分別讀取A_lvr_land_A.csv、B_lvr_land_A.csv、E_lvr_land_A.csv、F_lvr_land_A.csv\n",
        "data_a_01 = pd.read_csv('A_lvr_land_A_11001.csv')\n",
        "data_a_02 = pd.read_csv('A_lvr_land_A_11002.csv')\n",
        "data_a_03 = pd.read_csv('A_lvr_land_A_11003.csv')\n",
        "\n",
        "data_b_01 = pd.read_csv('B_lvr_land_A_11001.csv')\n",
        "data_b_02 = pd.read_csv('B_lvr_land_A_11002.csv')\n",
        "data_b_03 = pd.read_csv('B_lvr_land_A_11003.csv')\n",
        "\n",
        "data_e_01 = pd.read_csv('E_lvr_land_A_11001.csv')\n",
        "data_e_02 = pd.read_csv('E_lvr_land_A_11002.csv')\n",
        "data_e_03 = pd.read_csv('E_lvr_land_A_11003.csv')\n",
        "\n",
        "data_f_01 = pd.read_csv('F_lvr_land_A_11001.csv')\n",
        "data_f_02 = pd.read_csv('F_lvr_land_A_11002.csv')\n",
        "data_f_03 = pd.read_csv('F_lvr_land_A_11003.csv')"
      ],
      "execution_count": null,
      "outputs": []
    },
    {
      "cell_type": "code",
      "metadata": {
        "colab": {
          "base_uri": "https://localhost:8080/"
        },
        "id": "niYtkAQeENLQ",
        "outputId": "0cfdcc04-f16a-446a-97c5-0508bf47927a"
      },
      "source": [
        "data_a_01.columns"
      ],
      "execution_count": null,
      "outputs": [
        {
          "output_type": "execute_result",
          "data": {
            "text/plain": [
              "Index(['鄉鎮市區', '交易標的', '土地位置建物門牌', '土地移轉總面積平方公尺', '都市土地使用分區', '非都市土地使用分區',\n",
              "       '非都市土地使用編定', '交易年月日', '交易筆棟數', '移轉層次', '總樓層數', '建物型態', '主要用途', '主要建材',\n",
              "       '建築完成年月', '建物移轉總面積平方公尺', '建物現況格局-房', '建物現況格局-廳', '建物現況格局-衛',\n",
              "       '建物現況格局-隔間', '有無管理組織', '總價元', '單價元平方公尺', '車位類別', '車位移轉總面積(平方公尺)',\n",
              "       '車位總價元', '備註', '編號', '主建物面積', '附屬建物面積', '陽台面積', '電梯', '移轉編號'],\n",
              "      dtype='object')"
            ]
          },
          "metadata": {},
          "execution_count": 115
        }
      ]
    },
    {
      "cell_type": "code",
      "metadata": {
        "id": "LfGBYSg4D0RL"
      },
      "source": [
        "#2.刪除csv中第二列英文翻譯，The villages and towns urban district,transaction sign,land sector position building sector house number plate,land shifting total area square meter,....\n",
        "data_a_01 = data_a_01.iloc[1:]\n",
        "data_a_02 = data_a_02.iloc[1:]\n",
        "data_a_03 = data_a_03.iloc[1:]\n",
        "\n",
        "data_b_01 = data_b_01.iloc[1:]\n",
        "data_b_02 = data_b_02.iloc[1:]\n",
        "data_b_03 = data_b_03.iloc[1:]\n",
        "\n",
        "data_e_01 = data_e_01.iloc[1:]\n",
        "data_e_02 = data_e_02.iloc[1:]\n",
        "data_e_03 = data_e_03.iloc[1:]\n",
        "\n",
        "data_f_01 = data_f_01.iloc[1:]\n",
        "data_f_02 = data_f_02.iloc[1:]\n",
        "data_f_03 = data_f_03.iloc[1:]"
      ],
      "execution_count": null,
      "outputs": []
    },
    {
      "cell_type": "code",
      "metadata": {
        "id": "YEWK-i8ND0RL"
      },
      "source": [
        "#3. 生成city欄位其中以地區分類台北市Taipei(A_lvr_land_A.csv)、新北市New_Taipei(F_lvr_land_A.csv)、台中市Taichung(B_lvr_land_A.csv)、高雄市Kaohsiung(E_lvr_land_A.csv)\n",
        "data_a_01['city'] = 'Taipei';data_a_02['city'] = 'Taipei';data_a_03['city'] = 'Taipei'\n",
        "data_b_01['city'] = 'Taichung';data_b_02['city'] = 'Taichung';data_b_03['city'] = 'Taichung'\n",
        "data_e_01['city'] = 'Kaohsiung';data_e_02['city'] = 'Kaohsiung';data_e_03['city'] = 'Kaohsiung'\n",
        "data_f_01['city'] = 'New_Taipei';data_f_02['city'] = 'New_Taipei';data_f_03['city'] = 'New_Taipei'"
      ],
      "execution_count": null,
      "outputs": []
    },
    {
      "cell_type": "code",
      "metadata": {
        "colab": {
          "base_uri": "https://localhost:8080/",
          "height": 1000
        },
        "id": "bvl8WOffD0RM",
        "outputId": "eecc1dff-424b-48d3-fea2-878be8baeb06"
      },
      "source": [
        "#4. 將以上四份資料運用pd.concat()串接\n",
        "all_data_s01 = pd.concat([data_a_01,data_b_01,data_e_01,data_f_01],axis=0)\n",
        "all_data_s02 = pd.concat([data_a_02,data_b_02,data_e_02,data_f_02],axis=0)\n",
        "all_data_s03 = pd.concat([data_a_03,data_b_03,data_e_03,data_f_03],axis=0)\n",
        "all_data_s01"
      ],
      "execution_count": null,
      "outputs": [
        {
          "output_type": "execute_result",
          "data": {
            "text/html": [
              "<div>\n",
              "<style scoped>\n",
              "    .dataframe tbody tr th:only-of-type {\n",
              "        vertical-align: middle;\n",
              "    }\n",
              "\n",
              "    .dataframe tbody tr th {\n",
              "        vertical-align: top;\n",
              "    }\n",
              "\n",
              "    .dataframe thead th {\n",
              "        text-align: right;\n",
              "    }\n",
              "</style>\n",
              "<table border=\"1\" class=\"dataframe\">\n",
              "  <thead>\n",
              "    <tr style=\"text-align: right;\">\n",
              "      <th></th>\n",
              "      <th>鄉鎮市區</th>\n",
              "      <th>交易標的</th>\n",
              "      <th>土地位置建物門牌</th>\n",
              "      <th>土地移轉總面積平方公尺</th>\n",
              "      <th>都市土地使用分區</th>\n",
              "      <th>非都市土地使用分區</th>\n",
              "      <th>非都市土地使用編定</th>\n",
              "      <th>交易年月日</th>\n",
              "      <th>交易筆棟數</th>\n",
              "      <th>移轉層次</th>\n",
              "      <th>總樓層數</th>\n",
              "      <th>建物型態</th>\n",
              "      <th>主要用途</th>\n",
              "      <th>主要建材</th>\n",
              "      <th>建築完成年月</th>\n",
              "      <th>建物移轉總面積平方公尺</th>\n",
              "      <th>建物現況格局-房</th>\n",
              "      <th>建物現況格局-廳</th>\n",
              "      <th>建物現況格局-衛</th>\n",
              "      <th>建物現況格局-隔間</th>\n",
              "      <th>有無管理組織</th>\n",
              "      <th>總價元</th>\n",
              "      <th>單價元平方公尺</th>\n",
              "      <th>車位類別</th>\n",
              "      <th>車位移轉總面積(平方公尺)</th>\n",
              "      <th>車位總價元</th>\n",
              "      <th>備註</th>\n",
              "      <th>編號</th>\n",
              "      <th>主建物面積</th>\n",
              "      <th>附屬建物面積</th>\n",
              "      <th>陽台面積</th>\n",
              "      <th>電梯</th>\n",
              "      <th>移轉編號</th>\n",
              "      <th>city</th>\n",
              "    </tr>\n",
              "  </thead>\n",
              "  <tbody>\n",
              "    <tr>\n",
              "      <th>1</th>\n",
              "      <td>文山區</td>\n",
              "      <td>房地(土地+建物)</td>\n",
              "      <td>興隆路二段２１７巷８之７號五樓</td>\n",
              "      <td>8.65</td>\n",
              "      <td>都市：其他:第三種住宅區。</td>\n",
              "      <td>NaN</td>\n",
              "      <td>NaN</td>\n",
              "      <td>1091029</td>\n",
              "      <td>土地1建物1車位0</td>\n",
              "      <td>五層</td>\n",
              "      <td>十三層</td>\n",
              "      <td>住宅大樓(11層含以上有電梯)</td>\n",
              "      <td>住家用</td>\n",
              "      <td>鋼筋混凝土造</td>\n",
              "      <td>0850715</td>\n",
              "      <td>40.989999999999995</td>\n",
              "      <td>1</td>\n",
              "      <td>1</td>\n",
              "      <td>1</td>\n",
              "      <td>有</td>\n",
              "      <td>有</td>\n",
              "      <td>7300000</td>\n",
              "      <td>178092</td>\n",
              "      <td>NaN</td>\n",
              "      <td>0.0</td>\n",
              "      <td>0</td>\n",
              "      <td>陽台外推；其他增建；</td>\n",
              "      <td>RPWOMLKKJIPFFAA87DA</td>\n",
              "      <td>25.66</td>\n",
              "      <td>0.70</td>\n",
              "      <td>5.79</td>\n",
              "      <td>有</td>\n",
              "      <td>NaN</td>\n",
              "      <td>Taipei</td>\n",
              "    </tr>\n",
              "    <tr>\n",
              "      <th>2</th>\n",
              "      <td>文山區</td>\n",
              "      <td>房地(土地+建物)</td>\n",
              "      <td>和平東路四段６５巷７７弄１號</td>\n",
              "      <td>86.0</td>\n",
              "      <td>都市：其他:第二種住宅區。</td>\n",
              "      <td>NaN</td>\n",
              "      <td>NaN</td>\n",
              "      <td>1091105</td>\n",
              "      <td>土地1建物1車位0</td>\n",
              "      <td>全</td>\n",
              "      <td>四層</td>\n",
              "      <td>透天厝</td>\n",
              "      <td>住家用</td>\n",
              "      <td>鋼筋混凝土造</td>\n",
              "      <td>0760413</td>\n",
              "      <td>175.72</td>\n",
              "      <td>5</td>\n",
              "      <td>4</td>\n",
              "      <td>3</td>\n",
              "      <td>有</td>\n",
              "      <td>有</td>\n",
              "      <td>24500000</td>\n",
              "      <td>139426</td>\n",
              "      <td>NaN</td>\n",
              "      <td>0.0</td>\n",
              "      <td>0</td>\n",
              "      <td>陽台外推；其他增建；</td>\n",
              "      <td>RPVPMLSKJIPFFAA68DA</td>\n",
              "      <td>133.66</td>\n",
              "      <td>35.95</td>\n",
              "      <td>6.11</td>\n",
              "      <td>無</td>\n",
              "      <td>NaN</td>\n",
              "      <td>Taipei</td>\n",
              "    </tr>\n",
              "    <tr>\n",
              "      <th>3</th>\n",
              "      <td>文山區</td>\n",
              "      <td>建物</td>\n",
              "      <td>羅斯福路六段２６巷２號</td>\n",
              "      <td>0.0</td>\n",
              "      <td>NaN</td>\n",
              "      <td>NaN</td>\n",
              "      <td>NaN</td>\n",
              "      <td>1091102</td>\n",
              "      <td>土地0建物1車位0</td>\n",
              "      <td>一層</td>\n",
              "      <td>四層</td>\n",
              "      <td>公寓(5樓含以下無電梯)</td>\n",
              "      <td>見其他登記事項</td>\n",
              "      <td>加強磚造</td>\n",
              "      <td>0570614</td>\n",
              "      <td>79.57</td>\n",
              "      <td>4</td>\n",
              "      <td>1</td>\n",
              "      <td>1</td>\n",
              "      <td>有</td>\n",
              "      <td>無</td>\n",
              "      <td>8500000</td>\n",
              "      <td>106824</td>\n",
              "      <td>NaN</td>\n",
              "      <td>0.0</td>\n",
              "      <td>0</td>\n",
              "      <td>NaN</td>\n",
              "      <td>RPSOMLOLJIPFFAA97DA</td>\n",
              "      <td>79.57</td>\n",
              "      <td>0.00</td>\n",
              "      <td>0.00</td>\n",
              "      <td>無</td>\n",
              "      <td>NaN</td>\n",
              "      <td>Taipei</td>\n",
              "    </tr>\n",
              "    <tr>\n",
              "      <th>4</th>\n",
              "      <td>文山區</td>\n",
              "      <td>房地(土地+建物)</td>\n",
              "      <td>興隆路四段１４５巷３６號四樓</td>\n",
              "      <td>33.62</td>\n",
              "      <td>都市：其他:第三種住宅區。</td>\n",
              "      <td>NaN</td>\n",
              "      <td>NaN</td>\n",
              "      <td>1091123</td>\n",
              "      <td>土地1建物1車位0</td>\n",
              "      <td>四層</td>\n",
              "      <td>四層</td>\n",
              "      <td>公寓(5樓含以下無電梯)</td>\n",
              "      <td>住家用</td>\n",
              "      <td>鋼筋混凝土造</td>\n",
              "      <td>NaN</td>\n",
              "      <td>106.21</td>\n",
              "      <td>3</td>\n",
              "      <td>2</td>\n",
              "      <td>2</td>\n",
              "      <td>有</td>\n",
              "      <td>無</td>\n",
              "      <td>11700000</td>\n",
              "      <td>110159</td>\n",
              "      <td>NaN</td>\n",
              "      <td>0.0</td>\n",
              "      <td>0</td>\n",
              "      <td>頂樓加蓋；</td>\n",
              "      <td>RPSNMLKMJIPFFAA57DA</td>\n",
              "      <td>89.45</td>\n",
              "      <td>0.00</td>\n",
              "      <td>16.76</td>\n",
              "      <td>無</td>\n",
              "      <td>1.0</td>\n",
              "      <td>Taipei</td>\n",
              "    </tr>\n",
              "    <tr>\n",
              "      <th>5</th>\n",
              "      <td>文山區</td>\n",
              "      <td>房地(土地+建物)</td>\n",
              "      <td>興隆路三段１９２巷２弄２９號八樓</td>\n",
              "      <td>9.13</td>\n",
              "      <td>都市：其他:第三種住宅區。</td>\n",
              "      <td>NaN</td>\n",
              "      <td>NaN</td>\n",
              "      <td>1070309</td>\n",
              "      <td>土地1建物1車位0</td>\n",
              "      <td>八層</td>\n",
              "      <td>十層</td>\n",
              "      <td>華廈(10層含以下有電梯)</td>\n",
              "      <td>見其他登記事項</td>\n",
              "      <td>鋼筋混凝土造</td>\n",
              "      <td>1090825</td>\n",
              "      <td>44.01</td>\n",
              "      <td>1</td>\n",
              "      <td>1</td>\n",
              "      <td>1</td>\n",
              "      <td>有</td>\n",
              "      <td>有</td>\n",
              "      <td>9000000</td>\n",
              "      <td>204499</td>\n",
              "      <td>NaN</td>\n",
              "      <td>0.0</td>\n",
              "      <td>0</td>\n",
              "      <td>NaN</td>\n",
              "      <td>RPWNMLQJKIPFFAA38DA</td>\n",
              "      <td>25.66</td>\n",
              "      <td>2.13</td>\n",
              "      <td>0.00</td>\n",
              "      <td>有</td>\n",
              "      <td>NaN</td>\n",
              "      <td>Taipei</td>\n",
              "    </tr>\n",
              "    <tr>\n",
              "      <th>...</th>\n",
              "      <td>...</td>\n",
              "      <td>...</td>\n",
              "      <td>...</td>\n",
              "      <td>...</td>\n",
              "      <td>...</td>\n",
              "      <td>...</td>\n",
              "      <td>...</td>\n",
              "      <td>...</td>\n",
              "      <td>...</td>\n",
              "      <td>...</td>\n",
              "      <td>...</td>\n",
              "      <td>...</td>\n",
              "      <td>...</td>\n",
              "      <td>...</td>\n",
              "      <td>...</td>\n",
              "      <td>...</td>\n",
              "      <td>...</td>\n",
              "      <td>...</td>\n",
              "      <td>...</td>\n",
              "      <td>...</td>\n",
              "      <td>...</td>\n",
              "      <td>...</td>\n",
              "      <td>...</td>\n",
              "      <td>...</td>\n",
              "      <td>...</td>\n",
              "      <td>...</td>\n",
              "      <td>...</td>\n",
              "      <td>...</td>\n",
              "      <td>...</td>\n",
              "      <td>...</td>\n",
              "      <td>...</td>\n",
              "      <td>...</td>\n",
              "      <td>...</td>\n",
              "      <td>...</td>\n",
              "    </tr>\n",
              "    <tr>\n",
              "      <th>14280</th>\n",
              "      <td>土城區</td>\n",
              "      <td>土地</td>\n",
              "      <td>永和段306地號</td>\n",
              "      <td>222.57</td>\n",
              "      <td>都市：其他:道路用地</td>\n",
              "      <td>NaN</td>\n",
              "      <td>NaN</td>\n",
              "      <td>1100220</td>\n",
              "      <td>土地5建物0車位0</td>\n",
              "      <td>NaN</td>\n",
              "      <td>NaN</td>\n",
              "      <td>其他</td>\n",
              "      <td>NaN</td>\n",
              "      <td>NaN</td>\n",
              "      <td>NaN</td>\n",
              "      <td>0.0</td>\n",
              "      <td>0</td>\n",
              "      <td>0</td>\n",
              "      <td>0</td>\n",
              "      <td>有</td>\n",
              "      <td>無</td>\n",
              "      <td>26105215</td>\n",
              "      <td>117290</td>\n",
              "      <td>NaN</td>\n",
              "      <td>0.0</td>\n",
              "      <td>0</td>\n",
              "      <td>NaN</td>\n",
              "      <td>RPRNMLNJLHGGFAF27DA</td>\n",
              "      <td>0.00</td>\n",
              "      <td>0.00</td>\n",
              "      <td>0.00</td>\n",
              "      <td>無</td>\n",
              "      <td>NaN</td>\n",
              "      <td>New_Taipei</td>\n",
              "    </tr>\n",
              "    <tr>\n",
              "      <th>14281</th>\n",
              "      <td>板橋區</td>\n",
              "      <td>房地(土地+建物)</td>\n",
              "      <td>三民路二段２４１號九樓</td>\n",
              "      <td>10.23</td>\n",
              "      <td>都市：其他:住宅區</td>\n",
              "      <td>NaN</td>\n",
              "      <td>NaN</td>\n",
              "      <td>1100220</td>\n",
              "      <td>土地1建物1車位0</td>\n",
              "      <td>九層</td>\n",
              "      <td>十一層</td>\n",
              "      <td>住宅大樓(11層含以上有電梯)</td>\n",
              "      <td>集合住宅</td>\n",
              "      <td>鋼筋混凝土造</td>\n",
              "      <td>1090929</td>\n",
              "      <td>70.1</td>\n",
              "      <td>2</td>\n",
              "      <td>1</td>\n",
              "      <td>1</td>\n",
              "      <td>有</td>\n",
              "      <td>有</td>\n",
              "      <td>10000000</td>\n",
              "      <td>142653</td>\n",
              "      <td>NaN</td>\n",
              "      <td>0.0</td>\n",
              "      <td>0</td>\n",
              "      <td>NaN</td>\n",
              "      <td>RPQUMLPLKHGGFAF18DA</td>\n",
              "      <td>42.80</td>\n",
              "      <td>1.24</td>\n",
              "      <td>3.09</td>\n",
              "      <td>有</td>\n",
              "      <td>NaN</td>\n",
              "      <td>New_Taipei</td>\n",
              "    </tr>\n",
              "    <tr>\n",
              "      <th>14282</th>\n",
              "      <td>板橋區</td>\n",
              "      <td>房地(土地+建物)</td>\n",
              "      <td>三民路二段２３５號五樓</td>\n",
              "      <td>9.51</td>\n",
              "      <td>都市：其他:住宅區</td>\n",
              "      <td>NaN</td>\n",
              "      <td>NaN</td>\n",
              "      <td>1100220</td>\n",
              "      <td>土地1建物1車位0</td>\n",
              "      <td>五層</td>\n",
              "      <td>十一層</td>\n",
              "      <td>住宅大樓(11層含以上有電梯)</td>\n",
              "      <td>集合住宅</td>\n",
              "      <td>鋼筋混凝土造</td>\n",
              "      <td>1090929</td>\n",
              "      <td>65.14</td>\n",
              "      <td>2</td>\n",
              "      <td>1</td>\n",
              "      <td>1</td>\n",
              "      <td>有</td>\n",
              "      <td>有</td>\n",
              "      <td>8870000</td>\n",
              "      <td>136168</td>\n",
              "      <td>NaN</td>\n",
              "      <td>0.0</td>\n",
              "      <td>0</td>\n",
              "      <td>NaN</td>\n",
              "      <td>RPRSMLPLKHGGFAF08DA</td>\n",
              "      <td>40.04</td>\n",
              "      <td>0.00</td>\n",
              "      <td>3.75</td>\n",
              "      <td>有</td>\n",
              "      <td>NaN</td>\n",
              "      <td>New_Taipei</td>\n",
              "    </tr>\n",
              "    <tr>\n",
              "      <th>14283</th>\n",
              "      <td>板橋區</td>\n",
              "      <td>房地(土地+建物)</td>\n",
              "      <td>三民路二段２４１號十一樓</td>\n",
              "      <td>12.15</td>\n",
              "      <td>都市：其他:住宅區</td>\n",
              "      <td>NaN</td>\n",
              "      <td>NaN</td>\n",
              "      <td>1100220</td>\n",
              "      <td>土地1建物1車位0</td>\n",
              "      <td>十一層</td>\n",
              "      <td>十一層</td>\n",
              "      <td>住宅大樓(11層含以上有電梯)</td>\n",
              "      <td>集合住宅</td>\n",
              "      <td>鋼筋混凝土造</td>\n",
              "      <td>1090929</td>\n",
              "      <td>83.62</td>\n",
              "      <td>2</td>\n",
              "      <td>1</td>\n",
              "      <td>1</td>\n",
              "      <td>有</td>\n",
              "      <td>有</td>\n",
              "      <td>12120000</td>\n",
              "      <td>144941</td>\n",
              "      <td>NaN</td>\n",
              "      <td>0.0</td>\n",
              "      <td>0</td>\n",
              "      <td>NaN</td>\n",
              "      <td>RPVSMLPLKHGGFAF48DA</td>\n",
              "      <td>48.36</td>\n",
              "      <td>0.74</td>\n",
              "      <td>7.12</td>\n",
              "      <td>有</td>\n",
              "      <td>NaN</td>\n",
              "      <td>New_Taipei</td>\n",
              "    </tr>\n",
              "    <tr>\n",
              "      <th>14284</th>\n",
              "      <td>板橋區</td>\n",
              "      <td>房地(土地+建物)</td>\n",
              "      <td>三民路二段２４３號四樓</td>\n",
              "      <td>14.5</td>\n",
              "      <td>都市：其他:住宅區</td>\n",
              "      <td>NaN</td>\n",
              "      <td>NaN</td>\n",
              "      <td>1100220</td>\n",
              "      <td>土地1建物1車位0</td>\n",
              "      <td>四層</td>\n",
              "      <td>十一層</td>\n",
              "      <td>住宅大樓(11層含以上有電梯)</td>\n",
              "      <td>集合住宅</td>\n",
              "      <td>鋼筋混凝土造</td>\n",
              "      <td>1090929</td>\n",
              "      <td>99.38999999999999</td>\n",
              "      <td>2</td>\n",
              "      <td>2</td>\n",
              "      <td>1</td>\n",
              "      <td>有</td>\n",
              "      <td>有</td>\n",
              "      <td>12750000</td>\n",
              "      <td>128283</td>\n",
              "      <td>NaN</td>\n",
              "      <td>0.0</td>\n",
              "      <td>0</td>\n",
              "      <td>NaN</td>\n",
              "      <td>RPXOMLQLKHGGFAF38DA</td>\n",
              "      <td>56.02</td>\n",
              "      <td>3.14</td>\n",
              "      <td>7.66</td>\n",
              "      <td>有</td>\n",
              "      <td>NaN</td>\n",
              "      <td>New_Taipei</td>\n",
              "    </tr>\n",
              "  </tbody>\n",
              "</table>\n",
              "<p>46153 rows × 34 columns</p>\n",
              "</div>"
            ],
            "text/plain": [
              "      鄉鎮市區       交易標的          土地位置建物門牌 土地移轉總面積平方公尺  ...   陽台面積 電梯 移轉編號        city\n",
              "1      文山區  房地(土地+建物)   興隆路二段２１７巷８之７號五樓        8.65  ...   5.79  有  NaN      Taipei\n",
              "2      文山區  房地(土地+建物)    和平東路四段６５巷７７弄１號        86.0  ...   6.11  無  NaN      Taipei\n",
              "3      文山區         建物       羅斯福路六段２６巷２號         0.0  ...   0.00  無  NaN      Taipei\n",
              "4      文山區  房地(土地+建物)    興隆路四段１４５巷３６號四樓       33.62  ...  16.76  無  1.0      Taipei\n",
              "5      文山區  房地(土地+建物)  興隆路三段１９２巷２弄２９號八樓        9.13  ...   0.00  有  NaN      Taipei\n",
              "...    ...        ...               ...         ...  ...    ... ..  ...         ...\n",
              "14280  土城區         土地          永和段306地號      222.57  ...   0.00  無  NaN  New_Taipei\n",
              "14281  板橋區  房地(土地+建物)       三民路二段２４１號九樓       10.23  ...   3.09  有  NaN  New_Taipei\n",
              "14282  板橋區  房地(土地+建物)       三民路二段２３５號五樓        9.51  ...   3.75  有  NaN  New_Taipei\n",
              "14283  板橋區  房地(土地+建物)      三民路二段２４１號十一樓       12.15  ...   7.12  有  NaN  New_Taipei\n",
              "14284  板橋區  房地(土地+建物)       三民路二段２４３號四樓        14.5  ...   7.66  有  NaN  New_Taipei\n",
              "\n",
              "[46153 rows x 34 columns]"
            ]
          },
          "metadata": {},
          "execution_count": 121
        }
      ]
    },
    {
      "cell_type": "markdown",
      "metadata": {
        "id": "c-YkK6N-D0RM"
      },
      "source": [
        "# 2. 資料清理與切片"
      ]
    },
    {
      "cell_type": "markdown",
      "metadata": {
        "id": "EyzNjhlcD0RN"
      },
      "source": [
        "因為我是想買來住的房子，所以幫忙刪除住宿用途以外的資料，並且限制\n",
        "1. 交易年月日，限制在110年\n",
        "2. 建物現況格局-房，1~5間 \n",
        "3. 建物現況格局-廳，1~2廳"
      ]
    },
    {
      "cell_type": "markdown",
      "metadata": {
        "id": "JfE03YOID0RN"
      },
      "source": [
        "以下columns_mapping、analysis_columns、columns_type提供給資料科學家配合使用\n",
        "1. 利用.rename()並配合以下columns_mapping，將原中文欄位名稱改為英文方便之後分析\n",
        "2. 取出主要用途(main_use)為'住家用'以及都市土地使用分區(use_zoning)為'住'的資料並針對以下欄位analysis_columns做分析並去除na值\n",
        "   (提示:先取完之後再.dropna())\n",
        "3. 觀察欄位資料型態，並利用.astype()搭配以下提供的columns_type做欄位型態轉換\n",
        "4. 做資料切片將<br>\n",
        "    新增欄位交易年月日(tx_dt_year)，從交易年月日(tx_dt)萃取出年份<br>\n",
        "    1.交易年月日(tx_dt_year)，限制在110年<br>\n",
        "    2.建物現況格局-房(room_number)，限制在1到5間<br>\n",
        "    3.建物現況格局-廳(hall_number)，限制在1到2廳<br>\n",
        "    4.最後運用.reset_index()重新定義索引"
      ]
    },
    {
      "cell_type": "code",
      "metadata": {
        "id": "GUMSq_sED0RN"
      },
      "source": [
        "columns_mapping = {'鄉鎮市區':'towns',\n",
        "'交易標的':'transaction_sign',\n",
        "'土地區段位置建物區段門牌':'house_number',\n",
        "'土地移轉總面積平方公尺':'land_area_square_meter', \n",
        "'都市土地使用分區':'use_zoning', \n",
        "'非都市土地使用分區':'land_use_district',\n",
        "'非都市土地使用編定':'land_use',\n",
        "'交易年月日':'tx_dt', \n",
        " '交易筆棟數':'transaction_pen_number', \n",
        " '移轉層次':'shifting_level', \n",
        " '總樓層數':'total_floor_number', \n",
        " '建物型態':'building_state', \n",
        " '主要用途':'main_use', \n",
        " '主要建材':'main_materials',\n",
        " '建築完成年月':'complete_date', \n",
        " '建物移轉總面積平方公尺':'building_area_square_meter', \n",
        " '建物現況格局-房':'room_number', \n",
        " '建物現況格局-廳':'hall_number', \n",
        " '建物現況格局-衛':'health_number', \n",
        "'建物現況格局-隔間':'compartmented_number', \n",
        " '有無管理組織':'manages', \n",
        " '總價元':'total_price', \n",
        " '單價元平方公尺':'unit_price', \n",
        " '車位類別':'berth_category', \n",
        " '車位移轉總面積(平方公尺)':'berth_area_square_meter',\n",
        "'車位總價元':'berth_price', \n",
        " '備註':'note', \n",
        " '編號':'serial_number', \n",
        " '主建物面積':'main_building_area', \n",
        " '附屬建物面積':'auxiliary_building_area', \n",
        " '陽台面積':'balcony_area', \n",
        " '電梯':'elevator'\n",
        "                  }\n",
        "analysis_columns = ['city','towns','main_use','use_zoning','total_price','building_area_square_meter',\n",
        "                                     'main_building_area',\n",
        "                                     'tx_dt','unit_price','room_number','hall_number','health_number']\n",
        "columns_type = {'total_price': 'int','unit_price':'float','building_area_square_meter':'float',\n",
        "                                      'main_building_area': 'float',\n",
        "                                      'room_number': 'int','hall_number': 'int','health_number': 'int'}"
      ],
      "execution_count": null,
      "outputs": []
    },
    {
      "cell_type": "code",
      "metadata": {
        "scrolled": true,
        "id": "OryZbNk2D0RO"
      },
      "source": [
        "#1. 利用.rename()並配合以下columns_mapping，將原中文欄位名稱改為英文方便之後分析\n",
        "analysis_data_s01 = all_data_s01.rename(columns=columns_mapping)\n",
        "analysis_data_s02 = all_data_s02.rename(columns=columns_mapping)\n",
        "analysis_data_s03 = all_data_s03.rename(columns=columns_mapping)"
      ],
      "execution_count": null,
      "outputs": []
    },
    {
      "cell_type": "code",
      "metadata": {
        "colab": {
          "base_uri": "https://localhost:8080/"
        },
        "id": "eyryZYFef_Oo",
        "outputId": "1c93489a-ed25-4ecc-ece0-e6d080587bfd"
      },
      "source": [
        "print(analysis_data_s01.shape)\n",
        "print(analysis_data_s02.shape)\n",
        "print(analysis_data_s03.shape)"
      ],
      "execution_count": null,
      "outputs": [
        {
          "output_type": "stream",
          "name": "stdout",
          "text": [
            "(46153, 34)\n",
            "(47436, 34)\n",
            "(40374, 34)\n"
          ]
        }
      ]
    },
    {
      "cell_type": "code",
      "metadata": {
        "colab": {
          "base_uri": "https://localhost:8080/"
        },
        "id": "_lTv_pkWD0RO",
        "outputId": "2ce23a83-9b45-4674-fb05-5ab642ce9212"
      },
      "source": [
        "#2. 取出主要用途(main_use)為'住家用'以及都市土地使用分區(use_zoning)為'住'的資料並針對以下欄位analysis_columns做分析並去除na值 (提示:先取完之後再.dropna())\n",
        "#   (提示:先取完之後再.dropna())\n",
        "analysis_data_s01= analysis_data_s01.loc[(analysis_data_s01.main_use=='住家用'),analysis_columns].dropna()\n",
        "analysis_data_s02= analysis_data_s02.loc[(analysis_data_s02.main_use=='住家用'),analysis_columns].dropna()\n",
        "analysis_data_s03= analysis_data_s03.loc[(analysis_data_s03.main_use=='住家用'),analysis_columns].dropna()\n",
        "#analysis_data = analysis_data.loc[(analysis_data.main_use=='住家用'),analysis_columns].dropna()\n",
        "# &(analysis_data.use_zoning=='%住%')\n",
        "analysis_data_s01.info(),analysis_data_s02.info(),analysis_data_s03.info()"
      ],
      "execution_count": 198,
      "outputs": [
        {
          "output_type": "stream",
          "name": "stdout",
          "text": [
            "<class 'pandas.core.frame.DataFrame'>\n",
            "Int64Index: 3405 entries, 0 to 3416\n",
            "Data columns (total 12 columns):\n",
            " #   Column                      Non-Null Count  Dtype  \n",
            "---  ------                      --------------  -----  \n",
            " 0   city                        3405 non-null   object \n",
            " 1   towns                       3405 non-null   object \n",
            " 2   main_use                    3405 non-null   object \n",
            " 3   use_zoning                  3405 non-null   object \n",
            " 4   total_price                 3405 non-null   int64  \n",
            " 5   building_area_square_meter  3405 non-null   float64\n",
            " 6   main_building_area          3405 non-null   float64\n",
            " 7   tx_dt                       3405 non-null   object \n",
            " 8   unit_price                  3405 non-null   float64\n",
            " 9   room_number                 3405 non-null   int64  \n",
            " 10  hall_number                 3405 non-null   int64  \n",
            " 11  health_number               3405 non-null   int64  \n",
            "dtypes: float64(3), int64(4), object(5)\n",
            "memory usage: 345.8+ KB\n",
            "<class 'pandas.core.frame.DataFrame'>\n",
            "Int64Index: 16547 entries, 2 to 12436\n",
            "Data columns (total 12 columns):\n",
            " #   Column                      Non-Null Count  Dtype  \n",
            "---  ------                      --------------  -----  \n",
            " 0   city                        16547 non-null  object \n",
            " 1   towns                       16547 non-null  object \n",
            " 2   main_use                    16547 non-null  object \n",
            " 3   use_zoning                  16547 non-null  object \n",
            " 4   total_price                 16547 non-null  object \n",
            " 5   building_area_square_meter  16547 non-null  object \n",
            " 6   main_building_area          16547 non-null  float64\n",
            " 7   tx_dt                       16547 non-null  object \n",
            " 8   unit_price                  16547 non-null  object \n",
            " 9   room_number                 16547 non-null  object \n",
            " 10  hall_number                 16547 non-null  object \n",
            " 11  health_number               16547 non-null  object \n",
            "dtypes: float64(1), object(11)\n",
            "memory usage: 1.6+ MB\n",
            "<class 'pandas.core.frame.DataFrame'>\n",
            "Int64Index: 13582 entries, 1 to 13526\n",
            "Data columns (total 12 columns):\n",
            " #   Column                      Non-Null Count  Dtype  \n",
            "---  ------                      --------------  -----  \n",
            " 0   city                        13582 non-null  object \n",
            " 1   towns                       13582 non-null  object \n",
            " 2   main_use                    13582 non-null  object \n",
            " 3   use_zoning                  13582 non-null  object \n",
            " 4   total_price                 13582 non-null  object \n",
            " 5   building_area_square_meter  13582 non-null  object \n",
            " 6   main_building_area          13582 non-null  float64\n",
            " 7   tx_dt                       13582 non-null  object \n",
            " 8   unit_price                  13582 non-null  object \n",
            " 9   room_number                 13582 non-null  object \n",
            " 10  hall_number                 13582 non-null  object \n",
            " 11  health_number               13582 non-null  object \n",
            "dtypes: float64(1), object(11)\n",
            "memory usage: 1.3+ MB\n"
          ]
        },
        {
          "output_type": "execute_result",
          "data": {
            "text/plain": [
              "(None, None, None)"
            ]
          },
          "metadata": {},
          "execution_count": 198
        }
      ]
    },
    {
      "cell_type": "code",
      "metadata": {
        "colab": {
          "base_uri": "https://localhost:8080/"
        },
        "id": "XFN3gPVgD0RO",
        "outputId": "e2a4e916-6699-4f61-f668-acf980115f28"
      },
      "source": [
        "#3. 觀察欄位資料型態，並利用.astype()搭配以下提供的columns_type做欄位型態轉換\n",
        "analysis_data_s01.info()\n",
        "analysis_data_s01 = analysis_data_s01.astype(columns_type)\n",
        "analysis_data_s01.info()"
      ],
      "execution_count": null,
      "outputs": [
        {
          "output_type": "stream",
          "name": "stdout",
          "text": [
            "<class 'pandas.core.frame.DataFrame'>\n",
            "Int64Index: 15964 entries, 1 to 14279\n",
            "Data columns (total 12 columns):\n",
            " #   Column                      Non-Null Count  Dtype  \n",
            "---  ------                      --------------  -----  \n",
            " 0   city                        15964 non-null  object \n",
            " 1   towns                       15964 non-null  object \n",
            " 2   main_use                    15964 non-null  object \n",
            " 3   use_zoning                  15964 non-null  object \n",
            " 4   total_price                 15964 non-null  object \n",
            " 5   building_area_square_meter  15964 non-null  object \n",
            " 6   main_building_area          15964 non-null  float64\n",
            " 7   tx_dt                       15964 non-null  object \n",
            " 8   unit_price                  15964 non-null  object \n",
            " 9   room_number                 15964 non-null  object \n",
            " 10  hall_number                 15964 non-null  object \n",
            " 11  health_number               15964 non-null  object \n",
            "dtypes: float64(1), object(11)\n",
            "memory usage: 1.6+ MB\n",
            "<class 'pandas.core.frame.DataFrame'>\n",
            "Int64Index: 15964 entries, 1 to 14279\n",
            "Data columns (total 12 columns):\n",
            " #   Column                      Non-Null Count  Dtype  \n",
            "---  ------                      --------------  -----  \n",
            " 0   city                        15964 non-null  object \n",
            " 1   towns                       15964 non-null  object \n",
            " 2   main_use                    15964 non-null  object \n",
            " 3   use_zoning                  15964 non-null  object \n",
            " 4   total_price                 15964 non-null  int64  \n",
            " 5   building_area_square_meter  15964 non-null  float64\n",
            " 6   main_building_area          15964 non-null  float64\n",
            " 7   tx_dt                       15964 non-null  object \n",
            " 8   unit_price                  15964 non-null  float64\n",
            " 9   room_number                 15964 non-null  int64  \n",
            " 10  hall_number                 15964 non-null  int64  \n",
            " 11  health_number               15964 non-null  int64  \n",
            "dtypes: float64(3), int64(4), object(5)\n",
            "memory usage: 1.6+ MB\n"
          ]
        }
      ]
    },
    {
      "cell_type": "code",
      "metadata": {
        "colab": {
          "base_uri": "https://localhost:8080/"
        },
        "id": "TbPKIS4r3c6F",
        "outputId": "4369bec6-45f1-4f84-c04b-7beb8a900661"
      },
      "source": [
        "analysis_data_s02.info()\n",
        "analysis_data_s02 = analysis_data_s02.astype(columns_type)\n",
        "analysis_data_s02.info()"
      ],
      "execution_count": 199,
      "outputs": [
        {
          "output_type": "stream",
          "name": "stdout",
          "text": [
            "<class 'pandas.core.frame.DataFrame'>\n",
            "Int64Index: 16547 entries, 2 to 12436\n",
            "Data columns (total 12 columns):\n",
            " #   Column                      Non-Null Count  Dtype  \n",
            "---  ------                      --------------  -----  \n",
            " 0   city                        16547 non-null  object \n",
            " 1   towns                       16547 non-null  object \n",
            " 2   main_use                    16547 non-null  object \n",
            " 3   use_zoning                  16547 non-null  object \n",
            " 4   total_price                 16547 non-null  object \n",
            " 5   building_area_square_meter  16547 non-null  object \n",
            " 6   main_building_area          16547 non-null  float64\n",
            " 7   tx_dt                       16547 non-null  object \n",
            " 8   unit_price                  16547 non-null  object \n",
            " 9   room_number                 16547 non-null  object \n",
            " 10  hall_number                 16547 non-null  object \n",
            " 11  health_number               16547 non-null  object \n",
            "dtypes: float64(1), object(11)\n",
            "memory usage: 1.6+ MB\n",
            "<class 'pandas.core.frame.DataFrame'>\n",
            "Int64Index: 16547 entries, 2 to 12436\n",
            "Data columns (total 12 columns):\n",
            " #   Column                      Non-Null Count  Dtype  \n",
            "---  ------                      --------------  -----  \n",
            " 0   city                        16547 non-null  object \n",
            " 1   towns                       16547 non-null  object \n",
            " 2   main_use                    16547 non-null  object \n",
            " 3   use_zoning                  16547 non-null  object \n",
            " 4   total_price                 16547 non-null  int64  \n",
            " 5   building_area_square_meter  16547 non-null  float64\n",
            " 6   main_building_area          16547 non-null  float64\n",
            " 7   tx_dt                       16547 non-null  object \n",
            " 8   unit_price                  16547 non-null  float64\n",
            " 9   room_number                 16547 non-null  int64  \n",
            " 10  hall_number                 16547 non-null  int64  \n",
            " 11  health_number               16547 non-null  int64  \n",
            "dtypes: float64(3), int64(4), object(5)\n",
            "memory usage: 1.6+ MB\n"
          ]
        }
      ]
    },
    {
      "cell_type": "code",
      "metadata": {
        "colab": {
          "base_uri": "https://localhost:8080/"
        },
        "id": "YPyzTfn-3iCL",
        "outputId": "8341c855-8c37-41a9-b9ac-7cf845e354ed"
      },
      "source": [
        "analysis_data_s03.info()\n",
        "analysis_data_s03 = analysis_data_s03.astype(columns_type)\n",
        "analysis_data_s03.info()"
      ],
      "execution_count": 200,
      "outputs": [
        {
          "output_type": "stream",
          "name": "stdout",
          "text": [
            "<class 'pandas.core.frame.DataFrame'>\n",
            "Int64Index: 13582 entries, 1 to 13526\n",
            "Data columns (total 12 columns):\n",
            " #   Column                      Non-Null Count  Dtype  \n",
            "---  ------                      --------------  -----  \n",
            " 0   city                        13582 non-null  object \n",
            " 1   towns                       13582 non-null  object \n",
            " 2   main_use                    13582 non-null  object \n",
            " 3   use_zoning                  13582 non-null  object \n",
            " 4   total_price                 13582 non-null  object \n",
            " 5   building_area_square_meter  13582 non-null  object \n",
            " 6   main_building_area          13582 non-null  float64\n",
            " 7   tx_dt                       13582 non-null  object \n",
            " 8   unit_price                  13582 non-null  object \n",
            " 9   room_number                 13582 non-null  object \n",
            " 10  hall_number                 13582 non-null  object \n",
            " 11  health_number               13582 non-null  object \n",
            "dtypes: float64(1), object(11)\n",
            "memory usage: 1.3+ MB\n",
            "<class 'pandas.core.frame.DataFrame'>\n",
            "Int64Index: 13582 entries, 1 to 13526\n",
            "Data columns (total 12 columns):\n",
            " #   Column                      Non-Null Count  Dtype  \n",
            "---  ------                      --------------  -----  \n",
            " 0   city                        13582 non-null  object \n",
            " 1   towns                       13582 non-null  object \n",
            " 2   main_use                    13582 non-null  object \n",
            " 3   use_zoning                  13582 non-null  object \n",
            " 4   total_price                 13582 non-null  int64  \n",
            " 5   building_area_square_meter  13582 non-null  float64\n",
            " 6   main_building_area          13582 non-null  float64\n",
            " 7   tx_dt                       13582 non-null  object \n",
            " 8   unit_price                  13582 non-null  float64\n",
            " 9   room_number                 13582 non-null  int64  \n",
            " 10  hall_number                 13582 non-null  int64  \n",
            " 11  health_number               13582 non-null  int64  \n",
            "dtypes: float64(3), int64(4), object(5)\n",
            "memory usage: 1.3+ MB\n"
          ]
        }
      ]
    },
    {
      "cell_type": "code",
      "metadata": {
        "scrolled": true,
        "id": "vetSs6zvD0RP"
      },
      "source": [
        "#4. 做資料切片將\n",
        "#     新增欄位交易年月日(tx_dt_year)，從交易年月日(tx_dt)萃取出年份\n",
        "#     1.交易年月日(tx_dt_year)，限制在109年\n",
        "#     2.建物現況格局-房(room_number)，限制在1到5間\n",
        "#     3.建物現況格局-廳(hall_number)，限制在1到2廳\n",
        "#     4.最後運用.reset_index()重新定義索引\n",
        "analysis_data_s01['tx_dt_year'] = analysis_data_s01['tx_dt'].apply(lambda x: int(x[:-4]))\n",
        "analysis_data_s01 = analysis_data_s01.loc[(analysis_data_s01.tx_dt_year>=110)&\n",
        "                                  (analysis_data_s01.room_number>=1)&\n",
        "                                  (analysis_data_s01.room_number<=5)&\n",
        "                                  (analysis_data_s01.hall_number>=1)&\n",
        "                                  (analysis_data_s01.hall_number<=2)]\n",
        "analysis_data_s01 = analysis_data_s01.reset_index(drop=True)"
      ],
      "execution_count": null,
      "outputs": []
    },
    {
      "cell_type": "code",
      "metadata": {
        "id": "9G-fnXMz3ozz"
      },
      "source": [
        "analysis_data_s02['tx_dt_year'] = analysis_data_s02['tx_dt'].apply(lambda x: int(x[:-4]))\n",
        "analysis_data_s02 = analysis_data_s02.loc[(analysis_data_s02.tx_dt_year>=110)&\n",
        "                                  (analysis_data_s02.room_number>=1)&\n",
        "                                  (analysis_data_s02.room_number<=5)&\n",
        "                                  (analysis_data_s02.hall_number>=1)&\n",
        "                                  (analysis_data_s02.hall_number<=2)]\n",
        "analysis_data_s02 = analysis_data_s02.reset_index(drop=True)"
      ],
      "execution_count": 203,
      "outputs": []
    },
    {
      "cell_type": "code",
      "metadata": {
        "id": "ycwRaBkt37LK"
      },
      "source": [
        "analysis_data_s03['tx_dt_year'] = analysis_data_s03['tx_dt'].apply(lambda x: int(x[:-4]))\n",
        "analysis_data_s03 = analysis_data_s03.loc[(analysis_data_s03.tx_dt_year>=110)&\n",
        "                                  (analysis_data_s03.room_number>=1)&\n",
        "                                  (analysis_data_s03.room_number<=5)&\n",
        "                                  (analysis_data_s03.hall_number>=1)&\n",
        "                                  (analysis_data_s03.hall_number<=2)]\n",
        "analysis_data_s03 = analysis_data_s03.reset_index(drop=True)"
      ],
      "execution_count": 204,
      "outputs": []
    },
    {
      "cell_type": "markdown",
      "metadata": {
        "id": "24rg6XGBD0RP"
      },
      "source": [
        "# 3. 建立自定義特徵加入分析\n"
      ]
    },
    {
      "cell_type": "markdown",
      "metadata": {
        "id": "ghSrhYCoD0RP"
      },
      "source": [
        "以台灣來說大家都是以坪為單位計算使用面積，應該是不會問說你家有幾平方公尺吧?，但是偏偏資料中沒有以坪為單位計算，所以接下來請各位幫忙產生新的欄位以坪為單位計算面積，轉換公式我也幫你找好了，在下面的定義。<br>\n",
        "定義 : 1平方公尺相當於0.3025坪 <br>\n",
        "建立新特徵\n",
        "1. 建物移轉總面積坪(building_area_square_feet) : 建物移轉總面積平方公尺\\*0.3025\n",
        "2. 主建物面積坪(main_building_area_square_feet) : 主建物面積\\*0.3025\n",
        "3. 單價元坪(unit_price_square_feet) : 單價元平方公尺/0.3025"
      ]
    },
    {
      "cell_type": "markdown",
      "metadata": {
        "id": "Rw8JrgVOD0RP"
      },
      "source": [
        "可以利用.describe()做一下資料觀察，是否有奇怪的資料?<br>\n",
        "如果有請將資料移除，並說明為什麼移除此資料?<br>\n",
        "移除後再用.describe()觀察是否還有奇怪的資料?"
      ]
    },
    {
      "cell_type": "code",
      "metadata": {
        "id": "5eVTZEDND0RP"
      },
      "source": [
        "# 建立新特徵\n",
        "# 1. 建物移轉總面積坪(building_area_square_feet) : 建物移轉總面積平方公尺*0.3025\n",
        "# 2. 主建物面積坪(main_building_area_square_feet) : 主建物面積*0.3025\n",
        "# 3. 單價元坪(unit_price_square_feet) : 單價元平方公尺/0.3025\n",
        "analysis_data_s01['building_area_square_feet'] = analysis_data_s01.building_area_square_meter*0.3025\n",
        "analysis_data_s01['main_building_area_square_feet'] = analysis_data_s01.main_building_area*0.3025\n",
        "analysis_data_s01['unit_price_square_feet'] = analysis_data_s01.unit_price/0.3025\n",
        "\n",
        "analysis_data_s02['building_area_square_feet'] = analysis_data_s02.building_area_square_meter*0.3025\n",
        "analysis_data_s02['main_building_area_square_feet'] = analysis_data_s02.main_building_area*0.3025\n",
        "analysis_data_s02['unit_price_square_feet'] = analysis_data_s02.unit_price/0.3025\n",
        "\n",
        "analysis_data_s03['building_area_square_feet'] = analysis_data_s03.building_area_square_meter*0.3025\n",
        "analysis_data_s03['main_building_area_square_feet'] = analysis_data_s03.main_building_area*0.3025\n",
        "analysis_data_s03['unit_price_square_feet'] = analysis_data_s03.unit_price/0.3025"
      ],
      "execution_count": 205,
      "outputs": []
    },
    {
      "cell_type": "code",
      "metadata": {
        "scrolled": true,
        "colab": {
          "base_uri": "https://localhost:8080/",
          "height": 314
        },
        "id": "ZxFASueUD0RP",
        "outputId": "683b8438-a823-426e-a7b0-e6906b1338cb"
      },
      "source": [
        "# 可以利用.describe()做一下資料觀察，是否有奇怪的資料?\n",
        "# 如果有請將資料移除，並說明為什麼移除此資料?\n",
        "# 觀察到有總價total_price最小值為0還有主建物面積main_building_area最小為0的，進一步將其拿掉\n",
        "\n",
        "analysis_data_s01.describe()"
      ],
      "execution_count": null,
      "outputs": [
        {
          "output_type": "execute_result",
          "data": {
            "text/html": [
              "<div>\n",
              "<style scoped>\n",
              "    .dataframe tbody tr th:only-of-type {\n",
              "        vertical-align: middle;\n",
              "    }\n",
              "\n",
              "    .dataframe tbody tr th {\n",
              "        vertical-align: top;\n",
              "    }\n",
              "\n",
              "    .dataframe thead th {\n",
              "        text-align: right;\n",
              "    }\n",
              "</style>\n",
              "<table border=\"1\" class=\"dataframe\">\n",
              "  <thead>\n",
              "    <tr style=\"text-align: right;\">\n",
              "      <th></th>\n",
              "      <th>total_price</th>\n",
              "      <th>building_area_square_meter</th>\n",
              "      <th>main_building_area</th>\n",
              "      <th>unit_price</th>\n",
              "      <th>room_number</th>\n",
              "      <th>hall_number</th>\n",
              "      <th>health_number</th>\n",
              "      <th>tx_dt_year</th>\n",
              "      <th>building_area_square_feet</th>\n",
              "      <th>main_building_area_square_feet</th>\n",
              "      <th>unit_price_square_feet</th>\n",
              "    </tr>\n",
              "  </thead>\n",
              "  <tbody>\n",
              "    <tr>\n",
              "      <th>count</th>\n",
              "      <td>3.417000e+03</td>\n",
              "      <td>3417.000000</td>\n",
              "      <td>3417.000000</td>\n",
              "      <td>3417.000000</td>\n",
              "      <td>3417.000000</td>\n",
              "      <td>3417.000000</td>\n",
              "      <td>3417.000000</td>\n",
              "      <td>3417.0</td>\n",
              "      <td>3417.000000</td>\n",
              "      <td>3417.000000</td>\n",
              "      <td>3.417000e+03</td>\n",
              "    </tr>\n",
              "    <tr>\n",
              "      <th>mean</th>\n",
              "      <td>1.179045e+07</td>\n",
              "      <td>119.102294</td>\n",
              "      <td>78.602248</td>\n",
              "      <td>100780.358502</td>\n",
              "      <td>2.750658</td>\n",
              "      <td>1.737782</td>\n",
              "      <td>1.683933</td>\n",
              "      <td>110.0</td>\n",
              "      <td>36.028444</td>\n",
              "      <td>23.777180</td>\n",
              "      <td>3.331582e+05</td>\n",
              "    </tr>\n",
              "    <tr>\n",
              "      <th>std</th>\n",
              "      <td>1.325205e+07</td>\n",
              "      <td>92.146826</td>\n",
              "      <td>40.912201</td>\n",
              "      <td>66605.400458</td>\n",
              "      <td>0.952557</td>\n",
              "      <td>0.439905</td>\n",
              "      <td>0.696396</td>\n",
              "      <td>0.0</td>\n",
              "      <td>27.874415</td>\n",
              "      <td>12.375941</td>\n",
              "      <td>2.201831e+05</td>\n",
              "    </tr>\n",
              "    <tr>\n",
              "      <th>min</th>\n",
              "      <td>6.700000e+04</td>\n",
              "      <td>1.240000</td>\n",
              "      <td>0.000000</td>\n",
              "      <td>0.000000</td>\n",
              "      <td>1.000000</td>\n",
              "      <td>1.000000</td>\n",
              "      <td>0.000000</td>\n",
              "      <td>110.0</td>\n",
              "      <td>0.375100</td>\n",
              "      <td>0.000000</td>\n",
              "      <td>0.000000e+00</td>\n",
              "    </tr>\n",
              "    <tr>\n",
              "      <th>25%</th>\n",
              "      <td>5.450000e+06</td>\n",
              "      <td>77.600000</td>\n",
              "      <td>54.600000</td>\n",
              "      <td>54485.000000</td>\n",
              "      <td>2.000000</td>\n",
              "      <td>1.000000</td>\n",
              "      <td>1.000000</td>\n",
              "      <td>110.0</td>\n",
              "      <td>23.474000</td>\n",
              "      <td>16.516500</td>\n",
              "      <td>1.801157e+05</td>\n",
              "    </tr>\n",
              "    <tr>\n",
              "      <th>50%</th>\n",
              "      <td>8.500000e+06</td>\n",
              "      <td>107.530000</td>\n",
              "      <td>76.000000</td>\n",
              "      <td>80250.000000</td>\n",
              "      <td>3.000000</td>\n",
              "      <td>2.000000</td>\n",
              "      <td>2.000000</td>\n",
              "      <td>110.0</td>\n",
              "      <td>32.527825</td>\n",
              "      <td>22.990000</td>\n",
              "      <td>2.652893e+05</td>\n",
              "    </tr>\n",
              "    <tr>\n",
              "      <th>75%</th>\n",
              "      <td>1.398000e+07</td>\n",
              "      <td>145.900000</td>\n",
              "      <td>93.860000</td>\n",
              "      <td>126801.000000</td>\n",
              "      <td>3.000000</td>\n",
              "      <td>2.000000</td>\n",
              "      <td>2.000000</td>\n",
              "      <td>110.0</td>\n",
              "      <td>44.134750</td>\n",
              "      <td>28.392650</td>\n",
              "      <td>4.191769e+05</td>\n",
              "    </tr>\n",
              "    <tr>\n",
              "      <th>max</th>\n",
              "      <td>2.933900e+08</td>\n",
              "      <td>3989.880000</td>\n",
              "      <td>715.900000</td>\n",
              "      <td>500204.000000</td>\n",
              "      <td>5.000000</td>\n",
              "      <td>2.000000</td>\n",
              "      <td>6.000000</td>\n",
              "      <td>110.0</td>\n",
              "      <td>1206.938700</td>\n",
              "      <td>216.559750</td>\n",
              "      <td>1.653567e+06</td>\n",
              "    </tr>\n",
              "  </tbody>\n",
              "</table>\n",
              "</div>"
            ],
            "text/plain": [
              "        total_price  ...  unit_price_square_feet\n",
              "count  3.417000e+03  ...            3.417000e+03\n",
              "mean   1.179045e+07  ...            3.331582e+05\n",
              "std    1.325205e+07  ...            2.201831e+05\n",
              "min    6.700000e+04  ...            0.000000e+00\n",
              "25%    5.450000e+06  ...            1.801157e+05\n",
              "50%    8.500000e+06  ...            2.652893e+05\n",
              "75%    1.398000e+07  ...            4.191769e+05\n",
              "max    2.933900e+08  ...            1.653567e+06\n",
              "\n",
              "[8 rows x 11 columns]"
            ]
          },
          "metadata": {},
          "execution_count": 141
        }
      ]
    },
    {
      "cell_type": "code",
      "metadata": {
        "colab": {
          "base_uri": "https://localhost:8080/",
          "height": 314
        },
        "id": "io-8ZRjND0RQ",
        "outputId": "ae0dd940-fac1-4918-f916-ec1491dce07b"
      },
      "source": [
        "# 移除後再用.describe()觀察是否還有奇怪的資料?\n",
        "# 否\n",
        "analysis_data_s01 = analysis_data_s01.loc[(analysis_data_s01.total_price!=0)&(analysis_data_s01.main_building_area!=0)&(analysis_data_s01.unit_price_square_feet!=0)]\n",
        "analysis_data_s02 = analysis_data_s02.loc[(analysis_data_s02.total_price!=0)&(analysis_data_s02.main_building_area!=0)&(analysis_data_s02.unit_price_square_feet!=0)]\n",
        "analysis_data_s03 = analysis_data_s03.loc[(analysis_data_s03.total_price!=0)&(analysis_data_s03.main_building_area!=0)&(analysis_data_s03.unit_price_square_feet!=0)]\n",
        "\n",
        "analysis_data_s01.describe()"
      ],
      "execution_count": 207,
      "outputs": [
        {
          "output_type": "execute_result",
          "data": {
            "text/html": [
              "<div>\n",
              "<style scoped>\n",
              "    .dataframe tbody tr th:only-of-type {\n",
              "        vertical-align: middle;\n",
              "    }\n",
              "\n",
              "    .dataframe tbody tr th {\n",
              "        vertical-align: top;\n",
              "    }\n",
              "\n",
              "    .dataframe thead th {\n",
              "        text-align: right;\n",
              "    }\n",
              "</style>\n",
              "<table border=\"1\" class=\"dataframe\">\n",
              "  <thead>\n",
              "    <tr style=\"text-align: right;\">\n",
              "      <th></th>\n",
              "      <th>total_price</th>\n",
              "      <th>building_area_square_meter</th>\n",
              "      <th>main_building_area</th>\n",
              "      <th>unit_price</th>\n",
              "      <th>room_number</th>\n",
              "      <th>hall_number</th>\n",
              "      <th>health_number</th>\n",
              "      <th>tx_dt_year</th>\n",
              "      <th>building_area_square_feet</th>\n",
              "      <th>main_building_area_square_feet</th>\n",
              "      <th>unit_price_square_feet</th>\n",
              "    </tr>\n",
              "  </thead>\n",
              "  <tbody>\n",
              "    <tr>\n",
              "      <th>count</th>\n",
              "      <td>3.405000e+03</td>\n",
              "      <td>3405.000000</td>\n",
              "      <td>3405.000000</td>\n",
              "      <td>3405.000000</td>\n",
              "      <td>3405.000000</td>\n",
              "      <td>3405.000000</td>\n",
              "      <td>3405.000000</td>\n",
              "      <td>3405.0</td>\n",
              "      <td>3405.000000</td>\n",
              "      <td>3405.000000</td>\n",
              "      <td>3.405000e+03</td>\n",
              "    </tr>\n",
              "    <tr>\n",
              "      <th>mean</th>\n",
              "      <td>1.180840e+07</td>\n",
              "      <td>119.262059</td>\n",
              "      <td>78.877706</td>\n",
              "      <td>100822.175624</td>\n",
              "      <td>2.750954</td>\n",
              "      <td>1.738326</td>\n",
              "      <td>1.684581</td>\n",
              "      <td>110.0</td>\n",
              "      <td>36.076773</td>\n",
              "      <td>23.860506</td>\n",
              "      <td>3.332964e+05</td>\n",
              "    </tr>\n",
              "    <tr>\n",
              "      <th>std</th>\n",
              "      <td>1.326806e+07</td>\n",
              "      <td>92.214250</td>\n",
              "      <td>40.719637</td>\n",
              "      <td>66682.666729</td>\n",
              "      <td>0.953811</td>\n",
              "      <td>0.439611</td>\n",
              "      <td>0.696904</td>\n",
              "      <td>0.0</td>\n",
              "      <td>27.894811</td>\n",
              "      <td>12.317690</td>\n",
              "      <td>2.204386e+05</td>\n",
              "    </tr>\n",
              "    <tr>\n",
              "      <th>min</th>\n",
              "      <td>6.700000e+04</td>\n",
              "      <td>1.240000</td>\n",
              "      <td>1.060000</td>\n",
              "      <td>4456.000000</td>\n",
              "      <td>1.000000</td>\n",
              "      <td>1.000000</td>\n",
              "      <td>0.000000</td>\n",
              "      <td>110.0</td>\n",
              "      <td>0.375100</td>\n",
              "      <td>0.320650</td>\n",
              "      <td>1.473058e+04</td>\n",
              "    </tr>\n",
              "    <tr>\n",
              "      <th>25%</th>\n",
              "      <td>5.480000e+06</td>\n",
              "      <td>77.650000</td>\n",
              "      <td>55.000000</td>\n",
              "      <td>54476.000000</td>\n",
              "      <td>2.000000</td>\n",
              "      <td>1.000000</td>\n",
              "      <td>1.000000</td>\n",
              "      <td>110.0</td>\n",
              "      <td>23.489125</td>\n",
              "      <td>16.637500</td>\n",
              "      <td>1.800860e+05</td>\n",
              "    </tr>\n",
              "    <tr>\n",
              "      <th>50%</th>\n",
              "      <td>8.500000e+06</td>\n",
              "      <td>107.590000</td>\n",
              "      <td>76.070000</td>\n",
              "      <td>80122.000000</td>\n",
              "      <td>3.000000</td>\n",
              "      <td>2.000000</td>\n",
              "      <td>2.000000</td>\n",
              "      <td>110.0</td>\n",
              "      <td>32.545975</td>\n",
              "      <td>23.011175</td>\n",
              "      <td>2.648661e+05</td>\n",
              "    </tr>\n",
              "    <tr>\n",
              "      <th>75%</th>\n",
              "      <td>1.400000e+07</td>\n",
              "      <td>145.980000</td>\n",
              "      <td>93.960000</td>\n",
              "      <td>126930.000000</td>\n",
              "      <td>3.000000</td>\n",
              "      <td>2.000000</td>\n",
              "      <td>2.000000</td>\n",
              "      <td>110.0</td>\n",
              "      <td>44.158950</td>\n",
              "      <td>28.422900</td>\n",
              "      <td>4.196033e+05</td>\n",
              "    </tr>\n",
              "    <tr>\n",
              "      <th>max</th>\n",
              "      <td>2.933900e+08</td>\n",
              "      <td>3989.880000</td>\n",
              "      <td>715.900000</td>\n",
              "      <td>500204.000000</td>\n",
              "      <td>5.000000</td>\n",
              "      <td>2.000000</td>\n",
              "      <td>6.000000</td>\n",
              "      <td>110.0</td>\n",
              "      <td>1206.938700</td>\n",
              "      <td>216.559750</td>\n",
              "      <td>1.653567e+06</td>\n",
              "    </tr>\n",
              "  </tbody>\n",
              "</table>\n",
              "</div>"
            ],
            "text/plain": [
              "        total_price  ...  unit_price_square_feet\n",
              "count  3.405000e+03  ...            3.405000e+03\n",
              "mean   1.180840e+07  ...            3.332964e+05\n",
              "std    1.326806e+07  ...            2.204386e+05\n",
              "min    6.700000e+04  ...            1.473058e+04\n",
              "25%    5.480000e+06  ...            1.800860e+05\n",
              "50%    8.500000e+06  ...            2.648661e+05\n",
              "75%    1.400000e+07  ...            4.196033e+05\n",
              "max    2.933900e+08  ...            1.653567e+06\n",
              "\n",
              "[8 rows x 11 columns]"
            ]
          },
          "metadata": {},
          "execution_count": 207
        }
      ]
    },
    {
      "cell_type": "code",
      "metadata": {
        "colab": {
          "base_uri": "https://localhost:8080/"
        },
        "id": "q9cq3KUrsxjx",
        "outputId": "f2244987-fbc8-42bb-fcec-c83d0c6143b6"
      },
      "source": [
        "analysis_data_s01.shape,analysis_data_s02.shape,analysis_data_s03.shape"
      ],
      "execution_count": 209,
      "outputs": [
        {
          "output_type": "execute_result",
          "data": {
            "text/plain": [
              "((3405, 16), (13554, 16), (11732, 16))"
            ]
          },
          "metadata": {},
          "execution_count": 209
        }
      ]
    },
    {
      "cell_type": "code",
      "metadata": {
        "colab": {
          "base_uri": "https://localhost:8080/"
        },
        "id": "ZlcPcJY1ts8n",
        "outputId": "4d495916-5ff2-4579-af64-0e310cc75341"
      },
      "source": [
        "analysis_data_s01.info(),analysis_data_s02.info(),analysis_data_s03.info()"
      ],
      "execution_count": 211,
      "outputs": [
        {
          "output_type": "stream",
          "name": "stdout",
          "text": [
            "<class 'pandas.core.frame.DataFrame'>\n",
            "Int64Index: 3405 entries, 0 to 3416\n",
            "Data columns (total 16 columns):\n",
            " #   Column                          Non-Null Count  Dtype  \n",
            "---  ------                          --------------  -----  \n",
            " 0   city                            3405 non-null   object \n",
            " 1   towns                           3405 non-null   object \n",
            " 2   main_use                        3405 non-null   object \n",
            " 3   use_zoning                      3405 non-null   object \n",
            " 4   total_price                     3405 non-null   int64  \n",
            " 5   building_area_square_meter      3405 non-null   float64\n",
            " 6   main_building_area              3405 non-null   float64\n",
            " 7   tx_dt                           3405 non-null   object \n",
            " 8   unit_price                      3405 non-null   float64\n",
            " 9   room_number                     3405 non-null   int64  \n",
            " 10  hall_number                     3405 non-null   int64  \n",
            " 11  health_number                   3405 non-null   int64  \n",
            " 12  tx_dt_year                      3405 non-null   int64  \n",
            " 13  building_area_square_feet       3405 non-null   float64\n",
            " 14  main_building_area_square_feet  3405 non-null   float64\n",
            " 15  unit_price_square_feet          3405 non-null   float64\n",
            "dtypes: float64(6), int64(5), object(5)\n",
            "memory usage: 452.2+ KB\n",
            "<class 'pandas.core.frame.DataFrame'>\n",
            "Int64Index: 13554 entries, 0 to 13727\n",
            "Data columns (total 16 columns):\n",
            " #   Column                          Non-Null Count  Dtype  \n",
            "---  ------                          --------------  -----  \n",
            " 0   city                            13554 non-null  object \n",
            " 1   towns                           13554 non-null  object \n",
            " 2   main_use                        13554 non-null  object \n",
            " 3   use_zoning                      13554 non-null  object \n",
            " 4   total_price                     13554 non-null  int64  \n",
            " 5   building_area_square_meter      13554 non-null  float64\n",
            " 6   main_building_area              13554 non-null  float64\n",
            " 7   tx_dt                           13554 non-null  object \n",
            " 8   unit_price                      13554 non-null  float64\n",
            " 9   room_number                     13554 non-null  int64  \n",
            " 10  hall_number                     13554 non-null  int64  \n",
            " 11  health_number                   13554 non-null  int64  \n",
            " 12  tx_dt_year                      13554 non-null  int64  \n",
            " 13  building_area_square_feet       13554 non-null  float64\n",
            " 14  main_building_area_square_feet  13554 non-null  float64\n",
            " 15  unit_price_square_feet          13554 non-null  float64\n",
            "dtypes: float64(6), int64(5), object(5)\n",
            "memory usage: 1.8+ MB\n",
            "<class 'pandas.core.frame.DataFrame'>\n",
            "Int64Index: 11732 entries, 0 to 11735\n",
            "Data columns (total 16 columns):\n",
            " #   Column                          Non-Null Count  Dtype  \n",
            "---  ------                          --------------  -----  \n",
            " 0   city                            11732 non-null  object \n",
            " 1   towns                           11732 non-null  object \n",
            " 2   main_use                        11732 non-null  object \n",
            " 3   use_zoning                      11732 non-null  object \n",
            " 4   total_price                     11732 non-null  int64  \n",
            " 5   building_area_square_meter      11732 non-null  float64\n",
            " 6   main_building_area              11732 non-null  float64\n",
            " 7   tx_dt                           11732 non-null  object \n",
            " 8   unit_price                      11732 non-null  float64\n",
            " 9   room_number                     11732 non-null  int64  \n",
            " 10  hall_number                     11732 non-null  int64  \n",
            " 11  health_number                   11732 non-null  int64  \n",
            " 12  tx_dt_year                      11732 non-null  int64  \n",
            " 13  building_area_square_feet       11732 non-null  float64\n",
            " 14  main_building_area_square_feet  11732 non-null  float64\n",
            " 15  unit_price_square_feet          11732 non-null  float64\n",
            "dtypes: float64(6), int64(5), object(5)\n",
            "memory usage: 1.5+ MB\n"
          ]
        },
        {
          "output_type": "execute_result",
          "data": {
            "text/plain": [
              "(None, None, None)"
            ]
          },
          "metadata": {},
          "execution_count": 211
        }
      ]
    },
    {
      "cell_type": "markdown",
      "metadata": {
        "id": "rCYh1edSD0RQ"
      },
      "source": [
        "# 4. 找出台中市時價登入總價高度相關的變數"
      ]
    },
    {
      "cell_type": "markdown",
      "metadata": {
        "id": "H_EABW2AD0RQ"
      },
      "source": [
        "阿宏我是台中人他想找出影響台中市總價、單價元坪的因子<br>\n",
        "相關係數0.3以下為低相關，0.3\\~0.7為中等相關，0.7以上為高度相關<br>\n",
        "1. 資料切片切出city欄位為台中市的資料，並找出時價登入總價(total_price)高度相關的變數\n",
        "2. 資料切片切出city欄位為台中市的資料，找出單價元坪(unit_price_square_feet)高度相關的變數"
      ]
    },
    {
      "cell_type": "code",
      "metadata": {
        "colab": {
          "base_uri": "https://localhost:8080/",
          "height": 386
        },
        "id": "LeFdKeaSD0RQ",
        "outputId": "5990999e-6b1f-470e-8300-902787b1237d"
      },
      "source": [
        "# 阿宏我是台中人他想找出影響台中市總價、單價元坪的因子\n",
        "# 1. 資料切片切出city欄位為台中市的資料，並找出時價登入總價(total_price)高度相關的變數\n",
        "# 建物移轉總面積平方公尺、主建物面積、建物移轉總面積坪、主建物面積坪\n",
        "# 2. 資料切片切出city欄位為台中市的資料，找出單價元坪(unit_price_square_feet)高度相關的變數\n",
        "# 單價元平方公尺\n",
        "analysis_data_s01.loc[analysis_data_s01.city=='Taichung'].corr()[['total_price','unit_price_square_feet']]"
      ],
      "execution_count": 212,
      "outputs": [
        {
          "output_type": "execute_result",
          "data": {
            "text/html": [
              "<div>\n",
              "<style scoped>\n",
              "    .dataframe tbody tr th:only-of-type {\n",
              "        vertical-align: middle;\n",
              "    }\n",
              "\n",
              "    .dataframe tbody tr th {\n",
              "        vertical-align: top;\n",
              "    }\n",
              "\n",
              "    .dataframe thead th {\n",
              "        text-align: right;\n",
              "    }\n",
              "</style>\n",
              "<table border=\"1\" class=\"dataframe\">\n",
              "  <thead>\n",
              "    <tr style=\"text-align: right;\">\n",
              "      <th></th>\n",
              "      <th>total_price</th>\n",
              "      <th>unit_price_square_feet</th>\n",
              "    </tr>\n",
              "  </thead>\n",
              "  <tbody>\n",
              "    <tr>\n",
              "      <th>total_price</th>\n",
              "      <td>1.000000</td>\n",
              "      <td>0.465849</td>\n",
              "    </tr>\n",
              "    <tr>\n",
              "      <th>building_area_square_meter</th>\n",
              "      <td>0.426485</td>\n",
              "      <td>-0.050827</td>\n",
              "    </tr>\n",
              "    <tr>\n",
              "      <th>main_building_area</th>\n",
              "      <td>0.671099</td>\n",
              "      <td>-0.009201</td>\n",
              "    </tr>\n",
              "    <tr>\n",
              "      <th>unit_price</th>\n",
              "      <td>0.465849</td>\n",
              "      <td>1.000000</td>\n",
              "    </tr>\n",
              "    <tr>\n",
              "      <th>room_number</th>\n",
              "      <td>0.438292</td>\n",
              "      <td>0.068006</td>\n",
              "    </tr>\n",
              "    <tr>\n",
              "      <th>hall_number</th>\n",
              "      <td>0.394740</td>\n",
              "      <td>0.081986</td>\n",
              "    </tr>\n",
              "    <tr>\n",
              "      <th>health_number</th>\n",
              "      <td>0.511818</td>\n",
              "      <td>0.029976</td>\n",
              "    </tr>\n",
              "    <tr>\n",
              "      <th>tx_dt_year</th>\n",
              "      <td>NaN</td>\n",
              "      <td>NaN</td>\n",
              "    </tr>\n",
              "    <tr>\n",
              "      <th>building_area_square_feet</th>\n",
              "      <td>0.426485</td>\n",
              "      <td>-0.050827</td>\n",
              "    </tr>\n",
              "    <tr>\n",
              "      <th>main_building_area_square_feet</th>\n",
              "      <td>0.671099</td>\n",
              "      <td>-0.009201</td>\n",
              "    </tr>\n",
              "    <tr>\n",
              "      <th>unit_price_square_feet</th>\n",
              "      <td>0.465849</td>\n",
              "      <td>1.000000</td>\n",
              "    </tr>\n",
              "  </tbody>\n",
              "</table>\n",
              "</div>"
            ],
            "text/plain": [
              "                                total_price  unit_price_square_feet\n",
              "total_price                        1.000000                0.465849\n",
              "building_area_square_meter         0.426485               -0.050827\n",
              "main_building_area                 0.671099               -0.009201\n",
              "unit_price                         0.465849                1.000000\n",
              "room_number                        0.438292                0.068006\n",
              "hall_number                        0.394740                0.081986\n",
              "health_number                      0.511818                0.029976\n",
              "tx_dt_year                              NaN                     NaN\n",
              "building_area_square_feet          0.426485               -0.050827\n",
              "main_building_area_square_feet     0.671099               -0.009201\n",
              "unit_price_square_feet             0.465849                1.000000"
            ]
          },
          "metadata": {},
          "execution_count": 212
        }
      ]
    },
    {
      "cell_type": "markdown",
      "metadata": {
        "id": "6fVewmh6D0RQ"
      },
      "source": [
        "# 5. 資料視覺化並解釋\n"
      ]
    },
    {
      "cell_type": "markdown",
      "metadata": {
        "id": "iX-fEOBjD0RQ"
      },
      "source": [
        "我想要以視覺化的方式來看房價資料，並且請各位資料科學家解釋圖表給阿宏我知道\n",
        "1. 以城市(city)為x軸，以單價元坪(unit_price_square_feet)為y軸畫出boxplot，並找出單價元坪(unit_price_square_feet)中位數最高的地區\n",
        "2. 進一步對台中市的資料做圖，以建物現況格局-房(room_number)為x軸，以總價元(total_price)為y軸畫出boxplot，並找出總價元(total_price)中位數最高的房間數。hint:資料切片找出city欄位為台北市的資料，再進一步畫圖\n",
        "3. 對台中市的資料做圖，先將地區(twons)做編碼在進行，再以地區(twon)為x軸，以單價元坪(unit_price_square_feet)為y軸畫出boxplot，並找出單價元坪(unit_price_square_feet)中位數最高的地區。hint:運用LabelEncoder()對地區(twons)做編碼，運用.inverse_transform()反查編碼的地區"
      ]
    },
    {
      "cell_type": "code",
      "metadata": {
        "scrolled": false,
        "colab": {
          "base_uri": "https://localhost:8080/",
          "height": 531
        },
        "id": "tpwPngLxD0RR",
        "outputId": "d5dc7f2c-df7c-44c6-fbbf-50ab9ae78152"
      },
      "source": [
        "#1. 以城市(city)為x軸，以單價元坪(unit_price_square_feet)為y軸畫出boxplot，並找出單價元坪(unit_price_square_feet)中位數最高的地區\n",
        "#台中市\n",
        "import matplotlib.pyplot as plt\n",
        "import seaborn as sns\n",
        "#analysis_data_s01.boxplot(column=['unit_price_square_feet'],by='city',figsize=(16,6))\n",
        "\n",
        "fig=plt.figure(figsize=(18,8))\n",
        "sns.set_theme(style=\"whitegrid\")\n",
        "sns.boxplot(x=\"city\",y=\"unit_price_square_feet\",data=analysis_data_s01)\n"
      ],
      "execution_count": 215,
      "outputs": [
        {
          "output_type": "execute_result",
          "data": {
            "text/plain": [
              "<matplotlib.axes._subplots.AxesSubplot at 0x7f60bf522c90>"
            ]
          },
          "metadata": {},
          "execution_count": 215
        },
        {
          "output_type": "display_data",
          "data": {
            "image/png": "[encoded data removed]",
            "text/plain": [
              "<Figure size 1296x576 with 1 Axes>"
            ]
          },
          "metadata": {}
        }
      ]
    },
    {
      "cell_type": "code",
      "metadata": {
        "colab": {
          "base_uri": "https://localhost:8080/",
          "height": 531
        },
        "id": "CzuOS7h32rzK",
        "outputId": "a9887091-049d-433b-8267-712ec9201390"
      },
      "source": [
        "fig=plt.figure(figsize=(18,8))\n",
        "sns.boxplot(x=\"city\",y=\"unit_price_square_feet\",data=analysis_data_s02)"
      ],
      "execution_count": 216,
      "outputs": [
        {
          "output_type": "execute_result",
          "data": {
            "text/plain": [
              "<matplotlib.axes._subplots.AxesSubplot at 0x7f60bf482cd0>"
            ]
          },
          "metadata": {},
          "execution_count": 216
        },
        {
          "output_type": "display_data",
          "data": {
            "image/png": "[encoded data removed]",
            "text/plain": [
              "<Figure size 1296x576 with 1 Axes>"
            ]
          },
          "metadata": {}
        }
      ]
    },
    {
      "cell_type": "code",
      "metadata": {
        "colab": {
          "base_uri": "https://localhost:8080/",
          "height": 531
        },
        "id": "0XQ12Fx15Le_",
        "outputId": "2e9b0f51-faa9-430a-f058-0c70de16452d"
      },
      "source": [
        "fig=plt.figure(figsize=(18,8))\n",
        "sns.boxplot(x=\"city\",y=\"unit_price_square_feet\",data=analysis_data_s03)"
      ],
      "execution_count": 217,
      "outputs": [
        {
          "output_type": "execute_result",
          "data": {
            "text/plain": [
              "<matplotlib.axes._subplots.AxesSubplot at 0x7f60bf382390>"
            ]
          },
          "metadata": {},
          "execution_count": 217
        },
        {
          "output_type": "display_data",
          "data": {
            "image/png": "[encoded data removed]",
            "text/plain": [
              "<Figure size 1296x576 with 1 Axes>"
            ]
          },
          "metadata": {}
        }
      ]
    },
    {
      "cell_type": "code",
      "metadata": {
        "colab": {
          "base_uri": "https://localhost:8080/",
          "height": 1000
        },
        "id": "SCIWcSf2D0RR",
        "outputId": "ec2ec740-2ba2-40de-b69c-dd3f30eb3290"
      },
      "source": [
        "#2. 進一步對台中市的資料做圖，以建物現況格局-房(room_number)為x軸，以總價元(total_price)為y軸畫出boxplot，並找出總價元(total_price)中位數最高的房間數。hint:資料切片找出city欄位為台北市的資料，再進一步畫圖\n",
        "\n",
        "#analysis_data.loc[analysis_data.city=='Taichung'].boxplot(column=['total_price'],by='room_number',figsize=(16,6))\n",
        "fig=plt.figure(figsize=(18,8))\n",
        "sns.set_theme(style=\"whitegrid\")\n",
        "sns.boxplot(x='room_number',y=\"total_price\",data=analysis_data_s01.loc[analysis_data_s01.city=='Taichung'])\n",
        "\n",
        "fig=plt.figure(figsize=(18,8))\n",
        "sns.set_theme(style=\"whitegrid\")\n",
        "sns.boxplot(x='room_number',y=\"total_price\",data=analysis_data_s02.loc[analysis_data_s02.city=='Taichung'])\n",
        "\n",
        "fig=plt.figure(figsize=(18,8))\n",
        "sns.set_theme(style=\"whitegrid\")\n",
        "sns.boxplot(x='room_number',y=\"total_price\",data=analysis_data_s03.loc[analysis_data_s03.city=='Taichung'])"
      ],
      "execution_count": 224,
      "outputs": [
        {
          "output_type": "execute_result",
          "data": {
            "text/plain": [
              "<matplotlib.axes._subplots.AxesSubplot at 0x7f60becea450>"
            ]
          },
          "metadata": {},
          "execution_count": 224
        },
        {
          "output_type": "display_data",
          "data": {
            "image/png": "[encoded data removed]",
            "text/plain": [
              "<Figure size 1296x576 with 1 Axes>"
            ]
          },
          "metadata": {}
        },
        {
          "output_type": "display_data",
          "data": {
            "image/png": "[encoded data removed]",
            "text/plain": [
              "<Figure size 1296x576 with 1 Axes>"
            ]
          },
          "metadata": {}
        },
        {
          "output_type": "display_data",
          "data": {
            "image/png": "[encoded data removed]",
            "text/plain": [
              "<Figure size 1296x576 with 1 Axes>"
            ]
          },
          "metadata": {}
        }
      ]
    },
    {
      "cell_type": "code",
      "metadata": {
        "colab": {
          "base_uri": "https://localhost:8080/"
        },
        "id": "n5HZtEXt0bbQ",
        "outputId": "d5afb049-bebd-4f63-8ac4-4a27788bc264"
      },
      "source": [
        "analysis_data_s01[analysis_data_s01.city=='Taichung'].groupby('towns').unit_price_square_feet.median().sort_values(ascending=False)"
      ],
      "execution_count": 225,
      "outputs": [
        {
          "output_type": "execute_result",
          "data": {
            "text/plain": [
              "towns\n",
              "太平區    258631.404959\n",
              "大里區    245008.264463\n",
              "南屯區    227753.719008\n",
              "西屯區    219290.909091\n",
              "后里區    198833.057851\n",
              "西區     197801.652893\n",
              "北屯區    195566.942149\n",
              "潭子區    190561.983471\n",
              "北區     190333.884298\n",
              "豐原區    181760.330579\n",
              "神岡區    178138.842975\n",
              "大雅區    174337.190083\n",
              "沙鹿區    172525.619835\n",
              "東區     171709.090909\n",
              "南區     170750.413223\n",
              "中區     167381.818182\n",
              "清水區    152176.859504\n",
              "烏日區    148505.785124\n",
              "大肚區    148158.677686\n",
              "大甲區    127398.347107\n",
              "龍井區    123804.958678\n",
              "霧峰區    122614.876033\n",
              "東勢區    103710.743802\n",
              "梧棲區     92163.636364\n",
              "Name: unit_price_square_feet, dtype: float64"
            ]
          },
          "metadata": {},
          "execution_count": 225
        }
      ]
    },
    {
      "cell_type": "code",
      "metadata": {
        "colab": {
          "base_uri": "https://localhost:8080/"
        },
        "id": "oizycUkA5_IQ",
        "outputId": "bee643ec-1ad9-499c-b3b7-2d3c9b36b18c"
      },
      "source": [
        "analysis_data_s02[analysis_data_s02.city=='Taichung'].groupby('towns').unit_price_square_feet.median().sort_values(ascending=False)"
      ],
      "execution_count": 227,
      "outputs": [
        {
          "output_type": "execute_result",
          "data": {
            "text/plain": [
              "towns\n",
              "太平區    275469.421488\n",
              "西屯區    237996.694215\n",
              "南屯區    228105.785124\n",
              "霧峰區    212634.710744\n",
              "北屯區    203431.404959\n",
              "西區     203302.479339\n",
              "北區     200512.396694\n",
              "后里區    199352.066116\n",
              "大里區    195565.289256\n",
              "南區     186966.942149\n",
              "東區     181292.561983\n",
              "豐原區    177856.198347\n",
              "石岡區    174119.008264\n",
              "潭子區    171355.371901\n",
              "大雅區    170768.595041\n",
              "神岡區    168133.884298\n",
              "烏日區    162833.057851\n",
              "沙鹿區    157300.826446\n",
              "中區     154076.033058\n",
              "龍井區    150403.305785\n",
              "梧棲區    143910.743802\n",
              "新社區    142952.066116\n",
              "東勢區    118476.033058\n",
              "清水區    116285.950413\n",
              "大甲區    114066.115702\n",
              "外埔區    102495.867769\n",
              "大肚區    101623.140496\n",
              "大安區     39685.950413\n",
              "Name: unit_price_square_feet, dtype: float64"
            ]
          },
          "metadata": {},
          "execution_count": 227
        }
      ]
    },
    {
      "cell_type": "code",
      "metadata": {
        "colab": {
          "base_uri": "https://localhost:8080/"
        },
        "id": "searwYYo6Exw",
        "outputId": "305dea0a-d2cb-44c3-b92f-ef0c3aad5778"
      },
      "source": [
        "analysis_data_s03[analysis_data_s03.city=='Taichung'].groupby('towns').unit_price_square_feet.median().sort_values(ascending=False)"
      ],
      "execution_count": 228,
      "outputs": [
        {
          "output_type": "execute_result",
          "data": {
            "text/plain": [
              "towns\n",
              "后里區    258661.157025\n",
              "西屯區    250975.206612\n",
              "太平區    248983.471074\n",
              "霧峰區    247634.710744\n",
              "南屯區    228224.793388\n",
              "烏日區    226664.462810\n",
              "大里區    216347.107438\n",
              "外埔區    211709.090909\n",
              "西區     211061.157025\n",
              "北屯區    206752.066116\n",
              "北區     198441.322314\n",
              "南區     183867.768595\n",
              "東區     177980.165289\n",
              "中區     175084.297521\n",
              "潭子區    173844.628099\n",
              "豐原區    172568.595041\n",
              "大雅區    168647.933884\n",
              "梧棲區    162479.338843\n",
              "沙鹿區    159590.082645\n",
              "龍井區    156882.644628\n",
              "神岡區    149517.355372\n",
              "石岡區    146519.008264\n",
              "大肚區    122350.413223\n",
              "東勢區    122201.652893\n",
              "新社區    118938.842975\n",
              "大甲區    117038.016529\n",
              "清水區     91945.454545\n",
              "Name: unit_price_square_feet, dtype: float64"
            ]
          },
          "metadata": {},
          "execution_count": 228
        }
      ]
    },
    {
      "cell_type": "code",
      "metadata": {
        "id": "-eDX_P-9D0RR"
      },
      "source": [
        "#3. 對台中市的資料做圖，先將地區(twons)做編碼在進行，再以地區(twon)為x軸，以單價元坪(unit_price_square_feet)為y軸畫出boxplot，並找出單價元坪(unit_price_square_feet)中位數最高的地區。\n",
        "# hint:運用LabelEncoder()對地區(twons)做編碼，運用.inverse_transform()反查編碼的地區\n",
        "#\n",
        "from sklearn.preprocessing import LabelEncoder\n",
        "le01 = LabelEncoder().fit(analysis_data_s01['towns'].values)\n",
        "le02 = LabelEncoder().fit(analysis_data_s02['towns'].values)\n",
        "le03 = LabelEncoder().fit(analysis_data_s03['towns'].values)\n",
        "analysis_data_s01['towns_2'] = le01.transform(analysis_data_s01['towns'].values)\n",
        "analysis_data_s02['towns_2'] = le02.transform(analysis_data_s02['towns'].values)\n",
        "analysis_data_s03['towns_2'] = le03.transform(analysis_data_s03['towns'].values)"
      ],
      "execution_count": 237,
      "outputs": []
    },
    {
      "cell_type": "code",
      "metadata": {
        "colab": {
          "base_uri": "https://localhost:8080/",
          "height": 638
        },
        "id": "wt4CAlU7D0RR",
        "outputId": "9666a2b1-4a7a-4e1d-bcad-a702e7696a67"
      },
      "source": [
        "#analysis_data.loc[analysis_data.city=='Taichung'].boxplot(column=['unit_price_square_feet'],by='towns',figsize=(16,6))\n",
        "#analysis_data_s01.loc[analysis_data_s01.city=='Taichung'].boxplot(column=['unit_price_square_feet'],by='towns_2',figsize=(16,6))\n",
        "\n",
        "fig=plt.figure(figsize=(18,10))\n",
        "sns.set_theme(style=\"whitegrid\")\n",
        "sns.boxplot(x='towns_2',y=\"unit_price_square_feet\",data=analysis_data_s01.loc[analysis_data_s01.city=='Taichung'])"
      ],
      "execution_count": 238,
      "outputs": [
        {
          "output_type": "execute_result",
          "data": {
            "text/plain": [
              "<matplotlib.axes._subplots.AxesSubplot at 0x7f60beb76f50>"
            ]
          },
          "metadata": {},
          "execution_count": 238
        },
        {
          "output_type": "display_data",
          "data": {
            "image/png": "[encoded data removed]",
            "text/plain": [
              "<Figure size 1296x720 with 1 Axes>"
            ]
          },
          "metadata": {}
        }
      ]
    },
    {
      "cell_type": "code",
      "metadata": {
        "colab": {
          "base_uri": "https://localhost:8080/"
        },
        "id": "YI9ZKGkQD0RR",
        "outputId": "90f436ab-89a3-4581-8c39-cbf1df93e34c"
      },
      "source": [
        "le01.inverse_transform([33]),le01.inverse_transform([31]),le01.inverse_transform([19])"
      ],
      "execution_count": 241,
      "outputs": [
        {
          "output_type": "execute_result",
          "data": {
            "text/plain": [
              "(array(['太平區'], dtype=object),\n",
              " array(['大里區'], dtype=object),\n",
              " array(['南屯區'], dtype=object))"
            ]
          },
          "metadata": {},
          "execution_count": 241
        }
      ]
    },
    {
      "cell_type": "code",
      "metadata": {
        "colab": {
          "base_uri": "https://localhost:8080/"
        },
        "id": "-IuB2XSjjCuz",
        "outputId": "54fc1e55-14e1-4b00-bea1-c921cee28cc4"
      },
      "source": [
        "print(\"太平區中位數 坪數單價:\",analysis_data_s01[(analysis_data_s01['towns']=='太平區')&(analysis_data_s01.city=='Taichung')].unit_price_square_feet.median())\n",
        "print(\"大里區中位數 坪數單價:\",analysis_data_s01[(analysis_data_s01['towns']=='大里區')&(analysis_data_s01.city=='Taichung')].unit_price_square_feet.median())\n",
        "print(\"南屯區中位數 坪數單價:\",analysis_data_s01[(analysis_data_s01['towns']=='南屯區')&(analysis_data_s01.city=='Taichung')].unit_price_square_feet.median())"
      ],
      "execution_count": 232,
      "outputs": [
        {
          "output_type": "stream",
          "name": "stdout",
          "text": [
            "太平區中位數 坪數單價: 258631.40495867768\n",
            "大里區中位數 坪數單價: 245008.26446280992\n",
            "南屯區中位數 坪數單價: 227753.71900826448\n"
          ]
        }
      ]
    },
    {
      "cell_type": "code",
      "metadata": {
        "colab": {
          "base_uri": "https://localhost:8080/",
          "height": 638
        },
        "id": "3SQRt_LyBPIm",
        "outputId": "c1e05998-36ce-4830-be00-319e044904a7"
      },
      "source": [
        "fig=plt.figure(figsize=(18,10))\n",
        "sns.set_theme(style=\"whitegrid\")\n",
        "sns.boxplot(x='towns_2',y=\"unit_price_square_feet\",data=analysis_data_s02.loc[analysis_data_s02.city=='Taichung'])"
      ],
      "execution_count": 242,
      "outputs": [
        {
          "output_type": "execute_result",
          "data": {
            "text/plain": [
              "<matplotlib.axes._subplots.AxesSubplot at 0x7f60c17d7450>"
            ]
          },
          "metadata": {},
          "execution_count": 242
        },
        {
          "output_type": "display_data",
          "data": {
            "image/png": "[encoded data removed]",
            "text/plain": [
              "<Figure size 1296x720 with 1 Axes>"
            ]
          },
          "metadata": {}
        }
      ]
    },
    {
      "cell_type": "code",
      "metadata": {
        "colab": {
          "base_uri": "https://localhost:8080/"
        },
        "id": "Y5LXTkTKCcEm",
        "outputId": "6c35408e-14fb-4bb9-b482-7758090de435"
      },
      "source": [
        "le02.inverse_transform([34]),le02.inverse_transform([80]),le02.inverse_transform([19])"
      ],
      "execution_count": 243,
      "outputs": [
        {
          "output_type": "execute_result",
          "data": {
            "text/plain": [
              "(array(['太平區'], dtype=object),\n",
              " array(['西屯區'], dtype=object),\n",
              " array(['南屯區'], dtype=object))"
            ]
          },
          "metadata": {},
          "execution_count": 243
        }
      ]
    },
    {
      "cell_type": "code",
      "metadata": {
        "colab": {
          "base_uri": "https://localhost:8080/"
        },
        "id": "e2hUHOWhCw4Q",
        "outputId": "af70c50b-545f-4304-c344-8bec2725fa03"
      },
      "source": [
        "print(\"太平區中位數 坪數單價:\",analysis_data_s02[(analysis_data_s02['towns']=='太平區')&(analysis_data_s02.city=='Taichung')].unit_price_square_feet.median())\n",
        "print(\"大里區中位數 坪數單價:\",analysis_data_s02[(analysis_data_s02['towns']=='西屯區')&(analysis_data_s02.city=='Taichung')].unit_price_square_feet.median())\n",
        "print(\"南屯區中位數 坪數單價:\",analysis_data_s02[(analysis_data_s02['towns']=='南屯區')&(analysis_data_s02.city=='Taichung')].unit_price_square_feet.median())"
      ],
      "execution_count": 245,
      "outputs": [
        {
          "output_type": "stream",
          "name": "stdout",
          "text": [
            "太平區中位數 坪數單價: 275469.42148760334\n",
            "大里區中位數 坪數單價: 237996.69421487604\n",
            "南屯區中位數 坪數單價: 228105.78512396695\n"
          ]
        }
      ]
    },
    {
      "cell_type": "code",
      "metadata": {
        "colab": {
          "base_uri": "https://localhost:8080/",
          "height": 638
        },
        "id": "ybKDz2EUC8cs",
        "outputId": "61b2d36d-9595-494d-88c5-7fd3cdd5d020"
      },
      "source": [
        "fig=plt.figure(figsize=(18,10))\n",
        "sns.set_theme(style=\"whitegrid\")\n",
        "sns.boxplot(x='towns_2',y=\"unit_price_square_feet\",data=analysis_data_s03.loc[analysis_data_s03.city=='Taichung'])"
      ],
      "execution_count": 247,
      "outputs": [
        {
          "output_type": "execute_result",
          "data": {
            "text/plain": [
              "<matplotlib.axes._subplots.AxesSubplot at 0x7f60be0df750>"
            ]
          },
          "metadata": {},
          "execution_count": 247
        },
        {
          "output_type": "display_data",
          "data": {
            "image/png": "[encoded data removed]",
            "text/plain": [
              "<Figure size 1296x720 with 1 Axes>"
            ]
          },
          "metadata": {}
        }
      ]
    },
    {
      "cell_type": "code",
      "metadata": {
        "colab": {
          "base_uri": "https://localhost:8080/"
        },
        "id": "U8h2L_R7DAWR",
        "outputId": "790d1422-e2d3-4905-9f05-d226c8ccf7c4"
      },
      "source": [
        "le03.inverse_transform([21]),le03.inverse_transform([80]),le03.inverse_transform([34])"
      ],
      "execution_count": 250,
      "outputs": [
        {
          "output_type": "execute_result",
          "data": {
            "text/plain": [
              "(array(['后里區'], dtype=object),\n",
              " array(['西屯區'], dtype=object),\n",
              " array(['太平區'], dtype=object))"
            ]
          },
          "metadata": {},
          "execution_count": 250
        }
      ]
    },
    {
      "cell_type": "code",
      "metadata": {
        "colab": {
          "base_uri": "https://localhost:8080/"
        },
        "id": "cQEKq1iODcsy",
        "outputId": "b4b2e18b-46fd-4fb2-e53a-4d82249dd73c"
      },
      "source": [
        "print(\"后里區中位數 坪數單價:\",analysis_data_s03[(analysis_data_s03['towns']=='后里區')&(analysis_data_s03.city=='Taichung')].unit_price_square_feet.median())\n",
        "print(\"西屯區中位數 坪數單價:\",analysis_data_s03[(analysis_data_s03['towns']=='西屯區')&(analysis_data_s03.city=='Taichung')].unit_price_square_feet.median())\n",
        "print(\"太平區中位數 坪數單價:\",analysis_data_s03[(analysis_data_s03['towns']=='太平區')&(analysis_data_s03.city=='Taichung')].unit_price_square_feet.median())"
      ],
      "execution_count": 252,
      "outputs": [
        {
          "output_type": "stream",
          "name": "stdout",
          "text": [
            "后里區中位數 坪數單價: 258661.15702479339\n",
            "西屯區中位數 坪數單價: 250975.20661157026\n",
            "太平區中位數 坪數單價: 248983.47107438016\n"
          ]
        }
      ]
    }
  ]
}