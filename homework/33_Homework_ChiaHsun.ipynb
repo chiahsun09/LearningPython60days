{
  "nbformat": 4,
  "nbformat_minor": 0,
  "metadata": {
    "colab": {
      "name": "作業.ipynb",
      "provenance": []
    },
    "kernelspec": {
      "display_name": "Python 3",
      "language": "python",
      "name": "python3"
    },
    "language_info": {
      "codemirror_mode": {
        "name": "ipython",
        "version": 3
      },
      "file_extension": ".py",
      "mimetype": "text/x-python",
      "name": "python",
      "nbconvert_exporter": "python",
      "pygments_lexer": "ipython3",
      "version": "3.6.1"
    }
  },
  "cells": [
    {
      "cell_type": "markdown",
      "metadata": {
        "id": "yAsgvI2WF3i5"
      },
      "source": [
        "## 作業:\n",
        "在課堂中，檢定 𝐻_0:𝜇≤0， 𝐻_1:𝜇>0 ，假設在 𝐻_0 為真下，分配為 N(0,1)， 𝐻_1 為真下，分配為 N(2,1)。      \n",
        "假設 𝑋 ̅>1，拒絕 𝐻_0。         \n",
        "如果拒絕域改變時，𝛼 和 𝛽 會怎樣變化，       \n",
        "![](sample mean 1.png)\n",
        "可以拿起一張紙，試著畫畫看，就能找到答案。"
      ]
    },
    {
      "cell_type": "markdown",
      "metadata": {
        "id": "jVXuWCM0F3i7"
      },
      "source": [
        "### Q1: 假設 𝑋 ̅>2，拒絕 𝐻_0，𝛼 會變大/變小? 𝛽 會變大/變小? \n"
      ]
    },
    {
      "cell_type": "code",
      "metadata": {
        "id": "DT30IdSTF3i8",
        "outputId": "815c9caf-609e-46f8-e785-384ca1d4a80a"
      },
      "source": [
        "'''\n",
        "𝛽 變大,𝛼 變小\n",
        "'''"
      ],
      "execution_count": null,
      "outputs": [
        {
          "data": {
            "text/plain": [
              "'\\n你的答案\\n'"
            ]
          },
          "execution_count": 1,
          "metadata": {},
          "output_type": "execute_result"
        }
      ]
    },
    {
      "cell_type": "markdown",
      "metadata": {
        "id": "388AQV4QF3i8"
      },
      "source": [
        "### Q2: 假設 𝑋 ̅>0.2，拒絕 𝐻_0，𝛼 會變大/變小? 𝛽 會變大/變小? \n"
      ]
    },
    {
      "cell_type": "code",
      "metadata": {
        "id": "D0YugkS0F3i9",
        "outputId": "230476ef-52be-4bb8-965f-4f0500b23066"
      },
      "source": [
        "'''\n",
        "𝛽 變小,𝛼 變大\n",
        "'''"
      ],
      "execution_count": null,
      "outputs": [
        {
          "data": {
            "text/plain": [
              "'\\n你的答案\\n'"
            ]
          },
          "execution_count": 2,
          "metadata": {},
          "output_type": "execute_result"
        }
      ]
    },
    {
      "cell_type": "markdown",
      "metadata": {
        "id": "7BQM1NXyF3i9"
      },
      "source": [
        "### Q3: 𝛼 和 𝛽  有關聯性?"
      ]
    },
    {
      "cell_type": "code",
      "metadata": {
        "id": "OtddKOqkF3i9",
        "outputId": "7128ab99-a825-4bea-d681-0e48a6f498e6"
      },
      "source": [
        "'''\n",
        "相對關係\n",
        "𝛽 變大,𝛼 變小\n",
        "𝛽 變小,𝛼 變大\n",
        "'''"
      ],
      "execution_count": null,
      "outputs": [
        {
          "data": {
            "text/plain": [
              "'\\n你的答案\\n'"
            ]
          },
          "execution_count": 3,
          "metadata": {},
          "output_type": "execute_result"
        }
      ]
    }
  ]
}