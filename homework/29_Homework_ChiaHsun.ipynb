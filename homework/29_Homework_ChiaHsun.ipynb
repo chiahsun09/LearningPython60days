{
  "nbformat": 4,
  "nbformat_minor": 0,
  "metadata": {
    "colab": {
      "name": "作業.ipynb",
      "provenance": []
    },
    "kernelspec": {
      "display_name": "Python 3",
      "language": "python",
      "name": "python3"
    },
    "language_info": {
      "codemirror_mode": {
        "name": "ipython",
        "version": 3
      },
      "file_extension": ".py",
      "mimetype": "text/x-python",
      "name": "python",
      "nbconvert_exporter": "python",
      "pygments_lexer": "ipython3",
      "version": "3.6.1"
    }
  },
  "cells": [
    {
      "cell_type": "markdown",
      "metadata": {
        "id": "WaOU_oreHXnB"
      },
      "source": [
        "## 作業:\n",
        "今天學到五種分配，包含，   \n",
        "離散均勻分配( Discrete Uniform Distribution )   \n",
        "伯努利分配( Bernoulli Distribution )   \n",
        "二項分配(Binomial Distribution)  \n",
        "負二項分配(Negative Binomial Distribution)  \n",
        "超幾何分配(Hypergeometric Distribution)   \n",
        "今天我們透過作業中的問題，回想今天的內容吧!  "
      ]
    },
    {
      "cell_type": "markdown",
      "metadata": {
        "id": "TV0s6FBIHXnD"
      },
      "source": [
        "### Q1: 大樂透的頭獎，你必須從49個挑選出 6 個號碼，\n",
        "### 且這六個號碼與頭獎的六個號碼一致，頭獎的機率是屬於哪一種分配?"
      ]
    },
    {
      "cell_type": "code",
      "metadata": {
        "collapsed": true,
        "id": "a_OlMmyyHXnE"
      },
      "source": [
        "''''\n",
        "超幾何分配(Hypergeometric Distribution)\n",
        "\n",
        "49個號碼中6個屬於頭獎號碼(成功),抽樣6個號碼中須皆抽中頭獎號碼(皆抽到成功)，取出不放回。\n",
        "N=49 K=6 n=6 x=6\n",
        "''''"
      ],
      "execution_count": null,
      "outputs": []
    },
    {
      "cell_type": "markdown",
      "metadata": {
        "id": "xUEXU-NIHXnE"
      },
      "source": [
        "### Q2: 運用範例的 python 程式碼，計算大樂透的中頭獎機率?"
      ]
    },
    {
      "cell_type": "code",
      "metadata": {
        "collapsed": true,
        "colab": {
          "base_uri": "https://localhost:8080/"
        },
        "id": "Isv4phqnHXnF",
        "outputId": "a4cf035f-bb87-478d-e093-d15dff468e48"
      },
      "source": [
        "\n",
        "import numpy as np\n",
        "from scipy import stats\n",
        "N=49\n",
        "K=6\n",
        "n=6\n",
        "x=6\n",
        "prob=stats.hypergeom.pmf(x,N,K,n)\n",
        "print(f'大樂透中頭獎機率:{prob.round(10)}')"
      ],
      "execution_count": 2,
      "outputs": [
        {
          "output_type": "stream",
          "name": "stdout",
          "text": [
            "大樂透中頭獎機率:7.15e-08\n"
          ]
        }
      ]
    },
    {
      "cell_type": "markdown",
      "metadata": {
        "id": "qhD8UTk6HXnF"
      },
      "source": [
        "### Q3: 你覺得電腦簽注的中獎機率，和人腦簽注相比，哪一個機率高?"
      ]
    },
    {
      "cell_type": "code",
      "metadata": {
        "collapsed": true,
        "id": "SaUpO5u6HXnF"
      },
      "source": [
        "''''\n",
        "機率一樣\n",
        "''''"
      ],
      "execution_count": null,
      "outputs": []
    }
  ]
}