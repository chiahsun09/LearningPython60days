{
  "nbformat": 4,
  "nbformat_minor": 0,
  "metadata": {
    "colab": {
      "name": "探索性資料分析 (EDA) 探討變數之間的關係_HW.ipynb",
      "provenance": [],
      "toc_visible": true
    },
    "kernelspec": {
      "display_name": "Python 3",
      "language": "python",
      "name": "python3"
    },
    "language_info": {
      "codemirror_mode": {
        "name": "ipython",
        "version": 3
      },
      "file_extension": ".py",
      "mimetype": "text/x-python",
      "name": "python",
      "nbconvert_exporter": "python",
      "pygments_lexer": "ipython3",
      "version": "3.6.10"
    }
  },
  "cells": [
    {
      "cell_type": "markdown",
      "metadata": {
        "id": "QaFwqkQyE8GE"
      },
      "source": [
        "## 作業\n",
        "在鐵達尼資料集中，今天我們專注觀察變數之間的相關性，以Titanic_train.csv 中，首先將有遺失值的數值刪除，並回答下列問題。\n",
        "* Q1: 透過數值法計算  Age 和  Survived  是否有相關性?\n",
        "* Q2:透過數值法計算  Sex 和 Survived  是否有相關性?\n",
        "* Q3: 透過數值法計算  Age 和  Fare 是否有相關性?   \n",
        "* 提示:    \n",
        "1.產稱一個新的變數 Survived_cate ，資料型態傳換成類別型態      \n",
        "2.把題目中的 Survived 用 Survived_cate 來做分析       \n",
        "3.首先觀察一下這些變數的資料型態後，再來想要以哪一種判斷倆倆的相關性。     \n"
      ]
    },
    {
      "cell_type": "code",
      "metadata": {
        "colab": {
          "base_uri": "https://localhost:8080/"
        },
        "id": "1E1yaaMRQeQK",
        "outputId": "74f82224-6a23-4dd8-9af8-99bc9973435f"
      },
      "source": [
        "!pip install researchpy\n",
        "!pip install pingouin"
      ],
      "execution_count": 3,
      "outputs": [
        {
          "output_type": "stream",
          "name": "stdout",
          "text": [
            "Collecting researchpy\n",
            "  Downloading researchpy-0.3.2-py3-none-any.whl (15 kB)\n",
            "Requirement already satisfied: scipy in /usr/local/lib/python3.7/dist-packages (from researchpy) (1.7.1)\n",
            "Requirement already satisfied: patsy in /usr/local/lib/python3.7/dist-packages (from researchpy) (0.5.2)\n",
            "Requirement already satisfied: pandas in /usr/local/lib/python3.7/dist-packages (from researchpy) (1.1.5)\n",
            "Requirement already satisfied: statsmodels in /usr/local/lib/python3.7/dist-packages (from researchpy) (0.13.0)\n",
            "Requirement already satisfied: numpy in /usr/local/lib/python3.7/dist-packages (from researchpy) (1.19.5)\n",
            "Requirement already satisfied: python-dateutil>=2.7.3 in /usr/local/lib/python3.7/dist-packages (from pandas->researchpy) (2.8.2)\n",
            "Requirement already satisfied: pytz>=2017.2 in /usr/local/lib/python3.7/dist-packages (from pandas->researchpy) (2018.9)\n",
            "Requirement already satisfied: six>=1.5 in /usr/local/lib/python3.7/dist-packages (from python-dateutil>=2.7.3->pandas->researchpy) (1.15.0)\n",
            "Installing collected packages: researchpy\n",
            "Successfully installed researchpy-0.3.2\n",
            "Requirement already satisfied: pingouin in /usr/local/lib/python3.7/dist-packages (0.4.0)\n",
            "Requirement already satisfied: seaborn>=0.9.0 in /usr/local/lib/python3.7/dist-packages (from pingouin) (0.11.2)\n",
            "Requirement already satisfied: scikit-learn in /usr/local/lib/python3.7/dist-packages (from pingouin) (0.22.2.post1)\n",
            "Requirement already satisfied: matplotlib>=3.0.2 in /usr/local/lib/python3.7/dist-packages (from pingouin) (3.2.2)\n",
            "Requirement already satisfied: pandas>=1.0 in /usr/local/lib/python3.7/dist-packages (from pingouin) (1.1.5)\n",
            "Requirement already satisfied: scipy>=1.7 in /usr/local/lib/python3.7/dist-packages (from pingouin) (1.7.1)\n",
            "Requirement already satisfied: tabulate in /usr/local/lib/python3.7/dist-packages (from pingouin) (0.8.9)\n",
            "Requirement already satisfied: numpy>=1.19 in /usr/local/lib/python3.7/dist-packages (from pingouin) (1.19.5)\n",
            "Requirement already satisfied: outdated in /usr/local/lib/python3.7/dist-packages (from pingouin) (0.2.1)\n",
            "Requirement already satisfied: pandas-flavor>=0.2.0 in /usr/local/lib/python3.7/dist-packages (from pingouin) (0.2.0)\n",
            "Requirement already satisfied: statsmodels>=0.12.0 in /usr/local/lib/python3.7/dist-packages (from pingouin) (0.13.0)\n",
            "Requirement already satisfied: python-dateutil>=2.1 in /usr/local/lib/python3.7/dist-packages (from matplotlib>=3.0.2->pingouin) (2.8.2)\n",
            "Requirement already satisfied: cycler>=0.10 in /usr/local/lib/python3.7/dist-packages (from matplotlib>=3.0.2->pingouin) (0.10.0)\n",
            "Requirement already satisfied: pyparsing!=2.0.4,!=2.1.2,!=2.1.6,>=2.0.1 in /usr/local/lib/python3.7/dist-packages (from matplotlib>=3.0.2->pingouin) (2.4.7)\n",
            "Requirement already satisfied: kiwisolver>=1.0.1 in /usr/local/lib/python3.7/dist-packages (from matplotlib>=3.0.2->pingouin) (1.3.2)\n",
            "Requirement already satisfied: six in /usr/local/lib/python3.7/dist-packages (from cycler>=0.10->matplotlib>=3.0.2->pingouin) (1.15.0)\n",
            "Requirement already satisfied: pytz>=2017.2 in /usr/local/lib/python3.7/dist-packages (from pandas>=1.0->pingouin) (2018.9)\n",
            "Requirement already satisfied: xarray in /usr/local/lib/python3.7/dist-packages (from pandas-flavor>=0.2.0->pingouin) (0.18.2)\n",
            "Requirement already satisfied: patsy>=0.5.2 in /usr/local/lib/python3.7/dist-packages (from statsmodels>=0.12.0->pingouin) (0.5.2)\n",
            "Requirement already satisfied: requests in /usr/local/lib/python3.7/dist-packages (from outdated->pingouin) (2.23.0)\n",
            "Requirement already satisfied: littleutils in /usr/local/lib/python3.7/dist-packages (from outdated->pingouin) (0.2.2)\n",
            "Requirement already satisfied: urllib3!=1.25.0,!=1.25.1,<1.26,>=1.21.1 in /usr/local/lib/python3.7/dist-packages (from requests->outdated->pingouin) (1.24.3)\n",
            "Requirement already satisfied: chardet<4,>=3.0.2 in /usr/local/lib/python3.7/dist-packages (from requests->outdated->pingouin) (3.0.4)\n",
            "Requirement already satisfied: certifi>=2017.4.17 in /usr/local/lib/python3.7/dist-packages (from requests->outdated->pingouin) (2021.5.30)\n",
            "Requirement already satisfied: idna<3,>=2.5 in /usr/local/lib/python3.7/dist-packages (from requests->outdated->pingouin) (2.10)\n",
            "Requirement already satisfied: joblib>=0.11 in /usr/local/lib/python3.7/dist-packages (from scikit-learn->pingouin) (1.0.1)\n",
            "Requirement already satisfied: setuptools>=40.4 in /usr/local/lib/python3.7/dist-packages (from xarray->pandas-flavor>=0.2.0->pingouin) (57.4.0)\n"
          ]
        }
      ]
    },
    {
      "cell_type": "code",
      "metadata": {
        "id": "yz28_IgkYdBW"
      },
      "source": [
        "# import library\n",
        "import matplotlib.pyplot as plt\n",
        "import numpy as np\n",
        "import pandas as pd\n",
        "from scipy import stats\n",
        "import math\n",
        "import statistics\n",
        "import seaborn as sns\n",
        "from IPython.display import display\n",
        "import pingouin as pg\n",
        "import researchpy   \n",
        "%matplotlib inline"
      ],
      "execution_count": 4,
      "outputs": []
    },
    {
      "cell_type": "markdown",
      "metadata": {
        "id": "M6YWLLdqE8GI"
      },
      "source": [
        "## 讀入資料"
      ]
    },
    {
      "cell_type": "code",
      "metadata": {
        "id": "TnU74t6BE8GI",
        "colab": {
          "base_uri": "https://localhost:8080/"
        },
        "outputId": "59d61181-3ef8-436a-a3a4-dec7b0dadb42"
      },
      "source": [
        "df_train = pd.read_csv(\"Titanic_train.csv\")\n",
        "print(df_train.info())"
      ],
      "execution_count": 5,
      "outputs": [
        {
          "output_type": "stream",
          "name": "stdout",
          "text": [
            "<class 'pandas.core.frame.DataFrame'>\n",
            "RangeIndex: 891 entries, 0 to 890\n",
            "Data columns (total 12 columns):\n",
            " #   Column       Non-Null Count  Dtype  \n",
            "---  ------       --------------  -----  \n",
            " 0   PassengerId  891 non-null    int64  \n",
            " 1   Survived     891 non-null    int64  \n",
            " 2   Pclass       891 non-null    int64  \n",
            " 3   Name         891 non-null    object \n",
            " 4   Sex          891 non-null    object \n",
            " 5   Age          714 non-null    float64\n",
            " 6   SibSp        891 non-null    int64  \n",
            " 7   Parch        891 non-null    int64  \n",
            " 8   Ticket       891 non-null    object \n",
            " 9   Fare         891 non-null    float64\n",
            " 10  Cabin        204 non-null    object \n",
            " 11  Embarked     889 non-null    object \n",
            "dtypes: float64(2), int64(5), object(5)\n",
            "memory usage: 83.7+ KB\n",
            "None\n"
          ]
        }
      ]
    },
    {
      "cell_type": "code",
      "metadata": {
        "id": "cITJCaELE8GK"
      },
      "source": [
        "## 這邊我們做一個調整，把 Survived 變成離散型變數 Survived_cate\n",
        "s={0:\"N\",1:\"Y\"}\n",
        "df_train[\"Survived_cate\"]=df_train[\"Survived\"].map(s)"
      ],
      "execution_count": 9,
      "outputs": []
    },
    {
      "cell_type": "code",
      "metadata": {
        "colab": {
          "base_uri": "https://localhost:8080/"
        },
        "id": "QdXhj7o4QrUY",
        "outputId": "94207052-1f72-4ce8-aac8-b79c8fe934d6"
      },
      "source": [
        "df_train.Survived_cate.value_counts()"
      ],
      "execution_count": 10,
      "outputs": [
        {
          "output_type": "execute_result",
          "data": {
            "text/plain": [
              "N    549\n",
              "Y    342\n",
              "Name: Survived_cate, dtype: int64"
            ]
          },
          "metadata": {},
          "execution_count": 10
        }
      ]
    },
    {
      "cell_type": "markdown",
      "metadata": {
        "id": "YN-BISG4E8GM"
      },
      "source": [
        "###  Q1: 透過數值法計算  Age 和  Survived  是否有相關性?\n"
      ]
    },
    {
      "cell_type": "code",
      "metadata": {
        "colab": {
          "base_uri": "https://localhost:8080/"
        },
        "id": "I75kgER7V7e7",
        "outputId": "ec2a213c-117b-4a30-b8ee-ca99de9b2d7c"
      },
      "source": [
        "#Age:數值,Survived:離散\n",
        "#離散 vs 連續：Eta Squared (η2)\n",
        "df=df_train[['Age','Survived']]\n",
        "df.dropna(inplace=True)"
      ],
      "execution_count": 37,
      "outputs": [
        {
          "output_type": "stream",
          "name": "stderr",
          "text": [
            "/usr/local/lib/python3.7/dist-packages/ipykernel_launcher.py:2: SettingWithCopyWarning: \n",
            "A value is trying to be set on a copy of a slice from a DataFrame\n",
            "\n",
            "See the caveats in the documentation: https://pandas.pydata.org/pandas-docs/stable/user_guide/indexing.html#returning-a-view-versus-a-copy\n",
            "  \n"
          ]
        }
      ]
    },
    {
      "cell_type": "code",
      "metadata": {
        "colab": {
          "base_uri": "https://localhost:8080/"
        },
        "id": "jX_18r6NV9PD",
        "outputId": "e725b513-a0a9-422b-ebe0-5bcdee958da5"
      },
      "source": [
        "df.info()"
      ],
      "execution_count": 38,
      "outputs": [
        {
          "output_type": "stream",
          "name": "stdout",
          "text": [
            "<class 'pandas.core.frame.DataFrame'>\n",
            "Int64Index: 714 entries, 0 to 890\n",
            "Data columns (total 2 columns):\n",
            " #   Column    Non-Null Count  Dtype  \n",
            "---  ------    --------------  -----  \n",
            " 0   Age       714 non-null    float64\n",
            " 1   Survived  714 non-null    int64  \n",
            "dtypes: float64(1), int64(1)\n",
            "memory usage: 16.7 KB\n"
          ]
        }
      ]
    },
    {
      "cell_type": "code",
      "metadata": {
        "colab": {
          "base_uri": "https://localhost:8080/",
          "height": 112
        },
        "id": "tU76QdjOQ5ON",
        "outputId": "8bbf4a6b-7207-4339-e1eb-ba315b313943"
      },
      "source": [
        "aov = pg.anova(dv='Age', between='Survived', data=df, detailed=True)\n",
        "aov"
      ],
      "execution_count": 39,
      "outputs": [
        {
          "output_type": "execute_result",
          "data": {
            "text/html": [
              "<div>\n",
              "<style scoped>\n",
              "    .dataframe tbody tr th:only-of-type {\n",
              "        vertical-align: middle;\n",
              "    }\n",
              "\n",
              "    .dataframe tbody tr th {\n",
              "        vertical-align: top;\n",
              "    }\n",
              "\n",
              "    .dataframe thead th {\n",
              "        text-align: right;\n",
              "    }\n",
              "</style>\n",
              "<table border=\"1\" class=\"dataframe\">\n",
              "  <thead>\n",
              "    <tr style=\"text-align: right;\">\n",
              "      <th></th>\n",
              "      <th>Source</th>\n",
              "      <th>SS</th>\n",
              "      <th>DF</th>\n",
              "      <th>MS</th>\n",
              "      <th>F</th>\n",
              "      <th>p-unc</th>\n",
              "      <th>np2</th>\n",
              "    </tr>\n",
              "  </thead>\n",
              "  <tbody>\n",
              "    <tr>\n",
              "      <th>0</th>\n",
              "      <td>Survived</td>\n",
              "      <td>897.187582</td>\n",
              "      <td>1</td>\n",
              "      <td>897.187582</td>\n",
              "      <td>4.271195</td>\n",
              "      <td>0.039125</td>\n",
              "      <td>0.005963</td>\n",
              "    </tr>\n",
              "    <tr>\n",
              "      <th>1</th>\n",
              "      <td>Within</td>\n",
              "      <td>149559.448362</td>\n",
              "      <td>712</td>\n",
              "      <td>210.055405</td>\n",
              "      <td>NaN</td>\n",
              "      <td>NaN</td>\n",
              "      <td>NaN</td>\n",
              "    </tr>\n",
              "  </tbody>\n",
              "</table>\n",
              "</div>"
            ],
            "text/plain": [
              "     Source             SS   DF          MS         F     p-unc       np2\n",
              "0  Survived     897.187582    1  897.187582  4.271195  0.039125  0.005963\n",
              "1    Within  149559.448362  712  210.055405       NaN       NaN       NaN"
            ]
          },
          "metadata": {},
          "execution_count": 39
        }
      ]
    },
    {
      "cell_type": "code",
      "metadata": {
        "colab": {
          "base_uri": "https://localhost:8080/"
        },
        "id": "t8IwcEziSpNK",
        "outputId": "a2b1ce93-62ef-4e8e-fd18-63634a6cac9f"
      },
      "source": [
        "etaSq = aov.SS[0] / (aov.SS[0] + aov.SS[1])\n",
        "etaSq"
      ],
      "execution_count": 40,
      "outputs": [
        {
          "output_type": "execute_result",
          "data": {
            "text/plain": [
              "0.0059630974469252"
            ]
          },
          "metadata": {},
          "execution_count": 40
        }
      ]
    },
    {
      "cell_type": "code",
      "metadata": {
        "colab": {
          "base_uri": "https://localhost:8080/",
          "height": 36
        },
        "id": "3mYriwJhSu20",
        "outputId": "084b0681-5fa7-4295-ee05-b77b526ad7b6"
      },
      "source": [
        "def judgment_etaSq(etaSq):\n",
        "    if etaSq < .01:\n",
        "        qual = 'Negligible'\n",
        "    elif etaSq < .06:\n",
        "        qual = 'Small'\n",
        "    elif etaSq < .14:\n",
        "        qual = 'Medium'\n",
        "    else:\n",
        "        qual = 'Large'\n",
        "    return(qual)\n",
        "judgment_etaSq(etaSq)"
      ],
      "execution_count": 41,
      "outputs": [
        {
          "output_type": "execute_result",
          "data": {
            "application/vnd.google.colaboratory.intrinsic+json": {
              "type": "string"
            },
            "text/plain": [
              "'Negligible'"
            ]
          },
          "metadata": {},
          "execution_count": 41
        }
      ]
    },
    {
      "cell_type": "code",
      "metadata": {
        "colab": {
          "base_uri": "https://localhost:8080/",
          "height": 369
        },
        "id": "7kpK5f0mSw3O",
        "outputId": "44be51e1-bd77-4727-f619-eaa8c4ea0aa8"
      },
      "source": [
        "g = sns.catplot(x=\"Survived\", y=\"Age\", hue=\"Survived\",\n",
        "               data=df, kind=\"violin\")\n"
      ],
      "execution_count": 43,
      "outputs": [
        {
          "output_type": "display_data",
          "data": {
            "image/png": "[encoded data removed]",
            "text/plain": [
              "<Figure size 360x360 with 1 Axes>"
            ]
          },
          "metadata": {
            "needs_background": "light"
          }
        }
      ]
    },
    {
      "cell_type": "markdown",
      "metadata": {
        "id": "lX2B5msgZZYj"
      },
      "source": [
        "結論:生存與否與年齡看不出相關性，思考是否要入模型或做進一步轉換"
      ]
    },
    {
      "cell_type": "markdown",
      "metadata": {
        "id": "8dlu8RnNE8GN"
      },
      "source": [
        "### Q2:透過數值法計算  Sex 和 Survived  是否有相關性?\n"
      ]
    },
    {
      "cell_type": "code",
      "metadata": {
        "colab": {
          "base_uri": "https://localhost:8080/",
          "height": 143
        },
        "id": "kTHbu0-UTUf4",
        "outputId": "3a2c2bb3-f531-43aa-d15c-f9f836e595a1"
      },
      "source": [
        "#Sex:離散，Survived:離散\n",
        "#離散 vs 離散：Cramer’s V 係數\n",
        "contTable = pd.crosstab(df_train['Sex'], df_train['Survived'])\n",
        "contTable"
      ],
      "execution_count": 44,
      "outputs": [
        {
          "output_type": "execute_result",
          "data": {
            "text/html": [
              "<div>\n",
              "<style scoped>\n",
              "    .dataframe tbody tr th:only-of-type {\n",
              "        vertical-align: middle;\n",
              "    }\n",
              "\n",
              "    .dataframe tbody tr th {\n",
              "        vertical-align: top;\n",
              "    }\n",
              "\n",
              "    .dataframe thead th {\n",
              "        text-align: right;\n",
              "    }\n",
              "</style>\n",
              "<table border=\"1\" class=\"dataframe\">\n",
              "  <thead>\n",
              "    <tr style=\"text-align: right;\">\n",
              "      <th>Survived</th>\n",
              "      <th>0</th>\n",
              "      <th>1</th>\n",
              "    </tr>\n",
              "    <tr>\n",
              "      <th>Sex</th>\n",
              "      <th></th>\n",
              "      <th></th>\n",
              "    </tr>\n",
              "  </thead>\n",
              "  <tbody>\n",
              "    <tr>\n",
              "      <th>female</th>\n",
              "      <td>81</td>\n",
              "      <td>233</td>\n",
              "    </tr>\n",
              "    <tr>\n",
              "      <th>male</th>\n",
              "      <td>468</td>\n",
              "      <td>109</td>\n",
              "    </tr>\n",
              "  </tbody>\n",
              "</table>\n",
              "</div>"
            ],
            "text/plain": [
              "Survived    0    1\n",
              "Sex               \n",
              "female     81  233\n",
              "male      468  109"
            ]
          },
          "metadata": {},
          "execution_count": 44
        }
      ]
    },
    {
      "cell_type": "code",
      "metadata": {
        "colab": {
          "base_uri": "https://localhost:8080/"
        },
        "id": "KzvbO7Y2TLcn",
        "outputId": "afd875e2-0b7c-4b64-e29f-91dcd6358b44"
      },
      "source": [
        "df = min(contTable.shape[0], contTable.shape[1]) - 1\n",
        "df"
      ],
      "execution_count": 26,
      "outputs": [
        {
          "output_type": "execute_result",
          "data": {
            "text/plain": [
              "1"
            ]
          },
          "metadata": {},
          "execution_count": 26
        }
      ]
    },
    {
      "cell_type": "code",
      "metadata": {
        "colab": {
          "base_uri": "https://localhost:8080/"
        },
        "id": "TjbVk8EbTvGC",
        "outputId": "f8353d53-07dc-4722-b32a-2a1dbee5f3fe"
      },
      "source": [
        "crosstab, res = researchpy.crosstab(df_train['Sex'], df_train['Survived'], test='chi-square')\n",
        "#print(res)\n",
        "print(\"Cramer's value is\",res.loc[2,'results'])\n",
        "\n",
        "#這邊用卡方檢定獨立性，所以採用的 test 參數為卡方 \"test =\" argument.\n",
        "# 採用的變數在這個模組中，會自己根據資料集來判斷，Cramer's Phi if it a 2x2 table, or Cramer's V is larger than 2x2."
      ],
      "execution_count": 28,
      "outputs": [
        {
          "output_type": "stream",
          "name": "stdout",
          "text": [
            "Cramer's value is 0.5434\n"
          ]
        }
      ]
    },
    {
      "cell_type": "code",
      "metadata": {
        "colab": {
          "base_uri": "https://localhost:8080/",
          "height": 36
        },
        "id": "WuOVwHJCrw0u",
        "outputId": "647042c9-4b36-4e63-d4d6-e08381263187"
      },
      "source": [
        "## 寫一個副程式判斷相關性的強度\n",
        "def judgment_CramerV(df,V):\n",
        "    if df == 1:\n",
        "        if V < 0.10:\n",
        "            qual = 'negligible'\n",
        "        elif V < 0.30:\n",
        "            qual = 'small'\n",
        "        elif V < 0.50:\n",
        "            qual = 'medium'\n",
        "        else:\n",
        "            qual = 'large'\n",
        "    elif df == 2:\n",
        "        if V < 0.07:\n",
        "            qual = 'negligible'\n",
        "        elif V < 0.21:\n",
        "            qual = 'small'\n",
        "        elif V < 0.35:\n",
        "            qual = 'medium'\n",
        "        else:\n",
        "            qual = 'large'\n",
        "    elif df == 3:\n",
        "        if V < 0.06:\n",
        "            qual = 'negligible'\n",
        "        elif V < 0.17:\n",
        "            qual = 'small'\n",
        "        elif V < 0.29:\n",
        "            qual = 'medium'\n",
        "        else:\n",
        "            qual = 'large'\n",
        "    elif df == 4:\n",
        "        if V < 0.05:\n",
        "            qual = 'negligible'\n",
        "        elif V < 0.15:\n",
        "            qual = 'small'\n",
        "        elif V < 0.25:\n",
        "            qual = 'medium'\n",
        "        else:\n",
        "            qual = 'large'\n",
        "    else:\n",
        "        if V < 0.05:\n",
        "            qual = 'negligible'\n",
        "        elif V < 0.13:\n",
        "            qual = 'small'\n",
        "        elif V < 0.22:\n",
        "            qual = 'medium'\n",
        "        else:\n",
        "            qual = 'large'\n",
        "    return(qual)\n",
        "\n",
        "judgment_CramerV(df,res.loc[2,'results'])"
      ],
      "execution_count": 29,
      "outputs": [
        {
          "output_type": "execute_result",
          "data": {
            "application/vnd.google.colaboratory.intrinsic+json": {
              "type": "string"
            },
            "text/plain": [
              "'large'"
            ]
          },
          "metadata": {},
          "execution_count": 29
        }
      ]
    },
    {
      "cell_type": "code",
      "metadata": {
        "colab": {
          "base_uri": "https://localhost:8080/",
          "height": 279
        },
        "id": "STyV7yJmU8Oa",
        "outputId": "fddac360-240c-40b5-ab93-da17962c4caf"
      },
      "source": [
        "g= sns.countplot(x=\"Sex\", hue=\"Survived\", data=df_train)\n"
      ],
      "execution_count": 30,
      "outputs": [
        {
          "output_type": "display_data",
          "data": {
            "image/png": "[encoded data removed]",
            "text/plain": [
              "<Figure size 432x288 with 1 Axes>"
            ]
          },
          "metadata": {
            "needs_background": "light"
          }
        }
      ]
    },
    {
      "cell_type": "markdown",
      "metadata": {
        "id": "tkMF4oG3aZuX"
      },
      "source": [
        "結論:生存與否與性別高度相關"
      ]
    },
    {
      "cell_type": "markdown",
      "metadata": {
        "id": "6SxLGI6sE8GN"
      },
      "source": [
        "### Q3: 透過數值法計算  Age 和  Fare 是否有相關性?  "
      ]
    },
    {
      "cell_type": "code",
      "metadata": {
        "colab": {
          "base_uri": "https://localhost:8080/"
        },
        "id": "qUyCJjG4VVmW",
        "outputId": "8b35c921-bbae-4181-d521-f54f52ba4a37"
      },
      "source": [
        "#Age:連續型，Fare連續型\n",
        "#連續 vs 連續：Pearson 相關係數\n",
        "df=df_train[['Age','Fare']]\n",
        "df.dropna(inplace=True)"
      ],
      "execution_count": 48,
      "outputs": [
        {
          "output_type": "stream",
          "name": "stderr",
          "text": [
            "/usr/local/lib/python3.7/dist-packages/ipykernel_launcher.py:2: SettingWithCopyWarning: \n",
            "A value is trying to be set on a copy of a slice from a DataFrame\n",
            "\n",
            "See the caveats in the documentation: https://pandas.pydata.org/pandas-docs/stable/user_guide/indexing.html#returning-a-view-versus-a-copy\n",
            "  \n"
          ]
        }
      ]
    },
    {
      "cell_type": "code",
      "metadata": {
        "colab": {
          "base_uri": "https://localhost:8080/"
        },
        "id": "3LRsfR62Wn17",
        "outputId": "d75ce756-4349-46b0-f80d-bac7d6873c2d"
      },
      "source": [
        "df.info()"
      ],
      "execution_count": 49,
      "outputs": [
        {
          "output_type": "stream",
          "name": "stdout",
          "text": [
            "<class 'pandas.core.frame.DataFrame'>\n",
            "Int64Index: 714 entries, 0 to 890\n",
            "Data columns (total 2 columns):\n",
            " #   Column  Non-Null Count  Dtype  \n",
            "---  ------  --------------  -----  \n",
            " 0   Age     714 non-null    float64\n",
            " 1   Fare    714 non-null    float64\n",
            "dtypes: float64(2)\n",
            "memory usage: 16.7 KB\n"
          ]
        }
      ]
    },
    {
      "cell_type": "code",
      "metadata": {
        "colab": {
          "base_uri": "https://localhost:8080/"
        },
        "id": "8djfYWAuVHtX",
        "outputId": "d859a8db-9393-411e-d425-74d6b7d085bf"
      },
      "source": [
        "# 由於 pearsonr 有兩個回傳結果，我們只需取第一個回傳值為相關係數\n",
        "corr, _=stats.pearsonr(df['Age'], df['Fare'])\n",
        "print(corr)"
      ],
      "execution_count": 50,
      "outputs": [
        {
          "output_type": "stream",
          "name": "stdout",
          "text": [
            "0.0960666917690389\n"
          ]
        }
      ]
    },
    {
      "cell_type": "code",
      "metadata": {
        "colab": {
          "base_uri": "https://localhost:8080/",
          "height": 279
        },
        "id": "7aUd2qdYW6qd",
        "outputId": "b3106353-7fb3-48ea-835a-cda5850f88b5"
      },
      "source": [
        "g = sns.regplot(x=\"Age\", y=\"Fare\", color=\"g\",data=df)"
      ],
      "execution_count": 54,
      "outputs": [
        {
          "output_type": "display_data",
          "data": {
            "image/png": "[encoded data removed]",
            "text/plain": [
              "<Figure size 432x288 with 1 Axes>"
            ]
          },
          "metadata": {
            "needs_background": "light"
          }
        }
      ]
    },
    {
      "cell_type": "markdown",
      "metadata": {
        "id": "i6s1f3MAaVSO"
      },
      "source": [
        "結論: Age和Fare 無線性相關"
      ]
    }
  ]
}