{
  "nbformat": 4,
  "nbformat_minor": 0,
  "metadata": {
    "colab": {
      "name": "作業.ipynb",
      "provenance": []
    },
    "kernelspec": {
      "display_name": "Python 3",
      "language": "python",
      "name": "python3"
    },
    "language_info": {
      "codemirror_mode": {
        "name": "ipython",
        "version": 3
      },
      "file_extension": ".py",
      "mimetype": "text/x-python",
      "name": "python",
      "nbconvert_exporter": "python",
      "pygments_lexer": "ipython3",
      "version": "3.6.1"
    }
  },
  "cells": [
    {
      "cell_type": "markdown",
      "metadata": {
        "id": "94Rkk0v4bA3e"
      },
      "source": [
        "## 作業:\n",
        "作業目標，讓大家熟悉連續型分配的語法，\n",
        "以及怎麼透過 python 語法進行常態分配的機率運算。\n"
      ]
    },
    {
      "cell_type": "markdown",
      "metadata": {
        "id": "TgoF-tOKbA3g"
      },
      "source": [
        "### Q1:計算標準常態分配，小於1的機率有多大?\n",
        "![](Q1.png)"
      ]
    },
    {
      "cell_type": "code",
      "metadata": {
        "collapsed": true,
        "id": "yz28_IgkYdBW"
      },
      "source": [
        "# library\n",
        "from numpy.random import normal,uniform\n",
        "from numpy.random import seed\n",
        "import matplotlib.pyplot as plt\n",
        "import numpy as np\n",
        "import seaborn as sns\n",
        "import pandas as pd\n",
        "from scipy import stats\n",
        "import math \n",
        "import pylab\n",
        "%matplotlib inline\n"
      ],
      "execution_count": 2,
      "outputs": []
    },
    {
      "cell_type": "code",
      "metadata": {
        "colab": {
          "base_uri": "https://localhost:8080/"
        },
        "id": "3SpIVh0bbA3h",
        "outputId": "1ddf9518-421f-4157-afac-add9d00401d7"
      },
      "source": [
        "## Q1\n",
        "#  提示: 用 cdf 來算\n",
        "mu=0\n",
        "sigma=1\n",
        "b=stats.norm.cdf(1,mu,sigma)\n",
        "print(\"P(Z<1)=\",b)"
      ],
      "execution_count": 4,
      "outputs": [
        {
          "output_type": "stream",
          "name": "stdout",
          "text": [
            "P(Z<1)= 0.8413447460685429\n"
          ]
        }
      ]
    },
    {
      "cell_type": "markdown",
      "metadata": {
        "id": "BeJ04Xj0bA3i"
      },
      "source": [
        "### Q2:計算標準常態分配，大於1，小於 -1 的機率有多大?\n",
        "![](Q2.png)\n"
      ]
    },
    {
      "cell_type": "code",
      "metadata": {
        "colab": {
          "base_uri": "https://localhost:8080/"
        },
        "id": "goi4GrfMbA3i",
        "outputId": "c802a672-786a-42fd-dd06-5d825140c63c"
      },
      "source": [
        "## Q2\n",
        "\n",
        "mu=0\n",
        "sigma=1\n",
        "b=stats.norm.cdf(1,mu,sigma)\n",
        "a=stats.norm.cdf(-1,mu,sigma)\n",
        "print(\"P(Z>1 or Z<-1)=\",1-(b-a))"
      ],
      "execution_count": 8,
      "outputs": [
        {
          "output_type": "stream",
          "name": "stdout",
          "text": [
            "P(Z>1 or Z<-1)= 0.31731050786291415\n"
          ]
        }
      ]
    },
    {
      "cell_type": "markdown",
      "metadata": {
        "id": "TiehPR2SbA3j"
      },
      "source": [
        "### Q3:X~N(2,4),x 服從常態分配，平均數為2,變異數為 4，計算 X小於 6 的機率有多大?"
      ]
    },
    {
      "cell_type": "code",
      "metadata": {
        "colab": {
          "base_uri": "https://localhost:8080/"
        },
        "id": "rLVm3QoNbA3j",
        "outputId": "6fcb5c7b-afd7-410d-ff50-585a859c5110"
      },
      "source": [
        "## Q3\n",
        "#  提示: 和 Q1,Q2 不同，要先標準化。\n",
        "\n",
        "mu=2\n",
        "sigma=2 #4開根號\n",
        "b=stats.norm.cdf(6,mu,sigma)\n",
        "print(\"P(X<6)=\",b)"
      ],
      "execution_count": 7,
      "outputs": [
        {
          "output_type": "stream",
          "name": "stdout",
          "text": [
            "P(X<6)= 0.9772498680518208\n"
          ]
        }
      ]
    }
  ]
}