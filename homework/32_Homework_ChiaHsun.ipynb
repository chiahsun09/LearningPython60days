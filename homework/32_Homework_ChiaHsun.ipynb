{
  "nbformat": 4,
  "nbformat_minor": 0,
  "metadata": {
    "colab": {
      "name": "作業.ipynb",
      "provenance": []
    },
    "kernelspec": {
      "display_name": "Python 3",
      "language": "python",
      "name": "python3"
    },
    "language_info": {
      "codemirror_mode": {
        "name": "ipython",
        "version": 3
      },
      "file_extension": ".py",
      "mimetype": "text/x-python",
      "name": "python",
      "nbconvert_exporter": "python",
      "pygments_lexer": "ipython3",
      "version": "3.6.1"
    }
  },
  "cells": [
    {
      "cell_type": "markdown",
      "metadata": {
        "id": "x7p9Qhac8e1n"
      },
      "source": [
        "## 作業:\n",
        "今天學到 AB test中假設檢定的基本概念，最重要的就是如何將抽象情況數值化，\n",
        "並建立自已的 $H_0$ 與 $H_1$。\n",
        "透過作業來好好練習，概念懂了，後面幾堂課再帶大家運用 python 進行運算。\n"
      ]
    },
    {
      "cell_type": "markdown",
      "metadata": {
        "id": "vV7_0kiQ8e1p"
      },
      "source": [
        "### Q1: 吃減肥藥能在一個月內瘦超過十公斤，研究人員想推翻第四台廣告業者的說法，請試著寫出 $H_0$ 與 $H_1$ 。\n"
      ]
    },
    {
      "cell_type": "code",
      "metadata": {
        "id": "PBtS0UZc8e1q",
        "outputId": "ed7327b0-c3fd-434c-beef-47b847c65fba"
      },
      "source": [
        "#Q1: 吃減肥藥能在一個月內瘦超過十公斤，研究人員想推翻第四台廣告業者的說法，請試著寫出 $H_0$ 與 $H_1$\n",
        "'''\n",
        "$H_0$: 吃減肥藥能在一個月內瘦\"能\"超過十公斤(X>=10)\n",
        "$H_1$: 吃減肥藥能在一個月內瘦\"不能\"超過十公斤(X<10)\n",
        "\n",
        "'''"
      ],
      "execution_count": null,
      "outputs": [
        {
          "data": {
            "text/plain": [
              "'\\n研究人員想推翻第四台廣告業者的說法，所以\\nH1: 吃減肥藥能在一個月內瘦\"不能\"超過十公斤(X<10)\\nH0: 吃減肥藥能在一個月內瘦\"能\"超過十公斤(X>=10)\\n'"
            ]
          },
          "execution_count": 2,
          "metadata": {},
          "output_type": "execute_result"
        }
      ]
    },
    {
      "cell_type": "markdown",
      "metadata": {
        "id": "CDuDtHC48e1r"
      },
      "source": [
        "### Q2: 一位速食店店長認為其品牌在市場之佔有率至多為12%，於是該店長進行一個市場調查，一共訪問了3000為消費者，其中有311位表示喜歡該品牌，請試著寫出 $H_0$ 與 $H_1$ 。\n"
      ]
    },
    {
      "cell_type": "code",
      "metadata": {
        "id": "Ifs9vc528e1r",
        "outputId": "c06e6822-5465-4493-a4c4-e48b50c4ce08"
      },
      "source": [
        "#Q2: 一位速食店店長認為其品牌在市場之佔有率至多為12%，於是該店長進行一個市場調查，一共訪問了3000為消費者，其中有311位表示喜歡該品牌，請試著寫出 $H_0$ 與 $H_1$ 。\n",
        "'''\n",
        "H0: 其品牌在市場之佔有率超過 12%(p<=12%)\n",
        "H1: 其品牌在市場之佔有率至多 12%(p>12%)\n",
        "\n",
        "'''"
      ],
      "execution_count": null,
      "outputs": [
        {
          "data": {
            "text/plain": [
              "'\\n一位速食店店長認為其品牌在市場之佔有率至多 12%，做實驗是想驗證這件事情，所以\\nH1: 其品牌在市場之佔有率至多 12%(p<12%)\\nH0: 其品牌在市場之佔有率超過 12%(p>=12%)\\n'"
            ]
          },
          "execution_count": 3,
          "metadata": {},
          "output_type": "execute_result"
        }
      ]
    }
  ]
}