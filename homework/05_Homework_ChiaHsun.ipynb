{
  "nbformat": 4,
  "nbformat_minor": 0,
  "metadata": {
    "colab": {
      "name": "05 Homework_ChiaHsun.ipynb",
      "provenance": []
    },
    "kernelspec": {
      "display_name": "Python 3",
      "language": "python",
      "name": "python3"
    },
    "language_info": {
      "codemirror_mode": {
        "name": "ipython",
        "version": 3
      },
      "file_extension": ".py",
      "mimetype": "text/x-python",
      "name": "python",
      "nbconvert_exporter": "python",
      "pygments_lexer": "ipython3",
      "version": "3.6.5"
    },
    "accelerator": "GPU"
  },
  "cells": [
    {
      "cell_type": "markdown",
      "metadata": {
        "id": "P6xk2_jLsvFF"
      },
      "source": [
        "# [作業目標]\n",
        "\n",
        "1. 產生一個 1-11 的一維陣列，並且把 3-6 由正數變成負數。\n",
        "2. 試著從一個隨機陣列中，找出比 0.5 大的數有幾個？\n",
        "\n"
      ]
    },
    {
      "cell_type": "markdown",
      "metadata": {
        "id": "uXGll28asvFS"
      },
      "source": [
        "# 作業 "
      ]
    },
    {
      "cell_type": "markdown",
      "metadata": {
        "id": "pzgZwNRGhz0b"
      },
      "source": [
        "### 1. 產生一個 1-11 的一維陣列，並且把 3-6 由正數變成負數。\n",
        "\n"
      ]
    },
    {
      "cell_type": "code",
      "metadata": {
        "id": "RcIDoJHthz0c"
      },
      "source": [
        "# 記得先 Import 正確的套件\n"
      ],
      "execution_count": 1,
      "outputs": []
    },
    {
      "cell_type": "code",
      "metadata": {
        "colab": {
          "base_uri": "https://localhost:8080/"
        },
        "id": "5QrYoyNWsvFS",
        "outputId": "31810de6-38bc-4d3a-fa48-9b65098030fa"
      },
      "source": [
        "import numpy as np\n",
        "a=np.arange(11)\n",
        "print('原本的:',a)\n",
        "a[(a>=3)&(a<=6)] *= -1 \n",
        "print('改變後:',a)"
      ],
      "execution_count": 26,
      "outputs": [
        {
          "output_type": "stream",
          "text": [
            "原本的: [ 0  1  2  3  4  5  6  7  8  9 10]\n",
            "改變後: [ 0  1  2 -3 -4 -5 -6  7  8  9 10]\n"
          ],
          "name": "stdout"
        }
      ]
    },
    {
      "cell_type": "markdown",
      "metadata": {
        "id": "AyCcxYphhz0e"
      },
      "source": [
        "### 2. 試著從一個隨機陣列中，找出比 0.5 大的數有幾個？\n",
        "\n"
      ]
    },
    {
      "cell_type": "code",
      "metadata": {
        "colab": {
          "base_uri": "https://localhost:8080/"
        },
        "id": "e1gVI0tvsvFY",
        "outputId": "959a3e5a-bb01-463c-b816-e38aba283722"
      },
      "source": [
        "A = np.random.rand(3, 6)\n",
        "\n",
        "print(A)\n",
        "print('A的數量:',A[(A>0.5)].size)\n"
      ],
      "execution_count": 29,
      "outputs": [
        {
          "output_type": "stream",
          "text": [
            "[[0.59001164 0.10760636 0.74597038 0.57109436 0.08087128 0.68921962]\n",
            " [0.16709901 0.73733935 0.81126944 0.75221337 0.04797514 0.3642425 ]\n",
            " [0.58381202 0.19468282 0.6539514  0.85498719 0.53369598 0.33337378]]\n",
            "A的數量: 11\n"
          ],
          "name": "stdout"
        }
      ]
    },
    {
      "cell_type": "code",
      "metadata": {
        "id": "MzU34Plvhz0g"
      },
      "source": [
        ""
      ],
      "execution_count": null,
      "outputs": []
    },
    {
      "cell_type": "code",
      "metadata": {
        "id": "QpSk6-2Fhz0g"
      },
      "source": [
        ""
      ],
      "execution_count": null,
      "outputs": []
    },
    {
      "cell_type": "code",
      "metadata": {
        "id": "YnI_SUkthz0h"
      },
      "source": [
        ""
      ],
      "execution_count": null,
      "outputs": []
    },
    {
      "cell_type": "code",
      "metadata": {
        "id": "3zqJeVE0hz0h"
      },
      "source": [
        ""
      ],
      "execution_count": null,
      "outputs": []
    }
  ]
}