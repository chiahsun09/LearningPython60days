{
  "nbformat": 4,
  "nbformat_minor": 0,
  "metadata": {
    "colab": {
      "name": "10 Homework_ChiaHsun.ipynb",
      "provenance": []
    },
    "kernelspec": {
      "display_name": "Python 3",
      "language": "python",
      "name": "python3"
    },
    "language_info": {
      "codemirror_mode": {
        "name": "ipython",
        "version": 3
      },
      "file_extension": ".py",
      "mimetype": "text/x-python",
      "name": "python",
      "nbconvert_exporter": "python",
      "pygments_lexer": "ipython3",
      "version": "3.6.5"
    },
    "accelerator": "GPU"
  },
  "cells": [
    {
      "cell_type": "markdown",
      "metadata": {
        "id": "P6xk2_jLsvFF"
      },
      "source": [
        "# [作業目標]\n",
        "\n",
        "1. [簡答題] 請問下列四種不同的 DataFrame 選取結果有什麼差異？\n",
        "\n",
        "```\n",
        "df.loc[ '2013-01-01', 'A'] \n",
        "df.loc[ '2013-01-01', ['A', 'B'] ] \n",
        "df.loc[ '2013-01-01':'2013-01-02', 'A' ] \n",
        "df.loc[ '2013-01-01':'2013-01-05', 'A':'C'] \n",
        "```\n",
        "\n",
        "\n",
        "2. 請根據提供的資料，選擇出下列的要求：\n",
        "\n",
        "```\n",
        "# - select the first 3 rows.\n",
        "# - select the odd rows. (index = 1, 3, 5)\n",
        "# - select the last 2 columns.\n",
        "# - select the even columns. (index = 0, 2, 4)\n",
        "```\n",
        "\n",
        "3. 請根據提供的資料，選擇出下列的要求：\n",
        "\n",
        "```\n",
        "# - 1. filtered by first column > 20?\n",
        "# - 2. filtered by first column + second column > 50\n",
        "# - 3. filtered by first column < 30 or second column > 30\n",
        "# - 4. filtered by total sum of row > 100\n",
        "```"
      ]
    },
    {
      "cell_type": "markdown",
      "metadata": {
        "id": "uXGll28asvFS"
      },
      "source": [
        "# 作業 "
      ]
    },
    {
      "cell_type": "markdown",
      "metadata": {
        "id": "JfzPqi2q030l"
      },
      "source": [
        "### 1. [簡答題] 請問下列四種不同的 DataFrame 選取結果有什麼差異？\n",
        "\n",
        "```\n",
        "df.loc[ '2013-01-01', 'A'] \n",
        "df.loc[ '2013-01-01', ['A', 'B'] ] \n",
        "df.loc[ '2013-01-01':'2013-01-02', 'A' ] \n",
        "df.loc[ '2013-01-01':'2013-01-05', 'A':'C'] \n",
        "```\n",
        "\n",
        "\n",
        "\n"
      ]
    },
    {
      "cell_type": "code",
      "metadata": {
        "id": "5QrYoyNWsvFS"
      },
      "source": [
        "'''\n",
        "取出資料型態不同\n",
        "df.loc[ '2013-01-01', 'A']          =>取出數值型的資料\n",
        "df.loc[ '2013-01-01', ['A', 'B'] ]     =>取出series的資料\n",
        "df.loc[ '2013-01-01':'2013-01-02', 'A' ]   =>取出series的資料\n",
        "df.loc[ '2013-01-01':'2013-01-05', 'A':'C']  =>取出DataFrame的資料\n",
        "'''"
      ],
      "execution_count": null,
      "outputs": []
    },
    {
      "cell_type": "markdown",
      "metadata": {
        "id": "AIOufIDu030o"
      },
      "source": [
        "### 2. 請根據提供的資料，選擇出下列的要求：\n",
        "\n",
        "```\n",
        "# - select the first 3 rows.\n",
        "# - select the odd rows. (index = 1, 3, 5)\n",
        "# - select the last 2 columns.\n",
        "# - select the even columns. (index = 0, 2, 4)\n",
        "```\n"
      ]
    },
    {
      "cell_type": "code",
      "metadata": {
        "id": "Rrv2IBJo030o"
      },
      "source": [
        "# 記得先 Import 正確的套件\n",
        "import numpy as np\n",
        "import pandas   as pd"
      ],
      "execution_count": 10,
      "outputs": []
    },
    {
      "cell_type": "code",
      "metadata": {
        "colab": {
          "base_uri": "https://localhost:8080/",
          "height": 235
        },
        "id": "e1gVI0tvsvFY",
        "outputId": "7fce15be-35d7-4db6-a8ba-0f59e42c1838"
      },
      "source": [
        "df = pd.DataFrame(np.random.randn(6,3),columns=['col1','col2','col3'])\n",
        "df"
      ],
      "execution_count": 73,
      "outputs": [
        {
          "output_type": "execute_result",
          "data": {
            "text/html": [
              "<div>\n",
              "<style scoped>\n",
              "    .dataframe tbody tr th:only-of-type {\n",
              "        vertical-align: middle;\n",
              "    }\n",
              "\n",
              "    .dataframe tbody tr th {\n",
              "        vertical-align: top;\n",
              "    }\n",
              "\n",
              "    .dataframe thead th {\n",
              "        text-align: right;\n",
              "    }\n",
              "</style>\n",
              "<table border=\"1\" class=\"dataframe\">\n",
              "  <thead>\n",
              "    <tr style=\"text-align: right;\">\n",
              "      <th></th>\n",
              "      <th>col1</th>\n",
              "      <th>col2</th>\n",
              "      <th>col3</th>\n",
              "    </tr>\n",
              "  </thead>\n",
              "  <tbody>\n",
              "    <tr>\n",
              "      <th>0</th>\n",
              "      <td>-0.864108</td>\n",
              "      <td>1.199311</td>\n",
              "      <td>0.394253</td>\n",
              "    </tr>\n",
              "    <tr>\n",
              "      <th>1</th>\n",
              "      <td>0.480102</td>\n",
              "      <td>-0.189080</td>\n",
              "      <td>-1.851644</td>\n",
              "    </tr>\n",
              "    <tr>\n",
              "      <th>2</th>\n",
              "      <td>0.442312</td>\n",
              "      <td>-0.013696</td>\n",
              "      <td>-2.440978</td>\n",
              "    </tr>\n",
              "    <tr>\n",
              "      <th>3</th>\n",
              "      <td>-2.953464</td>\n",
              "      <td>1.447995</td>\n",
              "      <td>-0.856438</td>\n",
              "    </tr>\n",
              "    <tr>\n",
              "      <th>4</th>\n",
              "      <td>-1.343079</td>\n",
              "      <td>0.604607</td>\n",
              "      <td>-0.066235</td>\n",
              "    </tr>\n",
              "    <tr>\n",
              "      <th>5</th>\n",
              "      <td>0.351488</td>\n",
              "      <td>0.492876</td>\n",
              "      <td>0.720723</td>\n",
              "    </tr>\n",
              "  </tbody>\n",
              "</table>\n",
              "</div>"
            ],
            "text/plain": [
              "       col1      col2      col3\n",
              "0 -0.864108  1.199311  0.394253\n",
              "1  0.480102 -0.189080 -1.851644\n",
              "2  0.442312 -0.013696 -2.440978\n",
              "3 -2.953464  1.447995 -0.856438\n",
              "4 -1.343079  0.604607 -0.066235\n",
              "5  0.351488  0.492876  0.720723"
            ]
          },
          "metadata": {
            "tags": []
          },
          "execution_count": 73
        }
      ]
    },
    {
      "cell_type": "code",
      "metadata": {
        "colab": {
          "base_uri": "https://localhost:8080/"
        },
        "id": "p9X2vUmg030r",
        "outputId": "473b409e-ec57-4f63-cdde-22a9e26a5296"
      },
      "source": [
        "print('# - select the first 3 rows.')\n",
        "print(df[:3])\n",
        "\n",
        "\n",
        "print()\n",
        "print('# - select the odd rows. (index = 1, 3, 5)')\n",
        "print(df[1::2])\n",
        "print(df[(df.index==1)|(df.index==3)|(df.index==5)])\n",
        "\n",
        "\n",
        "print()\n",
        "print('# - select the last 2 columns.')\n",
        "print(df.iloc[:,-2:])\n",
        "\n",
        "\n",
        "print()\n",
        "print('# - select the even columns. (index = 0, 2, 4)')\n",
        "print(df.iloc[:,0::2])\n"
      ],
      "execution_count": 79,
      "outputs": [
        {
          "output_type": "stream",
          "text": [
            "# - select the first 3 rows.\n",
            "       col1      col2      col3\n",
            "0 -0.864108  1.199311  0.394253\n",
            "1  0.480102 -0.189080 -1.851644\n",
            "2  0.442312 -0.013696 -2.440978\n",
            "\n",
            "# - select the odd rows. (index = 1, 3, 5)\n",
            "       col1      col2      col3\n",
            "1  0.480102 -0.189080 -1.851644\n",
            "3 -2.953464  1.447995 -0.856438\n",
            "5  0.351488  0.492876  0.720723\n",
            "       col1      col2      col3\n",
            "1  0.480102 -0.189080 -1.851644\n",
            "3 -2.953464  1.447995 -0.856438\n",
            "5  0.351488  0.492876  0.720723\n",
            "\n",
            "# - select the last 2 columns.\n",
            "       col2      col3\n",
            "0  1.199311  0.394253\n",
            "1 -0.189080 -1.851644\n",
            "2 -0.013696 -2.440978\n",
            "3  1.447995 -0.856438\n",
            "4  0.604607 -0.066235\n",
            "5  0.492876  0.720723\n",
            "\n",
            "# - select the even columns. (index = 0, 2, 4)\n",
            "       col1      col3\n",
            "0 -0.864108  0.394253\n",
            "1  0.480102 -1.851644\n",
            "2  0.442312 -2.440978\n",
            "3 -2.953464 -0.856438\n",
            "4 -1.343079 -0.066235\n",
            "5  0.351488  0.720723\n"
          ],
          "name": "stdout"
        }
      ]
    },
    {
      "cell_type": "markdown",
      "metadata": {
        "id": "Y1Q1HuEt030u"
      },
      "source": [
        "### 3. 請根據提供的資料，選擇出下列的要求：\n",
        "\n",
        "```\n",
        "# - 1. filtered by first column > 20?\n",
        "# - 2. filtered by first column + second column > 50\n",
        "# - 3. filtered by first column < 30 or second column > 30\n",
        "# - 4. filtered by total sum of row > 100\n",
        "```"
      ]
    },
    {
      "cell_type": "code",
      "metadata": {
        "colab": {
          "base_uri": "https://localhost:8080/",
          "height": 514
        },
        "id": "Qz7ZkkQT030v",
        "outputId": "3edbed79-7256-4a2d-a7a9-c7264bb01198"
      },
      "source": [
        "df = pd.DataFrame(np.random.randint(10, 40, 60).reshape(-1, 4))\n",
        "df"
      ],
      "execution_count": 61,
      "outputs": [
        {
          "output_type": "execute_result",
          "data": {
            "text/html": [
              "<div>\n",
              "<style scoped>\n",
              "    .dataframe tbody tr th:only-of-type {\n",
              "        vertical-align: middle;\n",
              "    }\n",
              "\n",
              "    .dataframe tbody tr th {\n",
              "        vertical-align: top;\n",
              "    }\n",
              "\n",
              "    .dataframe thead th {\n",
              "        text-align: right;\n",
              "    }\n",
              "</style>\n",
              "<table border=\"1\" class=\"dataframe\">\n",
              "  <thead>\n",
              "    <tr style=\"text-align: right;\">\n",
              "      <th></th>\n",
              "      <th>0</th>\n",
              "      <th>1</th>\n",
              "      <th>2</th>\n",
              "      <th>3</th>\n",
              "    </tr>\n",
              "  </thead>\n",
              "  <tbody>\n",
              "    <tr>\n",
              "      <th>0</th>\n",
              "      <td>29</td>\n",
              "      <td>27</td>\n",
              "      <td>38</td>\n",
              "      <td>21</td>\n",
              "    </tr>\n",
              "    <tr>\n",
              "      <th>1</th>\n",
              "      <td>22</td>\n",
              "      <td>22</td>\n",
              "      <td>33</td>\n",
              "      <td>30</td>\n",
              "    </tr>\n",
              "    <tr>\n",
              "      <th>2</th>\n",
              "      <td>37</td>\n",
              "      <td>25</td>\n",
              "      <td>16</td>\n",
              "      <td>14</td>\n",
              "    </tr>\n",
              "    <tr>\n",
              "      <th>3</th>\n",
              "      <td>37</td>\n",
              "      <td>22</td>\n",
              "      <td>34</td>\n",
              "      <td>33</td>\n",
              "    </tr>\n",
              "    <tr>\n",
              "      <th>4</th>\n",
              "      <td>17</td>\n",
              "      <td>32</td>\n",
              "      <td>11</td>\n",
              "      <td>26</td>\n",
              "    </tr>\n",
              "    <tr>\n",
              "      <th>5</th>\n",
              "      <td>29</td>\n",
              "      <td>38</td>\n",
              "      <td>14</td>\n",
              "      <td>11</td>\n",
              "    </tr>\n",
              "    <tr>\n",
              "      <th>6</th>\n",
              "      <td>37</td>\n",
              "      <td>16</td>\n",
              "      <td>16</td>\n",
              "      <td>10</td>\n",
              "    </tr>\n",
              "    <tr>\n",
              "      <th>7</th>\n",
              "      <td>34</td>\n",
              "      <td>18</td>\n",
              "      <td>32</td>\n",
              "      <td>18</td>\n",
              "    </tr>\n",
              "    <tr>\n",
              "      <th>8</th>\n",
              "      <td>31</td>\n",
              "      <td>39</td>\n",
              "      <td>35</td>\n",
              "      <td>29</td>\n",
              "    </tr>\n",
              "    <tr>\n",
              "      <th>9</th>\n",
              "      <td>35</td>\n",
              "      <td>37</td>\n",
              "      <td>29</td>\n",
              "      <td>10</td>\n",
              "    </tr>\n",
              "    <tr>\n",
              "      <th>10</th>\n",
              "      <td>12</td>\n",
              "      <td>12</td>\n",
              "      <td>12</td>\n",
              "      <td>12</td>\n",
              "    </tr>\n",
              "    <tr>\n",
              "      <th>11</th>\n",
              "      <td>17</td>\n",
              "      <td>11</td>\n",
              "      <td>16</td>\n",
              "      <td>28</td>\n",
              "    </tr>\n",
              "    <tr>\n",
              "      <th>12</th>\n",
              "      <td>13</td>\n",
              "      <td>37</td>\n",
              "      <td>33</td>\n",
              "      <td>16</td>\n",
              "    </tr>\n",
              "    <tr>\n",
              "      <th>13</th>\n",
              "      <td>37</td>\n",
              "      <td>22</td>\n",
              "      <td>11</td>\n",
              "      <td>31</td>\n",
              "    </tr>\n",
              "    <tr>\n",
              "      <th>14</th>\n",
              "      <td>23</td>\n",
              "      <td>22</td>\n",
              "      <td>26</td>\n",
              "      <td>10</td>\n",
              "    </tr>\n",
              "  </tbody>\n",
              "</table>\n",
              "</div>"
            ],
            "text/plain": [
              "     0   1   2   3\n",
              "0   29  27  38  21\n",
              "1   22  22  33  30\n",
              "2   37  25  16  14\n",
              "3   37  22  34  33\n",
              "4   17  32  11  26\n",
              "5   29  38  14  11\n",
              "6   37  16  16  10\n",
              "7   34  18  32  18\n",
              "8   31  39  35  29\n",
              "9   35  37  29  10\n",
              "10  12  12  12  12\n",
              "11  17  11  16  28\n",
              "12  13  37  33  16\n",
              "13  37  22  11  31\n",
              "14  23  22  26  10"
            ]
          },
          "metadata": {
            "tags": []
          },
          "execution_count": 61
        }
      ]
    },
    {
      "cell_type": "code",
      "metadata": {
        "colab": {
          "base_uri": "https://localhost:8080/"
        },
        "id": "CdSbuZyw030w",
        "outputId": "12c4d69f-f941-4d29-8da2-d904c67995a0"
      },
      "source": [
        "print('# - 1. filtered by first column > 20?')\n",
        "print(df[df[0]>20])\n",
        "\n",
        "print()\n",
        "print('# - 2. filtered by first column + second column > 50')\n",
        "print(df[df[0]+df[1]>50])\n",
        "\n",
        "print()\n",
        "print('# - 3. filtered by first column < 30 or second column > 30')\n",
        "print(df[(df[0]<30)|(df[1]>30)])\n",
        "\n",
        "print()\n",
        "print('# - 4. filtered by total sum of row > 100')\n",
        "print(df[(df[0]+df[1]+df[2]+df[3])>100])\n",
        "print(df[df.sum(axis=1)>100])"
      ],
      "execution_count": 69,
      "outputs": [
        {
          "output_type": "stream",
          "text": [
            "# - 1. filtered by first column > 20?\n",
            "     0   1   2   3\n",
            "0   29  27  38  21\n",
            "1   22  22  33  30\n",
            "2   37  25  16  14\n",
            "3   37  22  34  33\n",
            "5   29  38  14  11\n",
            "6   37  16  16  10\n",
            "7   34  18  32  18\n",
            "8   31  39  35  29\n",
            "9   35  37  29  10\n",
            "13  37  22  11  31\n",
            "14  23  22  26  10\n",
            "\n",
            "# - 2. filtered by first column + second column > 50\n",
            "     0   1   2   3\n",
            "0   29  27  38  21\n",
            "2   37  25  16  14\n",
            "3   37  22  34  33\n",
            "5   29  38  14  11\n",
            "6   37  16  16  10\n",
            "7   34  18  32  18\n",
            "8   31  39  35  29\n",
            "9   35  37  29  10\n",
            "13  37  22  11  31\n",
            "\n",
            "# - 3. filtered by first column < 30 or second column > 30\n",
            "     0   1   2   3\n",
            "0   29  27  38  21\n",
            "1   22  22  33  30\n",
            "4   17  32  11  26\n",
            "5   29  38  14  11\n",
            "8   31  39  35  29\n",
            "9   35  37  29  10\n",
            "10  12  12  12  12\n",
            "11  17  11  16  28\n",
            "12  13  37  33  16\n",
            "14  23  22  26  10\n",
            "\n",
            "# - 4. filtered by total sum of row > 100\n",
            "     0   1   2   3\n",
            "0   29  27  38  21\n",
            "1   22  22  33  30\n",
            "3   37  22  34  33\n",
            "7   34  18  32  18\n",
            "8   31  39  35  29\n",
            "9   35  37  29  10\n",
            "13  37  22  11  31\n",
            "     0   1   2   3\n",
            "0   29  27  38  21\n",
            "1   22  22  33  30\n",
            "3   37  22  34  33\n",
            "7   34  18  32  18\n",
            "8   31  39  35  29\n",
            "9   35  37  29  10\n",
            "13  37  22  11  31\n"
          ],
          "name": "stdout"
        }
      ]
    }
  ]
}