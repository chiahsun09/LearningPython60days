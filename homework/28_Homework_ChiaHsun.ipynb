{
  "nbformat": 4,
  "nbformat_minor": 0,
  "metadata": {
    "colab": {
      "name": "作業.ipynb",
      "provenance": []
    },
    "kernelspec": {
      "display_name": "Python 3",
      "language": "python",
      "name": "python3"
    },
    "language_info": {
      "codemirror_mode": {
        "name": "ipython",
        "version": 3
      },
      "file_extension": ".py",
      "mimetype": "text/x-python",
      "name": "python",
      "nbconvert_exporter": "python",
      "pygments_lexer": "ipython3",
      "version": "3.6.1"
    }
  },
  "cells": [
    {
      "cell_type": "markdown",
      "metadata": {
        "id": "nizSzAfYK_My"
      },
      "source": [
        "## 作業:\n",
        "今天學到2種分配，包含，   \n",
        "離散均勻分配( Discrete Uniform Distribution )   \n",
        "伯努利分配( Bernoulli Distribution )   \n",
        "\n",
        "今天我們透過作業中的問題，回想今天的內容吧!  "
      ]
    },
    {
      "cell_type": "markdown",
      "metadata": {
        "id": "iPsJUBkeK_M2"
      },
      "source": [
        "### 丟一個銅板，丟了100次，出現正面 50 次的機率有多大。\n",
        "(提示: 先想是哪一種分配，然後透過 python 語法進行計算)\n"
      ]
    },
    {
      "cell_type": "code",
      "metadata": {
        "id": "2sVNtVgrLEiP"
      },
      "source": [
        "from scipy import stats\n",
        "import numpy as np\n",
        "import matplotlib.pyplot as plt\n"
      ],
      "execution_count": 1,
      "outputs": []
    },
    {
      "cell_type": "code",
      "metadata": {
        "id": "CMPaDm0uNVkm"
      },
      "source": [
        "p=0.5\n",
        "n=100\n",
        "x=np.arange(0,100)"
      ],
      "execution_count": 7,
      "outputs": []
    },
    {
      "cell_type": "code",
      "metadata": {
        "colab": {
          "base_uri": "https://localhost:8080/"
        },
        "id": "9na8-P0WNmN9",
        "outputId": "424b382c-be14-4127-fe74-58da57830d2d"
      },
      "source": [
        "prob=stats.binom.pmf(50,n,p)\n",
        "print(\"投100次中出現50次正面的機率:\",prob.round(4))"
      ],
      "execution_count": 8,
      "outputs": [
        {
          "output_type": "stream",
          "name": "stdout",
          "text": [
            "投100次中出現50次正面的機率: 0.0796\n"
          ]
        }
      ]
    },
    {
      "cell_type": "code",
      "metadata": {
        "colab": {
          "base_uri": "https://localhost:8080/",
          "height": 295
        },
        "id": "_Ub6KPczOM74",
        "outputId": "0147c4a3-5d0f-4535-ee86-9a5801cd61ca"
      },
      "source": [
        "probs =stats.binom.pmf(x,n,p)\n",
        "plt.bar(x,probs)\n",
        "plt.ylabel('P(X=x)')\n",
        "plt.xlabel('x')\n",
        "plt.title('binomial(n=100,p=0.5)')\n",
        "plt.show()"
      ],
      "execution_count": 9,
      "outputs": [
        {
          "output_type": "display_data",
          "data": {
            "image/png": "[encoded data removed]",
            "text/plain": [
              "<Figure size 432x288 with 1 Axes>"
            ]
          },
          "metadata": {
            "needs_background": "light"
          }
        }
      ]
    }
  ]
}