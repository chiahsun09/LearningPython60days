{
  "nbformat": 4,
  "nbformat_minor": 0,
  "metadata": {
    "colab": {
      "name": "07 Homework_ChiaHsun.ipynb",
      "provenance": []
    },
    "kernelspec": {
      "display_name": "Python 3",
      "language": "python",
      "name": "python3"
    },
    "language_info": {
      "codemirror_mode": {
        "name": "ipython",
        "version": 3
      },
      "file_extension": ".py",
      "mimetype": "text/x-python",
      "name": "python",
      "nbconvert_exporter": "python",
      "pygments_lexer": "ipython3",
      "version": "3.6.5"
    },
    "accelerator": "GPU"
  },
  "cells": [
    {
      "cell_type": "markdown",
      "metadata": {
        "id": "P6xk2_jLsvFF"
      },
      "source": [
        "# [作業目標]\n",
        "\n",
        "1. 請比較對一個 100 x 100 * 100 的陣列，使用不同方法對每一個元素 +1 的時間比較。\n",
        "\n",
        "2. 如何從一個陣列中，找出出現頻率最高的數值與位置？\n",
        "\n",
        "3. 如何利用 list(...) 實現 a.tolist() 的效果？試著用程式實作。\n"
      ]
    },
    {
      "cell_type": "markdown",
      "metadata": {
        "id": "uXGll28asvFS"
      },
      "source": [
        "# 作業 "
      ]
    },
    {
      "cell_type": "markdown",
      "metadata": {
        "id": "Ben8h809jGz-"
      },
      "source": [
        "### 1. 請比較對一個 1000 x 100 x 100 的陣列，使用不同方法對每一個元素 +1 的時間比較。\n",
        "\n",
        "\n"
      ]
    },
    {
      "cell_type": "code",
      "metadata": {
        "id": "yy7Aj3qNjGz-"
      },
      "source": [
        "# 記得先 Import 正確的套件\n",
        "import numpy as np"
      ],
      "execution_count": 2,
      "outputs": []
    },
    {
      "cell_type": "code",
      "metadata": {
        "id": "5QrYoyNWsvFS"
      },
      "source": [
        "Z = np.random.randint(0, 10, 1000000).reshape(100, 100, 100)"
      ],
      "execution_count": 65,
      "outputs": []
    },
    {
      "cell_type": "code",
      "metadata": {
        "colab": {
          "base_uri": "https://localhost:8080/"
        },
        "id": "7O8ykLj1jGz_",
        "outputId": "41453dc8-ac34-467f-9083-6ce2f5ed1651"
      },
      "source": [
        "%timeit -n 10 a = 2\n",
        "Z+=1\n",
        "\n",
        "#效果最好"
      ],
      "execution_count": 66,
      "outputs": [
        {
          "output_type": "stream",
          "text": [
            "10 loops, best of 5: 29.7 ns per loop\n"
          ],
          "name": "stdout"
        }
      ]
    },
    {
      "cell_type": "code",
      "metadata": {
        "colab": {
          "base_uri": "https://localhost:8080/"
        },
        "id": "XWGT1EoOr7-V",
        "outputId": "b64dc6c3-fb77-4668-ce99-bbad15311bc7"
      },
      "source": [
        "%timeit -n 10 a = 2\n",
        "for i in Z:\n",
        "    for j in i:\n",
        "        for k in j:\n",
        "            i+=1\n",
        "#使用迴圈效果最不好"
      ],
      "execution_count": 67,
      "outputs": [
        {
          "output_type": "stream",
          "text": [
            "10 loops, best of 5: 53.1 ns per loop\n"
          ],
          "name": "stdout"
        }
      ]
    },
    {
      "cell_type": "code",
      "metadata": {
        "colab": {
          "base_uri": "https://localhost:8080/"
        },
        "id": "Sf4Q9bYYjG0A",
        "outputId": "51c778bd-ca55-449f-c9b4-f75cf55f9cdb"
      },
      "source": [
        "%timeit -n 10 a = 2\n",
        "for i in Z.flat:\n",
        "    i+=1"
      ],
      "execution_count": 68,
      "outputs": [
        {
          "output_type": "stream",
          "text": [
            "10 loops, best of 5: 45 ns per loop\n"
          ],
          "name": "stdout"
        }
      ]
    },
    {
      "cell_type": "code",
      "metadata": {
        "colab": {
          "base_uri": "https://localhost:8080/"
        },
        "id": "NHlzIbffjG0A",
        "outputId": "cebe77cd-a803-4ae1-8842-8805ac13c6ce"
      },
      "source": [
        "%timeit -n 10 a = 2\n",
        "\n",
        "for i in np.nditer(Z):\n",
        "    i=i+1"
      ],
      "execution_count": 69,
      "outputs": [
        {
          "output_type": "stream",
          "text": [
            "10 loops, best of 5: 44 ns per loop\n"
          ],
          "name": "stdout"
        }
      ]
    },
    {
      "cell_type": "markdown",
      "metadata": {
        "id": "ES2N7uvpjG0B"
      },
      "source": [
        "### 2. 如何從一個陣列中，找出出現頻率最高的數值與位置？\n"
      ]
    },
    {
      "cell_type": "code",
      "metadata": {
        "colab": {
          "base_uri": "https://localhost:8080/"
        },
        "id": "S3VXtaQ1jG0C",
        "outputId": "b2d8b455-660d-479b-b158-f2584218eb41"
      },
      "source": [
        "import numpy as np\n",
        "\n",
        "Z = np.random.randint(0,10,50)\n",
        "print('Array為:')\n",
        "print(Z)\n",
        "\n",
        "#np.bincount(Z) array由小到的值，其出現次數，指的是0,1,2,3,4,5,6,7,8,9 其出現的次數分別\n",
        "a=np.bincount(Z)\n",
        "print('0,1,2,3,4,5,6,7,8,9依次其出現次數為: ',a)\n",
        "\n",
        "#np.argmax()找出\"np.bincount(Z)\"結果中出現最大值的index\n",
        "b=np.argmax(a) \n",
        "print('出現最多次的為: ',b)\n",
        "\n",
        "#找出array中等於b的index\n",
        "index=np.where(Z == b )\n",
        "print('出現最多次的值，位置在Array的index:',index)"
      ],
      "execution_count": 59,
      "outputs": [
        {
          "output_type": "stream",
          "text": [
            "Array為:\n",
            "[7 5 4 3 8 6 9 5 5 8 6 2 1 9 1 2 7 9 5 6 7 7 6 1 2 4 3 3 8 1 7 6 9 5 0 1 5\n",
            " 4 3 0 4 5 5 5 1 6 1 5 5 1]\n",
            "0,1,2,3,4,5,6,7,8,9依次其出現次數為:  [ 2  8  3  4  4 11  6  5  3  4]\n",
            "出現最多次的為:  5\n",
            "出現最多次的值，位置在Array的index: (array([ 1,  7,  8, 18, 33, 36, 41, 42, 43, 47, 48]),)\n"
          ],
          "name": "stdout"
        }
      ]
    },
    {
      "cell_type": "markdown",
      "metadata": {
        "id": "FHTzvAgBjG0C"
      },
      "source": [
        "### 3. 如何利用 list(...) 實現 a.tolist() 的效果？試著用程式實作。\n"
      ]
    },
    {
      "cell_type": "code",
      "metadata": {
        "colab": {
          "base_uri": "https://localhost:8080/"
        },
        "id": "6Vh1G9fgjG0C",
        "outputId": "707e0949-06c9-4598-f92e-1e3a7516e7e8"
      },
      "source": [
        "#a.tolist()作巢狀的轉換\n",
        "# list(...)作一層的轉換\n",
        "\n",
        "a = np.random.randint(10, size=6) \n",
        "\n",
        "print(a.tolist())\n",
        "print(list(a))\n",
        "\n",
        "\n",
        "b = np.random.randint(10, size=(3,4)) \n",
        "\n",
        "print(b.tolist())\n",
        "print(list(b))\n",
        "\n",
        "\n",
        "c = np.random.randint(10, size=(2,3,2)) \n",
        "\n",
        "print(c.tolist())\n",
        "print(list(c))\n"
      ],
      "execution_count": 44,
      "outputs": [
        {
          "output_type": "stream",
          "text": [
            "[1, 4, 7, 3, 1, 3]\n",
            "[1, 4, 7, 3, 1, 3]\n",
            "[[8, 3, 8, 7], [3, 7, 9, 7], [3, 6, 2, 8]]\n",
            "[array([8, 3, 8, 7]), array([3, 7, 9, 7]), array([3, 6, 2, 8])]\n",
            "[[[9, 8], [3, 0], [5, 3]], [[8, 4], [4, 7], [0, 8]]]\n",
            "[array([[9, 8],\n",
            "       [3, 0],\n",
            "       [5, 3]]), array([[8, 4],\n",
            "       [4, 7],\n",
            "       [0, 8]])]\n"
          ],
          "name": "stdout"
        }
      ]
    },
    {
      "cell_type": "code",
      "metadata": {
        "colab": {
          "base_uri": "https://localhost:8080/"
        },
        "id": "WMI3mevetrWs",
        "outputId": "c69076c4-e230-4498-b6b6-39a6578a632f"
      },
      "source": [
        "#進階版\n",
        "def tolist(lierable):\n",
        "    if type(lierable)!=np.array:\n",
        "        return lierable\n",
        "    return [tolist(obj) for obj in lierable]\n",
        "\n",
        "print(tolist(a))\n",
        "print()\n",
        "print(tolist(b))\n",
        "print()\n",
        "print(tolist(c))"
      ],
      "execution_count": 55,
      "outputs": [
        {
          "output_type": "stream",
          "text": [
            "[1 4 7 3 1 3]\n",
            "\n",
            "[[8 3 8 7]\n",
            " [3 7 9 7]\n",
            " [3 6 2 8]]\n",
            "\n",
            "[[[9 8]\n",
            "  [3 0]\n",
            "  [5 3]]\n",
            "\n",
            " [[8 4]\n",
            "  [4 7]\n",
            "  [0 8]]]\n"
          ],
          "name": "stdout"
        }
      ]
    }
  ]
}