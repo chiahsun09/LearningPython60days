{
  "nbformat": 4,
  "nbformat_minor": 0,
  "metadata": {
    "colab": {
      "name": "D19_Homework_進階題_ChiaHsun.ipynb",
      "provenance": [],
      "collapsed_sections": []
    },
    "kernelspec": {
      "name": "python3",
      "display_name": "Python 3"
    }
  },
  "cells": [
    {
      "cell_type": "markdown",
      "metadata": {
        "id": "9ckBC4qSFJ2u"
      },
      "source": [
        "作業目標:<br>\n",
        "1. 靈活運用圖表在各種情況下\n",
        "2. 圖表的解讀"
      ]
    },
    {
      "cell_type": "markdown",
      "metadata": {
        "id": "wkssN_r7UT2o"
      },
      "source": [
        "作業重點:<br>\n",
        "1. 依據需求畫出圖表<br>\n",
        "2. 在做圖表解釋時，須了解圖表中的含意"
      ]
    },
    {
      "cell_type": "markdown",
      "metadata": {
        "id": "B9B8LGwLFORw"
      },
      "source": [
        "題目 : 將資料夾中boston.csv讀進來，並用圖表分析欄位。<br>\n",
        "1.畫出箱型圖，並判斷哪個欄位的中位數在300~400之間?<br>\n",
        "2.畫出散佈圖 x='NOX', y='DIS' ，並說明這兩欄位有什麼關係?\n"
      ]
    },
    {
      "cell_type": "code",
      "metadata": {
        "id": "8EK9ei8pFNNd"
      },
      "source": [
        "import pandas as pd\n",
        "import numpy as np\n",
        "import matplotlib.pyplot as plt\n"
      ],
      "execution_count": 27,
      "outputs": []
    },
    {
      "cell_type": "code",
      "metadata": {
        "id": "gQ_VKQnC5n37"
      },
      "source": [
        "df=pd.read_csv(\"/content/boston.csv\")"
      ],
      "execution_count": 28,
      "outputs": []
    },
    {
      "cell_type": "code",
      "metadata": {
        "colab": {
          "base_uri": "https://localhost:8080/",
          "height": 314
        },
        "id": "vIj9QWBN53Iq",
        "outputId": "44d415fe-542d-4c0a-a10d-9ee6575d6979"
      },
      "source": [
        "df.describe()"
      ],
      "execution_count": 5,
      "outputs": [
        {
          "output_type": "execute_result",
          "data": {
            "text/html": [
              "<div>\n",
              "<style scoped>\n",
              "    .dataframe tbody tr th:only-of-type {\n",
              "        vertical-align: middle;\n",
              "    }\n",
              "\n",
              "    .dataframe tbody tr th {\n",
              "        vertical-align: top;\n",
              "    }\n",
              "\n",
              "    .dataframe thead th {\n",
              "        text-align: right;\n",
              "    }\n",
              "</style>\n",
              "<table border=\"1\" class=\"dataframe\">\n",
              "  <thead>\n",
              "    <tr style=\"text-align: right;\">\n",
              "      <th></th>\n",
              "      <th>key</th>\n",
              "      <th>CRIM</th>\n",
              "      <th>ZN</th>\n",
              "      <th>INDUS</th>\n",
              "      <th>CHAS</th>\n",
              "      <th>NOX</th>\n",
              "      <th>RM</th>\n",
              "      <th>AGE</th>\n",
              "      <th>DIS</th>\n",
              "      <th>RAD</th>\n",
              "      <th>TAX</th>\n",
              "      <th>PTRATIO</th>\n",
              "      <th>B</th>\n",
              "      <th>LSTAT</th>\n",
              "    </tr>\n",
              "  </thead>\n",
              "  <tbody>\n",
              "    <tr>\n",
              "      <th>count</th>\n",
              "      <td>505.000000</td>\n",
              "      <td>505.000000</td>\n",
              "      <td>505.000000</td>\n",
              "      <td>505.000000</td>\n",
              "      <td>505.000000</td>\n",
              "      <td>505.000000</td>\n",
              "      <td>505.000000</td>\n",
              "      <td>505.000000</td>\n",
              "      <td>505.000000</td>\n",
              "      <td>505.000000</td>\n",
              "      <td>505.000000</td>\n",
              "      <td>505.000000</td>\n",
              "      <td>505.000000</td>\n",
              "      <td>505.000000</td>\n",
              "    </tr>\n",
              "    <tr>\n",
              "      <th>mean</th>\n",
              "      <td>253.000000</td>\n",
              "      <td>3.620667</td>\n",
              "      <td>11.350495</td>\n",
              "      <td>11.154257</td>\n",
              "      <td>0.069307</td>\n",
              "      <td>0.554728</td>\n",
              "      <td>6.284059</td>\n",
              "      <td>68.581584</td>\n",
              "      <td>3.794459</td>\n",
              "      <td>9.566337</td>\n",
              "      <td>408.459406</td>\n",
              "      <td>18.461782</td>\n",
              "      <td>356.594376</td>\n",
              "      <td>12.668257</td>\n",
              "    </tr>\n",
              "    <tr>\n",
              "      <th>std</th>\n",
              "      <td>145.925209</td>\n",
              "      <td>8.608572</td>\n",
              "      <td>23.343704</td>\n",
              "      <td>6.855868</td>\n",
              "      <td>0.254227</td>\n",
              "      <td>0.115990</td>\n",
              "      <td>0.703195</td>\n",
              "      <td>28.176371</td>\n",
              "      <td>2.107757</td>\n",
              "      <td>8.707553</td>\n",
              "      <td>168.629992</td>\n",
              "      <td>2.162520</td>\n",
              "      <td>91.367787</td>\n",
              "      <td>7.139950</td>\n",
              "    </tr>\n",
              "    <tr>\n",
              "      <th>min</th>\n",
              "      <td>1.000000</td>\n",
              "      <td>0.009060</td>\n",
              "      <td>0.000000</td>\n",
              "      <td>0.460000</td>\n",
              "      <td>0.000000</td>\n",
              "      <td>0.385000</td>\n",
              "      <td>3.561000</td>\n",
              "      <td>2.900000</td>\n",
              "      <td>1.129600</td>\n",
              "      <td>1.000000</td>\n",
              "      <td>187.000000</td>\n",
              "      <td>12.600000</td>\n",
              "      <td>0.320000</td>\n",
              "      <td>1.730000</td>\n",
              "    </tr>\n",
              "    <tr>\n",
              "      <th>25%</th>\n",
              "      <td>127.000000</td>\n",
              "      <td>0.082210</td>\n",
              "      <td>0.000000</td>\n",
              "      <td>5.190000</td>\n",
              "      <td>0.000000</td>\n",
              "      <td>0.449000</td>\n",
              "      <td>5.885000</td>\n",
              "      <td>45.000000</td>\n",
              "      <td>2.100000</td>\n",
              "      <td>4.000000</td>\n",
              "      <td>279.000000</td>\n",
              "      <td>17.400000</td>\n",
              "      <td>375.330000</td>\n",
              "      <td>7.010000</td>\n",
              "    </tr>\n",
              "    <tr>\n",
              "      <th>50%</th>\n",
              "      <td>253.000000</td>\n",
              "      <td>0.259150</td>\n",
              "      <td>0.000000</td>\n",
              "      <td>9.690000</td>\n",
              "      <td>0.000000</td>\n",
              "      <td>0.538000</td>\n",
              "      <td>6.208000</td>\n",
              "      <td>77.700000</td>\n",
              "      <td>3.199200</td>\n",
              "      <td>5.000000</td>\n",
              "      <td>330.000000</td>\n",
              "      <td>19.100000</td>\n",
              "      <td>391.430000</td>\n",
              "      <td>11.380000</td>\n",
              "    </tr>\n",
              "    <tr>\n",
              "      <th>75%</th>\n",
              "      <td>379.000000</td>\n",
              "      <td>3.678220</td>\n",
              "      <td>12.500000</td>\n",
              "      <td>18.100000</td>\n",
              "      <td>0.000000</td>\n",
              "      <td>0.624000</td>\n",
              "      <td>6.625000</td>\n",
              "      <td>94.100000</td>\n",
              "      <td>5.211900</td>\n",
              "      <td>24.000000</td>\n",
              "      <td>666.000000</td>\n",
              "      <td>20.200000</td>\n",
              "      <td>396.210000</td>\n",
              "      <td>16.960000</td>\n",
              "    </tr>\n",
              "    <tr>\n",
              "      <th>max</th>\n",
              "      <td>505.000000</td>\n",
              "      <td>88.976200</td>\n",
              "      <td>100.000000</td>\n",
              "      <td>27.740000</td>\n",
              "      <td>1.000000</td>\n",
              "      <td>0.871000</td>\n",
              "      <td>8.780000</td>\n",
              "      <td>100.000000</td>\n",
              "      <td>12.126500</td>\n",
              "      <td>24.000000</td>\n",
              "      <td>711.000000</td>\n",
              "      <td>22.000000</td>\n",
              "      <td>396.900000</td>\n",
              "      <td>37.970000</td>\n",
              "    </tr>\n",
              "  </tbody>\n",
              "</table>\n",
              "</div>"
            ],
            "text/plain": [
              "              key        CRIM          ZN  ...     PTRATIO           B       LSTAT\n",
              "count  505.000000  505.000000  505.000000  ...  505.000000  505.000000  505.000000\n",
              "mean   253.000000    3.620667   11.350495  ...   18.461782  356.594376   12.668257\n",
              "std    145.925209    8.608572   23.343704  ...    2.162520   91.367787    7.139950\n",
              "min      1.000000    0.009060    0.000000  ...   12.600000    0.320000    1.730000\n",
              "25%    127.000000    0.082210    0.000000  ...   17.400000  375.330000    7.010000\n",
              "50%    253.000000    0.259150    0.000000  ...   19.100000  391.430000   11.380000\n",
              "75%    379.000000    3.678220   12.500000  ...   20.200000  396.210000   16.960000\n",
              "max    505.000000   88.976200  100.000000  ...   22.000000  396.900000   37.970000\n",
              "\n",
              "[8 rows x 14 columns]"
            ]
          },
          "metadata": {},
          "execution_count": 5
        }
      ]
    },
    {
      "cell_type": "code",
      "metadata": {
        "id": "j8oG-3XJGECZ",
        "colab": {
          "base_uri": "https://localhost:8080/",
          "height": 500
        },
        "outputId": "7e72c926-e346-4426-8743-22e2389ded12"
      },
      "source": [
        "#1.畫出箱型圖，並判斷哪個欄位的中位數在300~400之間?\n",
        "#TAX和B的中位數位於300~400之間\n",
        "\n",
        "df.boxplot(figsize=(10,8))\n"
      ],
      "execution_count": 62,
      "outputs": [
        {
          "output_type": "execute_result",
          "data": {
            "text/plain": [
              "<matplotlib.axes._subplots.AxesSubplot at 0x7f79d19a0090>"
            ]
          },
          "metadata": {},
          "execution_count": 62
        },
        {
          "output_type": "display_data",
          "data": {
            "image/png": "[encoded data removed]",
            "text/plain": [
              "<Figure size 720x576 with 1 Axes>"
            ]
          },
          "metadata": {
            "needs_background": "light"
          }
        }
      ]
    },
    {
      "cell_type": "code",
      "metadata": {
        "id": "1YrW_1o9MXUy"
      },
      "source": [
        "#2. 畫出散佈圖 x='NOX', y='DIS' ，並說明這兩欄位有什麼關係?"
      ],
      "execution_count": null,
      "outputs": []
    },
    {
      "cell_type": "code",
      "metadata": {
        "colab": {
          "base_uri": "https://localhost:8080/",
          "height": 497
        },
        "id": "m-2_u3OnA33j",
        "outputId": "39486fd6-1070-4cae-a885-0a770f4c1496"
      },
      "source": [
        "df.plot.scatter(x='NOX', y='DIS',alpha=0.5,figsize=(10,8))\n",
        "plt.show()\n",
        "#呈反比"
      ],
      "execution_count": 63,
      "outputs": [
        {
          "output_type": "display_data",
          "data": {
            "image/png": "[encoded data removed]",
            "text/plain": [
              "<Figure size 720x576 with 1 Axes>"
            ]
          },
          "metadata": {
            "needs_background": "light"
          }
        }
      ]
    }
  ]
}
