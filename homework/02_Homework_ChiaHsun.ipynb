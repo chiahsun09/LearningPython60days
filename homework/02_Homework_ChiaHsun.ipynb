{
  "nbformat": 4,
  "nbformat_minor": 0,
  "metadata": {
    "colab": {
      "name": "02 Homework_chiahsun.ipynb",
      "provenance": [],
      "collapsed_sections": []
    },
    "kernelspec": {
      "display_name": "Python 3",
      "language": "python",
      "name": "python3"
    },
    "language_info": {
      "codemirror_mode": {
        "name": "ipython",
        "version": 3
      },
      "file_extension": ".py",
      "mimetype": "text/x-python",
      "name": "python",
      "nbconvert_exporter": "python",
      "pygments_lexer": "ipython3",
      "version": "3.6.5"
    }
  },
  "cells": [
    {
      "cell_type": "code",
      "metadata": {
        "id": "y-4m5poN3JcZ"
      },
      "source": [
        "'''\n",
        "NumPy 型態的定義是一個 np.dtype 的物件，包含「型態名稱」、「表示範圍」及「儲存空間」等等的資訊。\n",
        "而「is」跟「==」的差異在於 is 是強比較，必須要所有規格都相同，包含是哪一種物件；而 == 的比較只會考慮自定義的規則，例如只需要物件的表現形式。\n",
        "'''"
      ],
      "execution_count": null,
      "outputs": []
    },
    {
      "cell_type": "markdown",
      "metadata": {
        "id": "P6xk2_jLsvFF"
      },
      "source": [
        "# [作業目標]\n",
        "\n",
        "1. [簡答題] 請問 type(...) 跟 a.dtype 這兩個語法有什麼不同？\n",
        "\n",
        "```\n",
        "print('type(a): ', type(a))\n",
        "print('a.dtype: ', a.dtype)\n",
        "```\n",
        "\n",
        "2. 請撰寫一個判斷 a 的元素是否等於指定資料型態的函式\n",
        "\n",
        "3. [簡答題] 承上題，請判斷下列三種寫法為何不正確？\n",
        "\n",
        "```\n",
        "def is_dtype(a, t):\n",
        "    return a.dtype is t\n",
        "\n",
        "def is_dtype(a, t):\n",
        "    return type(a) == np.dtype(t)\n",
        "\n",
        "def is_dtype(a, t):\n",
        "    return type(a) is np.dtype(t)\n",
        "```"
      ]
    },
    {
      "cell_type": "markdown",
      "metadata": {
        "id": "uXGll28asvFS"
      },
      "source": [
        "# 作業 "
      ]
    },
    {
      "cell_type": "markdown",
      "metadata": {
        "id": "qmOwRRtHNgfI"
      },
      "source": [
        "### 1. [簡答題] 請問 type(...) 跟 a.dtype 這兩個語法有什麼不同？\n",
        "\n",
        "```\n",
        "print('type(a): ', type(a))\n",
        "print('a.dtype: ', a.dtype)\n",
        "```\n"
      ]
    },
    {
      "cell_type": "code",
      "metadata": {
        "id": "5QrYoyNWsvFS",
        "colab": {
          "base_uri": "https://localhost:8080/",
          "height": 35
        },
        "outputId": "1c3390ec-5cb7-411c-e2aa-10ea190a62c4"
      },
      "source": [
        "'''type(a.):指的是其a的型態\n",
        "a.dtype:指的是a的元素之資料型態\n",
        "'''"
      ],
      "execution_count": null,
      "outputs": [
        {
          "output_type": "execute_result",
          "data": {
            "application/vnd.google.colaboratory.intrinsic+json": {
              "type": "string"
            },
            "text/plain": [
              "'type(a.):指的是其a的型態\\na.dtype:指的是a的元素之資料型態\\n'"
            ]
          },
          "metadata": {
            "tags": []
          },
          "execution_count": 25
        }
      ]
    },
    {
      "cell_type": "markdown",
      "metadata": {
        "id": "hgsGyqXHNgfK"
      },
      "source": [
        "### 2. 請撰寫一個判斷 a 的元素是否等於指定資料型態的函式，並且通過測試。\n",
        "\n"
      ]
    },
    {
      "cell_type": "code",
      "metadata": {
        "id": "ew2BtKF2NgfL",
        "colab": {
          "base_uri": "https://localhost:8080/"
        },
        "outputId": "a2952a7f-a40a-4aab-f56c-8da8a051ffb0"
      },
      "source": [
        "import numpy as np\n",
        "\n",
        "def is_dtype(a, t):\n",
        "   \n",
        "    return a.dtype is np.dtype(t)\n",
        "    \n",
        "a = np.random.randint(10, size=6) \n",
        "\n",
        "# 測試一\n",
        "print(is_dtype(a, 'int')) # True\n",
        "\n",
        "# 測試二\n",
        "print(is_dtype(a, np.int)) # True\n",
        "\n",
        "# 測試三\n",
        "print(is_dtype(a, np.dtype('int'))) # True\n",
        "    "
      ],
      "execution_count": 4,
      "outputs": [
        {
          "output_type": "stream",
          "text": [
            "True\n",
            "True\n",
            "True\n"
          ],
          "name": "stdout"
        }
      ]
    },
    {
      "cell_type": "markdown",
      "metadata": {
        "id": "iM6o3Ra1NgfM"
      },
      "source": [
        "### 3. [簡答題] 承上題，請判斷下列三種寫法為何不正確？\n",
        "\n",
        "```\n",
        "def is_dtype(a, t):\n",
        "    return a.dtype is t\n",
        "\n",
        "def is_dtype(a, t):\n",
        "    return type(a) == np.dtype(t)\n",
        "\n",
        "def is_dtype(a, t):\n",
        "    return type(a) is np.dtype(t)\n",
        "```"
      ]
    },
    {
      "cell_type": "code",
      "metadata": {
        "id": "WH1UuVJCNgfN"
      },
      "source": [
        "老師的解答: type() 是檢查變數的型態，而不是元素的型態； is 相對 == 更嚴格，一定要型態正確才會回傳 True。"
      ],
      "execution_count": null,
      "outputs": []
    }
  ]
}