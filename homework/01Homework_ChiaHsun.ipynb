{
  "nbformat": 4,
  "nbformat_minor": 0,
  "metadata": {
    "colab": {
      "name": "01Homework_ChiaHsun.ipynb",
      "provenance": [],
      "collapsed_sections": []
    },
    "kernelspec": {
      "display_name": "Python 3",
      "language": "python",
      "name": "python3"
    },
    "language_info": {
      "codemirror_mode": {
        "name": "ipython",
        "version": 3
      },
      "file_extension": ".py",
      "mimetype": "text/x-python",
      "name": "python",
      "nbconvert_exporter": "python",
      "pygments_lexer": "ipython3",
      "version": "3.6.5"
    }
  },
  "cells": [
    {
      "cell_type": "code",
      "metadata": {
        "id": "FwWdQdWcJeKI"
      },
      "source": [
        "'''\n",
        "Day1 Numpy \n",
        "1.使用前要import numpy as np\n",
        "\n",
        "2.建立NumPy array有三種方法\n",
        "range(1,10,2):產生1,3,5,7,9的整型序列\n",
        "np.arrange(1,10,2):產生array([1,3,5,7,9])\n",
        "linspace(1,10,num=2):產生array([1,10])\n",
        "\n",
        "3.NumPy 陣列是同質性的（homogeneous）的物件;Pandas的List可以放不同型態的資料\n",
        "\n",
        "4.Numpy會放在連續的記憶體位置，Pandas的List則不一定\n",
        "'''"
      ],
      "execution_count": null,
      "outputs": []
    },
    {
      "cell_type": "markdown",
      "metadata": {
        "id": "P6xk2_jLsvFF"
      },
      "source": [
        "# [作業目標]\n",
        "\n",
        "1. [簡答題] 請問下列兩種將 Array 轉換成 List 的方式有何不同？\n",
        "\n",
        "```\n",
        "print('list(a): ', list(a))\n",
        "print('tolist(): ', a.tolist())\n",
        "```\n",
        "\n",
        "2. 請試著在程式中印出以下三個 NdArray 的屬性？（屬性：ndim、shape、size、dtype、itemsize、length、type）\n",
        "\n",
        "```\n",
        "a = np.random.randint(10, size=6) \n",
        "b = np.random.randint(10, size=(3,4)) \n",
        "c = np.random.randint(10, size=(2,3,2)) \n",
        "```\n",
        "\n",
        "3. 如何利用 list(...) 實現 a.tolist() 的效果？試著用程式實作。\n"
      ]
    },
    {
      "cell_type": "markdown",
      "metadata": {
        "id": "uXGll28asvFS"
      },
      "source": [
        "# 作業 "
      ]
    },
    {
      "cell_type": "markdown",
      "metadata": {
        "id": "SYkvkp9YLwB7"
      },
      "source": [
        "### 1. [簡答題] 請問下列兩種將 Array 轉換成 List 的方式有何不同？\n",
        "\n",
        "```\n",
        "print('list(a): ', list(a))\n",
        "print('tolist(): ', a.tolist())\n",
        "```\n"
      ]
    },
    {
      "cell_type": "code",
      "metadata": {
        "id": "5QrYoyNWsvFS",
        "outputId": "13f374d0-6f1b-47aa-bbac-c7d1a8c6995c"
      },
      "source": [
        "'''\n",
        "list(a) 只會把第一層的元素轉換成 List，多層的話只有第一層會轉；\n",
        "\n",
        "tolist() 才能達成多層的型態轉換。\n",
        "'''"
      ],
      "execution_count": null,
      "outputs": [
        {
          "output_type": "execute_result",
          "data": {
            "text/plain": [
              "'\\nYour Code\\n'"
            ]
          },
          "metadata": {
            "tags": []
          },
          "execution_count": 3
        }
      ]
    },
    {
      "cell_type": "markdown",
      "metadata": {
        "id": "AC9wUCyALwB9"
      },
      "source": [
        "### 2. 請試著在程式中印出以下三個 NdArray 的屬性並且解釋結果？（屬性：ndim、shape、size、dtype、itemsize、length、type）\n",
        "\n",
        "```\n",
        "a = np.random.randint(10, size=6) \n",
        "b = np.random.randint(10, size=(3,4)) \n",
        "c = np.random.randint(10, size=(2,3,2)) \n",
        "```"
      ]
    },
    {
      "cell_type": "code",
      "metadata": {
        "id": "e1gVI0tvsvFY",
        "colab": {
          "base_uri": "https://localhost:8080/"
        },
        "outputId": "3a91af52-886f-43a1-f579-b6167c10b4d5"
      },
      "source": [
        "# 記得先 Import 正確的套件\n",
        "import numpy as np\n",
        "a = np.random.randint(10, size=6) \n",
        "print(a)\n",
        "print('陣列有多少維度：',a.ndim)\n",
        "print('陣列維度的大小：',a.shape)\n",
        "print('陣列當中有幾個元素：',a.size)\n",
        "print('陣列中的資料型態：',a.dtype)\n",
        "print('陣列中每個元素佔用的空間：',a.itemsize)\n",
        "print('陣列的元素分組數：',len(a))\n",
        "print('python中歸類其資料的型態：',type(a))\n"
      ],
      "execution_count": 28,
      "outputs": [
        {
          "output_type": "stream",
          "text": [
            "[7 1 2 1 7 3]\n",
            "陣列有多少維度： 1\n",
            "陣列維度的大小： (6,)\n",
            "陣列當中有幾個元素： 6\n",
            "陣列中的資料型態： int64\n",
            "陣列中每個元素佔用的空間： 8\n",
            "陣列的元素分組數： 6\n",
            "python中歸類其資料的型態： <class 'numpy.ndarray'>\n"
          ],
          "name": "stdout"
        }
      ]
    },
    {
      "cell_type": "code",
      "metadata": {
        "colab": {
          "base_uri": "https://localhost:8080/"
        },
        "id": "Ci6WEURhJPB_",
        "outputId": "0d9002c0-0b8a-4b5e-e13b-c639404c7226"
      },
      "source": [
        "np.linspace(1,10,num=2)"
      ],
      "execution_count": 30,
      "outputs": [
        {
          "output_type": "execute_result",
          "data": {
            "text/plain": [
              "array([ 1., 10.])"
            ]
          },
          "metadata": {
            "tags": []
          },
          "execution_count": 30
        }
      ]
    },
    {
      "cell_type": "code",
      "metadata": {
        "id": "iIJrIr7kLwB_",
        "colab": {
          "base_uri": "https://localhost:8080/"
        },
        "outputId": "2ee8805f-1e92-470b-91e6-b25cce94fe7b"
      },
      "source": [
        "b = np.random.randint(10, size=(3,4)) \n",
        "\n",
        "print(b)\n",
        "print('陣列有多少維度：',b.ndim)\n",
        "print('陣列維度的大小：',b.shape)\n",
        "print('陣列當中有幾個元素：',b.size)\n",
        "print('陣列中的資料型態：',b.dtype)\n",
        "print('陣列中每個元素佔用的空間：',b.itemsize)\n",
        "print('陣列的元素分組數：',len(b))\n",
        "print('python中歸類其資料的型態：',type(b))\n"
      ],
      "execution_count": 18,
      "outputs": [
        {
          "output_type": "stream",
          "text": [
            "[[2 7 3 3]\n",
            " [2 6 8 7]\n",
            " [6 1 8 2]]\n",
            "陣列有多少維度： 2\n",
            "陣列維度的大小： (3, 4)\n",
            "陣列當中有幾個元素： 12\n",
            "陣列中的資料型態： int64\n",
            "陣列中每個元素佔用的空間： 8\n",
            "陣列的元素分組數： 3\n",
            "python中歸類其資料的型態： <class 'numpy.ndarray'>\n"
          ],
          "name": "stdout"
        }
      ]
    },
    {
      "cell_type": "code",
      "metadata": {
        "id": "98SRFh_FLwCC",
        "colab": {
          "base_uri": "https://localhost:8080/"
        },
        "outputId": "32dabb23-79e8-476c-a16c-cbc8f0820b62"
      },
      "source": [
        "c = np.random.randint(10, size=(2,3,2)) \n",
        "\n",
        "print(c)\n",
        "print('陣列有多少維度：',c.ndim)\n",
        "print('陣列維度的大小：',c.shape)\n",
        "print('陣列當中有幾個元素：',c.size)\n",
        "print('陣列中的資料型態：',c.dtype)\n",
        "print('陣列中每個元素佔用的空間：',c.itemsize)\n",
        "print('陣列的元素分組數：',len(c))\n",
        "print('python中歸類其資料的型態：',type(c))"
      ],
      "execution_count": 19,
      "outputs": [
        {
          "output_type": "stream",
          "text": [
            "[[[1 6]\n",
            "  [0 8]\n",
            "  [5 5]]\n",
            "\n",
            " [[3 7]\n",
            "  [4 9]\n",
            "  [3 3]]]\n",
            "陣列有多少維度： 3\n",
            "陣列維度的大小： (2, 3, 2)\n",
            "陣列當中有幾個元素： 12\n",
            "陣列中的資料型態： int64\n",
            "陣列中每個元素佔用的空間： 8\n",
            "陣列的元素分組數： 2\n",
            "python中歸類其資料的型態： <class 'numpy.ndarray'>\n"
          ],
          "name": "stdout"
        }
      ]
    },
    {
      "cell_type": "markdown",
      "metadata": {
        "id": "Uf6zC0QZLwCE"
      },
      "source": [
        "### 3. 如何利用 list(...) 實現 a.tolist() 的效果？試著用程式實作。\n"
      ]
    },
    {
      "cell_type": "code",
      "metadata": {
        "id": "sCUzHu_BLwCF",
        "colab": {
          "base_uri": "https://localhost:8080/"
        },
        "outputId": "8fceeed7-15a2-4cbb-a02f-b5d8c6fb6e0e"
      },
      "source": [
        "a = np.random.randint(10, size=6) \n",
        "\n",
        "print(a.tolist())\n",
        "print(list(a))\n"
      ],
      "execution_count": 20,
      "outputs": [
        {
          "output_type": "stream",
          "text": [
            "[5, 7, 5, 0, 3, 8]\n",
            "[5, 7, 5, 0, 3, 8]\n"
          ],
          "name": "stdout"
        }
      ]
    },
    {
      "cell_type": "code",
      "metadata": {
        "id": "IUkVtw8RLwCG",
        "colab": {
          "base_uri": "https://localhost:8080/"
        },
        "outputId": "dc51ee82-0d21-413e-ff5d-5935a17c06ac"
      },
      "source": [
        "b = np.random.randint(10, size=(3,4)) \n",
        "\n",
        "print(b.tolist())\n",
        "print(list(b))\n"
      ],
      "execution_count": 21,
      "outputs": [
        {
          "output_type": "stream",
          "text": [
            "[[4, 9, 8, 3], [6, 8, 6, 6], [2, 5, 2, 8]]\n",
            "[array([4, 9, 8, 3]), array([6, 8, 6, 6]), array([2, 5, 2, 8])]\n"
          ],
          "name": "stdout"
        }
      ]
    },
    {
      "cell_type": "code",
      "metadata": {
        "id": "NPhF8_CqLwCG",
        "colab": {
          "base_uri": "https://localhost:8080/"
        },
        "outputId": "4d0fcf19-01b6-41c5-926f-21e8fdb0e2f0"
      },
      "source": [
        "c = np.random.randint(10, size=(2,3,2)) \n",
        "\n",
        "print(c.tolist())\n",
        "print(list(c))\n"
      ],
      "execution_count": 22,
      "outputs": [
        {
          "output_type": "stream",
          "text": [
            "[[[2, 8], [3, 3], [7, 6]], [[3, 1], [1, 5], [2, 7]]]\n",
            "[array([[2, 8],\n",
            "       [3, 3],\n",
            "       [7, 6]]), array([[3, 1],\n",
            "       [1, 5],\n",
            "       [2, 7]])]\n"
          ],
          "name": "stdout"
        }
      ]
    },
    {
      "cell_type": "code",
      "metadata": {
        "id": "3Hc8vQYtLwCH",
        "colab": {
          "base_uri": "https://localhost:8080/"
        },
        "outputId": "986f6f5e-6d32-4d67-e68a-3d2178beeb3f"
      },
      "source": [
        "def tolist(iterable):\n",
        "    return iterable.tolist(),list(iterable)\n",
        "\n",
        "\n",
        "print(tolist(a))\n",
        "print(tolist(b))\n",
        "print(tolist(c))"
      ],
      "execution_count": 27,
      "outputs": [
        {
          "output_type": "stream",
          "text": [
            "([5, 7, 5, 0, 3, 8], [5, 7, 5, 0, 3, 8])\n",
            "([[4, 9, 8, 3], [6, 8, 6, 6], [2, 5, 2, 8]], [array([4, 9, 8, 3]), array([6, 8, 6, 6]), array([2, 5, 2, 8])])\n",
            "([[[2, 8], [3, 3], [7, 6]], [[3, 1], [1, 5], [2, 7]]], [array([[2, 8],\n",
            "       [3, 3],\n",
            "       [7, 6]]), array([[3, 1],\n",
            "       [1, 5],\n",
            "       [2, 7]])])\n"
          ],
          "name": "stdout"
        }
      ]
    }
  ]
}